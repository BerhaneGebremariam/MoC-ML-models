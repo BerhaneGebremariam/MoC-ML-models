{
 "cells": [
  {
   "cell_type": "code",
   "id": "initial_id",
   "metadata": {
    "collapsed": true,
    "ExecuteTime": {
     "end_time": "2025-03-31T16:06:25.066444Z",
     "start_time": "2025-03-31T16:06:19.336417Z"
    }
   },
   "source": [
    "from sklearn.ensemble import RandomForestClassifier\n",
    "from sklearn.model_selection import train_test_split\n",
    "from sklearn.model_selection import KFold, GroupKFold\n",
    "from sklearn.metrics import accuracy_score\n",
    "import numpy as np\n",
    "from scipy.stats import wilcoxon\n",
    "import pandas as pd\n",
    "import os\n",
    "from explanatory_analysis import SpDataCleaner\n",
    "import matplotlib.pyplot as plt\n",
    "import seaborn as sns\n",
    "import random\n",
    "import tensorflow as tf\n",
    "\n",
    "from tensorflow.keras.models import Sequential\n",
    "from tensorflow.keras.layers import Dense, Dropout\n",
    "from tensorflow.keras.callbacks import EarlyStopping\n",
    "from tensorflow.keras.optimizers import Adam\n",
    "from sklearn.preprocessing import StandardScaler"
   ],
   "outputs": [],
   "execution_count": 1
  },
  {
   "metadata": {
    "ExecuteTime": {
     "end_time": "2025-03-31T16:06:25.097718Z",
     "start_time": "2025-03-31T16:06:25.082085Z"
    }
   },
   "cell_type": "code",
   "source": [
    "df_rf_params = pd.read_csv('reports/5_20.0/best_params_rf_5.0_20.0.csv')\n",
    "df_rf_params.rename(columns={'Unnamed: 0': 'Model'}, inplace=True)\n",
    "df_rf_params.columns"
   ],
   "id": "360835626454fd19",
   "outputs": [
    {
     "data": {
      "text/plain": [
       "Index(['Model', 'n_estimators', 'min_samples_split', 'min_samples_leaf',\n",
       "       'max_depth', 'criterion', 'bootstrap'],\n",
       "      dtype='object')"
      ]
     },
     "execution_count": 2,
     "metadata": {},
     "output_type": "execute_result"
    }
   ],
   "execution_count": 2
  },
  {
   "metadata": {
    "ExecuteTime": {
     "end_time": "2025-03-31T16:06:25.381888Z",
     "start_time": "2025-03-31T16:06:25.192070Z"
    }
   },
   "cell_type": "code",
   "source": [
    "spdc = SpDataCleaner()\n",
    "spdc.to_dummies()\n",
    "moco_survey = spdc.df\n",
    "X = moco_survey.drop(['choice','ResponseId'], axis=1)\n",
    "y = moco_survey['choice']\n"
   ],
   "id": "2b4323378b6ecbaa",
   "outputs": [],
   "execution_count": 3
  },
  {
   "metadata": {
    "ExecuteTime": {
     "end_time": "2025-03-31T16:06:25.428969Z",
     "start_time": "2025-03-31T16:06:25.398242Z"
    }
   },
   "cell_type": "code",
   "source": [
    "def rq_1_overfitting_rf(df):\n",
    "    \n",
    "    df_m1rf = df[df['Model'] == 'M1RF']\n",
    "    max_depth = df_m1rf['max_depth'].values[0]\n",
    "    if str(max_depth) == 'nan':\n",
    "        max_depth = None\n",
    "    else:\n",
    "        max_depth = int(max_depth)\n",
    "        \n",
    "    rf_M1RF = RandomForestClassifier(n_estimators=df_m1rf['n_estimators'].values[0], max_depth=max_depth,min_samples_split=df_m1rf['min_samples_split'].values[0], min_samples_leaf=df_m1rf['min_samples_leaf'].values[0], criterion=df_m1rf['criterion'].values[0], bootstrap=df_m1rf['bootstrap'].values[0], random_state=42)\n",
    "    \n",
    "    \n",
    "    df_m3rf = df[df['Model'] == 'M3RF']\n",
    "    max_depth = df_m3rf['max_depth'].values[0]\n",
    "    if str(max_depth) == 'nan':\n",
    "        max_depth = None\n",
    "    else:\n",
    "        max_depth = int(max_depth)\n",
    "    \n",
    "    rf_M3RF = RandomForestClassifier(n_estimators=df_m3rf['n_estimators'].values[0], max_depth=max_depth,min_samples_split=df_m3rf['min_samples_split'].values[0], min_samples_leaf=df_m3rf['min_samples_leaf'].values[0], criterion=df_m3rf['criterion'].values[0], bootstrap=df_m3rf['bootstrap'].values[0], random_state=42)\n",
    "    \n",
    "    \n",
    "    M1RF = []\n",
    "    M3RF = []\n",
    "    \n",
    "    kfold = KFold(n_splits=10, shuffle=True, random_state=42)\n",
    "    for train_val_index,test_index in kfold.split(X):\n",
    "        \n",
    "        x_train_val, x_test = X.iloc[train_val_index], X.iloc[test_index]\n",
    "        y_train_val, y_test = y.iloc[train_val_index], y.iloc[test_index]\n",
    "        \n",
    "        x_train, x_val, y_train, y_val = train_test_split(x_train_val, y_train_val, test_size=0.11, random_state=42)\n",
    "        \n",
    "        rf_M1RF.fit(x_train, y_train)\n",
    "        y_pred_val = rf_M1RF.predict(x_val)\n",
    "        \n",
    "        y_pred_test = rf_M1RF.predict(x_test)\n",
    "        \n",
    "        M1RF.append(-(accuracy_score(y_test, y_pred_test) - accuracy_score(y_val, y_pred_val))*100)\n",
    "        \n",
    "        \n",
    "    group_fold = GroupKFold(n_splits=10)\n",
    "    \n",
    "    for train_val_index,test_index in group_fold.split(X, y, groups=moco_survey['ResponseId']):\n",
    "        \n",
    "        x_train_val, x_test = X.iloc[train_val_index], X.iloc[test_index]\n",
    "        y_train_val, y_test = y.iloc[train_val_index], y.iloc[test_index]\n",
    "        \n",
    "        x_train, x_val, y_train, y_val = train_test_split(x_train_val, y_train_val, test_size=0.11, random_state=42)\n",
    "        \n",
    "        rf_M3RF.fit(x_train, y_train)\n",
    "        y_pred_val = rf_M3RF.predict(x_val)\n",
    "        \n",
    "        y_pred_test = rf_M3RF.predict(x_test)\n",
    "        \n",
    "        M3RF.append(-(accuracy_score(y_test, y_pred_test) - accuracy_score(y_val, y_pred_val))*100)\n",
    "        \n",
    "    return pd.DataFrame({'M1RF': M1RF, 'M3RF': M3RF})\n",
    "\n",
    "    "
   ],
   "id": "4ff591d410425ae1",
   "outputs": [],
   "execution_count": 4
  },
  {
   "metadata": {
    "ExecuteTime": {
     "end_time": "2025-03-31T16:15:27.382369Z",
     "start_time": "2025-03-31T16:06:25.460711Z"
    }
   },
   "cell_type": "code",
   "source": [
    "df_1= rq_1_overfitting_rf(df_rf_params)  \n",
    "df_1"
   ],
   "id": "7419df499ce5ef0",
   "outputs": [
    {
     "data": {
      "text/plain": [
       "       M1RF       M3RF\n",
       "0  0.742894  20.850566\n",
       "1  2.232072  17.767419\n",
       "2 -0.250303  21.098134\n",
       "3  1.925705  15.924078\n",
       "4  1.870104  16.169027\n",
       "5  1.184507  17.285375\n",
       "6  0.929426  15.774435\n",
       "7 -1.177417  13.490485\n",
       "8 -3.031630  16.966914\n",
       "9 -0.985135  15.552071"
      ],
      "text/html": [
       "<div>\n",
       "<style scoped>\n",
       "    .dataframe tbody tr th:only-of-type {\n",
       "        vertical-align: middle;\n",
       "    }\n",
       "\n",
       "    .dataframe tbody tr th {\n",
       "        vertical-align: top;\n",
       "    }\n",
       "\n",
       "    .dataframe thead th {\n",
       "        text-align: right;\n",
       "    }\n",
       "</style>\n",
       "<table border=\"1\" class=\"dataframe\">\n",
       "  <thead>\n",
       "    <tr style=\"text-align: right;\">\n",
       "      <th></th>\n",
       "      <th>M1RF</th>\n",
       "      <th>M3RF</th>\n",
       "    </tr>\n",
       "  </thead>\n",
       "  <tbody>\n",
       "    <tr>\n",
       "      <th>0</th>\n",
       "      <td>0.742894</td>\n",
       "      <td>20.850566</td>\n",
       "    </tr>\n",
       "    <tr>\n",
       "      <th>1</th>\n",
       "      <td>2.232072</td>\n",
       "      <td>17.767419</td>\n",
       "    </tr>\n",
       "    <tr>\n",
       "      <th>2</th>\n",
       "      <td>-0.250303</td>\n",
       "      <td>21.098134</td>\n",
       "    </tr>\n",
       "    <tr>\n",
       "      <th>3</th>\n",
       "      <td>1.925705</td>\n",
       "      <td>15.924078</td>\n",
       "    </tr>\n",
       "    <tr>\n",
       "      <th>4</th>\n",
       "      <td>1.870104</td>\n",
       "      <td>16.169027</td>\n",
       "    </tr>\n",
       "    <tr>\n",
       "      <th>5</th>\n",
       "      <td>1.184507</td>\n",
       "      <td>17.285375</td>\n",
       "    </tr>\n",
       "    <tr>\n",
       "      <th>6</th>\n",
       "      <td>0.929426</td>\n",
       "      <td>15.774435</td>\n",
       "    </tr>\n",
       "    <tr>\n",
       "      <th>7</th>\n",
       "      <td>-1.177417</td>\n",
       "      <td>13.490485</td>\n",
       "    </tr>\n",
       "    <tr>\n",
       "      <th>8</th>\n",
       "      <td>-3.031630</td>\n",
       "      <td>16.966914</td>\n",
       "    </tr>\n",
       "    <tr>\n",
       "      <th>9</th>\n",
       "      <td>-0.985135</td>\n",
       "      <td>15.552071</td>\n",
       "    </tr>\n",
       "  </tbody>\n",
       "</table>\n",
       "</div>"
      ]
     },
     "execution_count": 5,
     "metadata": {},
     "output_type": "execute_result"
    }
   ],
   "execution_count": 5
  },
  {
   "metadata": {
    "ExecuteTime": {
     "end_time": "2025-03-31T16:15:27.508754Z",
     "start_time": "2025-03-31T16:15:27.476947Z"
    }
   },
   "cell_type": "code",
   "source": "df_1.describe()",
   "id": "4c76558e48620b27",
   "outputs": [
    {
     "data": {
      "text/plain": [
       "            M1RF       M3RF\n",
       "count  10.000000  10.000000\n",
       "mean    0.344022  17.087850\n",
       "std     1.681047   2.356532\n",
       "min    -3.031630  13.490485\n",
       "25%    -0.801427  15.811846\n",
       "50%     0.836160  16.567971\n",
       "75%     1.698705  17.646908\n",
       "max     2.232072  21.098134"
      ],
      "text/html": [
       "<div>\n",
       "<style scoped>\n",
       "    .dataframe tbody tr th:only-of-type {\n",
       "        vertical-align: middle;\n",
       "    }\n",
       "\n",
       "    .dataframe tbody tr th {\n",
       "        vertical-align: top;\n",
       "    }\n",
       "\n",
       "    .dataframe thead th {\n",
       "        text-align: right;\n",
       "    }\n",
       "</style>\n",
       "<table border=\"1\" class=\"dataframe\">\n",
       "  <thead>\n",
       "    <tr style=\"text-align: right;\">\n",
       "      <th></th>\n",
       "      <th>M1RF</th>\n",
       "      <th>M3RF</th>\n",
       "    </tr>\n",
       "  </thead>\n",
       "  <tbody>\n",
       "    <tr>\n",
       "      <th>count</th>\n",
       "      <td>10.000000</td>\n",
       "      <td>10.000000</td>\n",
       "    </tr>\n",
       "    <tr>\n",
       "      <th>mean</th>\n",
       "      <td>0.344022</td>\n",
       "      <td>17.087850</td>\n",
       "    </tr>\n",
       "    <tr>\n",
       "      <th>std</th>\n",
       "      <td>1.681047</td>\n",
       "      <td>2.356532</td>\n",
       "    </tr>\n",
       "    <tr>\n",
       "      <th>min</th>\n",
       "      <td>-3.031630</td>\n",
       "      <td>13.490485</td>\n",
       "    </tr>\n",
       "    <tr>\n",
       "      <th>25%</th>\n",
       "      <td>-0.801427</td>\n",
       "      <td>15.811846</td>\n",
       "    </tr>\n",
       "    <tr>\n",
       "      <th>50%</th>\n",
       "      <td>0.836160</td>\n",
       "      <td>16.567971</td>\n",
       "    </tr>\n",
       "    <tr>\n",
       "      <th>75%</th>\n",
       "      <td>1.698705</td>\n",
       "      <td>17.646908</td>\n",
       "    </tr>\n",
       "    <tr>\n",
       "      <th>max</th>\n",
       "      <td>2.232072</td>\n",
       "      <td>21.098134</td>\n",
       "    </tr>\n",
       "  </tbody>\n",
       "</table>\n",
       "</div>"
      ]
     },
     "execution_count": 6,
     "metadata": {},
     "output_type": "execute_result"
    }
   ],
   "execution_count": 6
  },
  {
   "metadata": {},
   "cell_type": "markdown",
   "source": [
    "This is to test if the gap between the validation and test accuracy is statistically significant\n",
    "for the M1RF and M3RF models, which means for the model which was trained and tested on a random sample of the dataset(M1RF) and the model which was trained on a random sample of the dataset and tested on a group of the dataset(M3RF). The null hypothesis is that the gap between the validation and test accuracy is the same for both models. The alternative hypothesis is that the gap between the validation and test accuracy is higher for the M3RF model than the M1RF model. The test used is the Wilcoxon signed-rank test for paired samples. The test is one-sided, as the alternative hypothesis is that the gap between the validation and test accuracy is higher for the M3RF model than the M1RF model. The significance level is 0.05. "
   ],
   "id": "5105c7ae6c448b2"
  },
  {
   "metadata": {
    "ExecuteTime": {
     "end_time": "2025-03-31T16:15:27.619052Z",
     "start_time": "2025-03-31T16:15:27.603608Z"
    }
   },
   "cell_type": "code",
   "source": [
    "p_value = wilcoxon(df_1['M3RF'],df_1['M1RF'],alternative='greater').pvalue\n",
    "print(f'p_value: {p_value}')"
   ],
   "id": "9997d49a30d458ad",
   "outputs": [
    {
     "name": "stdout",
     "output_type": "stream",
     "text": [
      "p_value: 0.0009765625\n"
     ]
    }
   ],
   "execution_count": 7
  },
  {
   "metadata": {},
   "cell_type": "markdown",
   "source": "The gap between the validation and test accuracy is higher for the M3RF model than the M1RF model. The p-value is 0.00098, which is less than the significance level of 0.05. Therefore, we reject the null hypothesis and conclude that the gap between the validation and test accuracy is higher for the M3RF model than the M1RF model. The following box plot and histogram can be referred.",
   "id": "663fda03ab29ac6d"
  },
  {
   "metadata": {
    "ExecuteTime": {
     "end_time": "2025-03-31T16:47:58.946744Z",
     "start_time": "2025-03-31T16:47:58.797897Z"
    }
   },
   "cell_type": "code",
   "source": [
    "plt.style.use('seaborn-white')\n",
    "plt.box(False)\n",
    "sns.boxplot(data=df_1)\n",
    "#plt.title('Boxplot of the gap between the validation\\n and test accuracy for M1RF and M3RF')\n",
    "plt.savefig(os.path.join('plots','boxplot_gap_rf.png'))\n"
   ],
   "id": "c8031e25c07b62f6",
   "outputs": [
    {
     "name": "stderr",
     "output_type": "stream",
     "text": [
      "C:\\Users\\berha\\AppData\\Local\\Temp\\ipykernel_15232\\26156864.py:1: MatplotlibDeprecationWarning: The seaborn styles shipped by Matplotlib are deprecated since 3.6, as they no longer correspond to the styles shipped by seaborn. However, they will remain available as 'seaborn-v0_8-<style>'. Alternatively, directly use the seaborn API instead.\n",
      "  plt.style.use('seaborn-white')\n"
     ]
    },
    {
     "data": {
      "text/plain": [
       "<Figure size 640x480 with 1 Axes>"
      ],
      "image/png": "[encoded data removed]"
     },
     "metadata": {},
     "output_type": "display_data"
    }
   ],
   "execution_count": 33
  },
  {
   "metadata": {
    "ExecuteTime": {
     "end_time": "2025-03-31T16:48:17.035806Z",
     "start_time": "2025-03-31T16:48:16.764594Z"
    }
   },
   "cell_type": "code",
   "source": [
    "plt.style.use('seaborn-white')\n",
    "plt.box(False)\n",
    "sns.histplot(df_1['M1RF'],label='M1RF',kde=True)\n",
    "sns.histplot(df_1['M3RF'],label='M3RF',kde=True)\n",
    "plt.xlabel('Accuracy Gap distribution for 10 CV')\n",
    "plt.legend()\n",
    "plt.savefig(os.path.join('plots','distribution_gap_rf.png'))\n"
   ],
   "id": "34ec2487993a104e",
   "outputs": [
    {
     "name": "stderr",
     "output_type": "stream",
     "text": [
      "C:\\Users\\berha\\AppData\\Local\\Temp\\ipykernel_15232\\3483924929.py:1: MatplotlibDeprecationWarning: The seaborn styles shipped by Matplotlib are deprecated since 3.6, as they no longer correspond to the styles shipped by seaborn. However, they will remain available as 'seaborn-v0_8-<style>'. Alternatively, directly use the seaborn API instead.\n",
      "  plt.style.use('seaborn-white')\n"
     ]
    },
    {
     "data": {
      "text/plain": [
       "<Figure size 640x480 with 1 Axes>"
      ],
      "image/png": "[encoded data removed]"
     },
     "metadata": {},
     "output_type": "display_data"
    }
   ],
   "execution_count": 34
  },
  {
   "metadata": {},
   "cell_type": "markdown",
   "source": "The next test is to check if significantly higher performance value has been achieved by using random sampling(M1RF) than using group sampling(M5RF). The null hypothesis is that the performance metrics the same for both models(there is no difference between the mean performance of both models). The alternative hypothesis is that the performance of M1RF is higher than M5RF. The test used is the Wilcoxon signed-rank test for paired samples. The test is one-sided, as the alternative hypothesis is that accuracy of M1RF is  higher than M5RF. The significance level is 0.05.",
   "id": "fce0c5ec5b28f830"
  },
  {
   "metadata": {
    "ExecuteTime": {
     "end_time": "2025-03-31T16:15:28.923207Z",
     "start_time": "2025-03-31T16:15:28.907682Z"
    }
   },
   "cell_type": "code",
   "source": [
    "def rq_1_performance_rf(df):\n",
    "    \n",
    "    df_m1rf = df[df['Model'] == 'M1RF']\n",
    "    max_depth = df_m1rf['max_depth'].values[0]\n",
    "    if str(max_depth) == 'nan':\n",
    "        max_depth = None\n",
    "    else:\n",
    "        max_depth = int(max_depth)\n",
    "        \n",
    "    rf_M1RF = RandomForestClassifier(n_estimators=df_m1rf['n_estimators'].values[0], max_depth=max_depth,min_samples_split=df_m1rf['min_samples_split'].values[0], min_samples_leaf=df_m1rf['min_samples_leaf'].values[0], criterion=df_m1rf['criterion'].values[0], bootstrap=df_m1rf['bootstrap'].values[0], random_state=42)\n",
    "    \n",
    "    \n",
    "    df_m5rf = df[df['Model'] == 'M5RF']\n",
    "    max_depth = df_m5rf['max_depth'].values[0]\n",
    "    if str(max_depth) == 'nan':\n",
    "        max_depth = None\n",
    "    else:\n",
    "        max_depth = int(max_depth)\n",
    "    \n",
    "    rf_M5RF = RandomForestClassifier(n_estimators=df_m5rf['n_estimators'].values[0], max_depth=max_depth,min_samples_split=df_m5rf['min_samples_split'].values[0], min_samples_leaf=df_m5rf['min_samples_leaf'].values[0], criterion=df_m5rf['criterion'].values[0], bootstrap=df_m5rf['bootstrap'].values[0], random_state=42)\n",
    "    \n",
    "    \n",
    "    M1RF = []\n",
    "    M5RF = []\n",
    "    \n",
    "    kfold = KFold(n_splits=10, shuffle=True, random_state=42)\n",
    "    for train_val_index,test_index in kfold.split(X):\n",
    "        \n",
    "        x_train_val, x_test = X.iloc[train_val_index], X.iloc[test_index]\n",
    "        y_train_val, y_test = y.iloc[train_val_index], y.iloc[test_index]\n",
    "        \n",
    "        x_train, x_val, y_train, y_val = train_test_split(x_train_val, y_train_val, test_size=0.11, random_state=42)\n",
    "        \n",
    "        rf_M1RF.fit(x_train, y_train)\n",
    "        y_pred_val = rf_M1RF.predict(x_val)\n",
    "        \n",
    "        y_pred_test = rf_M1RF.predict(x_test)\n",
    "        \n",
    "        M1RF.append(accuracy_score(y_val, y_pred_val)*100)\n",
    "        \n",
    "        \n",
    "    group_fold = GroupKFold(n_splits=10)\n",
    "    \n",
    "    for train_val_index,test_index in group_fold.split(X, y, groups=moco_survey['ResponseId']):\n",
    "        \n",
    "        x_train_val, x_test = X.iloc[train_val_index], X.iloc[test_index]\n",
    "        y_train_val, y_test = y.iloc[train_val_index], y.iloc[test_index]\n",
    "        \n",
    "        avg_acc = []\n",
    "        group_fold_2 = GroupKFold(n_splits=9)\n",
    "        for train_index,val_index in group_fold_2.split(x_train_val, y_train_val, groups=moco_survey['ResponseId'].iloc[train_val_index]):\n",
    "            x_train, x_val = x_train_val.iloc[train_index], x_train_val.iloc[val_index]\n",
    "            y_train, y_val = y_train_val.iloc[train_index], y_train_val.iloc[val_index]\n",
    "            \n",
    "            rf_M5RF.fit(x_train, y_train)\n",
    "            \n",
    "            y_pred_val = rf_M5RF.predict(x_val)\n",
    "            \n",
    "            y_pred_test = rf_M5RF.predict(x_test)\n",
    "            \n",
    "            avg_acc.append(accuracy_score(y_val, y_pred_val)*100)\n",
    "        \n",
    "        M5RF.append(np.mean(avg_acc))\n",
    "        \n",
    "    return pd.DataFrame({'M1RF': M1RF, 'M5RF': M5RF})\n",
    "\n",
    " "
   ],
   "id": "ba3f48db16685a84",
   "outputs": [],
   "execution_count": 10
  },
  {
   "metadata": {
    "ExecuteTime": {
     "end_time": "2025-03-31T16:31:42.027555Z",
     "start_time": "2025-03-31T16:15:28.955947Z"
    }
   },
   "cell_type": "code",
   "source": [
    "df_2= rq_1_performance_rf(df_rf_params)   \n",
    "df_2"
   ],
   "id": "60eeb90ba94dfee9",
   "outputs": [
    {
     "data": {
      "text/plain": [
       "        M1RF       M5RF\n",
       "0  75.171553  59.543947\n",
       "1  75.857767  59.608900\n",
       "2  74.672489  59.403241\n",
       "3  76.107299  58.751100\n",
       "4  76.731129  58.607784\n",
       "5  76.107299  59.232695\n",
       "6  75.296319  59.137543\n",
       "7  74.610106  59.080882\n",
       "8  72.988147  59.083901\n",
       "9  73.736744  58.580247"
      ],
      "text/html": [
       "<div>\n",
       "<style scoped>\n",
       "    .dataframe tbody tr th:only-of-type {\n",
       "        vertical-align: middle;\n",
       "    }\n",
       "\n",
       "    .dataframe tbody tr th {\n",
       "        vertical-align: top;\n",
       "    }\n",
       "\n",
       "    .dataframe thead th {\n",
       "        text-align: right;\n",
       "    }\n",
       "</style>\n",
       "<table border=\"1\" class=\"dataframe\">\n",
       "  <thead>\n",
       "    <tr style=\"text-align: right;\">\n",
       "      <th></th>\n",
       "      <th>M1RF</th>\n",
       "      <th>M5RF</th>\n",
       "    </tr>\n",
       "  </thead>\n",
       "  <tbody>\n",
       "    <tr>\n",
       "      <th>0</th>\n",
       "      <td>75.171553</td>\n",
       "      <td>59.543947</td>\n",
       "    </tr>\n",
       "    <tr>\n",
       "      <th>1</th>\n",
       "      <td>75.857767</td>\n",
       "      <td>59.608900</td>\n",
       "    </tr>\n",
       "    <tr>\n",
       "      <th>2</th>\n",
       "      <td>74.672489</td>\n",
       "      <td>59.403241</td>\n",
       "    </tr>\n",
       "    <tr>\n",
       "      <th>3</th>\n",
       "      <td>76.107299</td>\n",
       "      <td>58.751100</td>\n",
       "    </tr>\n",
       "    <tr>\n",
       "      <th>4</th>\n",
       "      <td>76.731129</td>\n",
       "      <td>58.607784</td>\n",
       "    </tr>\n",
       "    <tr>\n",
       "      <th>5</th>\n",
       "      <td>76.107299</td>\n",
       "      <td>59.232695</td>\n",
       "    </tr>\n",
       "    <tr>\n",
       "      <th>6</th>\n",
       "      <td>75.296319</td>\n",
       "      <td>59.137543</td>\n",
       "    </tr>\n",
       "    <tr>\n",
       "      <th>7</th>\n",
       "      <td>74.610106</td>\n",
       "      <td>59.080882</td>\n",
       "    </tr>\n",
       "    <tr>\n",
       "      <th>8</th>\n",
       "      <td>72.988147</td>\n",
       "      <td>59.083901</td>\n",
       "    </tr>\n",
       "    <tr>\n",
       "      <th>9</th>\n",
       "      <td>73.736744</td>\n",
       "      <td>58.580247</td>\n",
       "    </tr>\n",
       "  </tbody>\n",
       "</table>\n",
       "</div>"
      ]
     },
     "execution_count": 11,
     "metadata": {},
     "output_type": "execute_result"
    }
   ],
   "execution_count": 11
  },
  {
   "metadata": {
    "ExecuteTime": {
     "end_time": "2025-03-31T16:31:42.151075Z",
     "start_time": "2025-03-31T16:31:42.122742Z"
    }
   },
   "cell_type": "code",
   "source": "df_2.describe()",
   "id": "16ec1d7cd86fa8ba",
   "outputs": [
    {
     "data": {
      "text/plain": [
       "            M1RF       M5RF\n",
       "count  10.000000  10.000000\n",
       "mean   75.127885  59.103024\n",
       "std     1.156678   0.365411\n",
       "min    72.988147  58.580247\n",
       "25%    74.625702  58.833546\n",
       "50%    75.233936  59.110722\n",
       "75%    76.044916  59.360604\n",
       "max    76.731129  59.608900"
      ],
      "text/html": [
       "<div>\n",
       "<style scoped>\n",
       "    .dataframe tbody tr th:only-of-type {\n",
       "        vertical-align: middle;\n",
       "    }\n",
       "\n",
       "    .dataframe tbody tr th {\n",
       "        vertical-align: top;\n",
       "    }\n",
       "\n",
       "    .dataframe thead th {\n",
       "        text-align: right;\n",
       "    }\n",
       "</style>\n",
       "<table border=\"1\" class=\"dataframe\">\n",
       "  <thead>\n",
       "    <tr style=\"text-align: right;\">\n",
       "      <th></th>\n",
       "      <th>M1RF</th>\n",
       "      <th>M5RF</th>\n",
       "    </tr>\n",
       "  </thead>\n",
       "  <tbody>\n",
       "    <tr>\n",
       "      <th>count</th>\n",
       "      <td>10.000000</td>\n",
       "      <td>10.000000</td>\n",
       "    </tr>\n",
       "    <tr>\n",
       "      <th>mean</th>\n",
       "      <td>75.127885</td>\n",
       "      <td>59.103024</td>\n",
       "    </tr>\n",
       "    <tr>\n",
       "      <th>std</th>\n",
       "      <td>1.156678</td>\n",
       "      <td>0.365411</td>\n",
       "    </tr>\n",
       "    <tr>\n",
       "      <th>min</th>\n",
       "      <td>72.988147</td>\n",
       "      <td>58.580247</td>\n",
       "    </tr>\n",
       "    <tr>\n",
       "      <th>25%</th>\n",
       "      <td>74.625702</td>\n",
       "      <td>58.833546</td>\n",
       "    </tr>\n",
       "    <tr>\n",
       "      <th>50%</th>\n",
       "      <td>75.233936</td>\n",
       "      <td>59.110722</td>\n",
       "    </tr>\n",
       "    <tr>\n",
       "      <th>75%</th>\n",
       "      <td>76.044916</td>\n",
       "      <td>59.360604</td>\n",
       "    </tr>\n",
       "    <tr>\n",
       "      <th>max</th>\n",
       "      <td>76.731129</td>\n",
       "      <td>59.608900</td>\n",
       "    </tr>\n",
       "  </tbody>\n",
       "</table>\n",
       "</div>"
      ]
     },
     "execution_count": 12,
     "metadata": {},
     "output_type": "execute_result"
    }
   ],
   "execution_count": 12
  },
  {
   "metadata": {
    "ExecuteTime": {
     "end_time": "2025-03-31T16:31:42.354939Z",
     "start_time": "2025-03-31T16:31:42.337070Z"
    }
   },
   "cell_type": "code",
   "source": [
    "p_value = wilcoxon(df_2['M1RF'],df_2['M5RF'],alternative='greater').pvalue\n",
    "print(f'p_value: {p_value}')"
   ],
   "id": "785b7dc8caa8bfb0",
   "outputs": [
    {
     "name": "stdout",
     "output_type": "stream",
     "text": [
      "p_value: 0.0009765625\n"
     ]
    }
   ],
   "execution_count": 13
  },
  {
   "metadata": {},
   "cell_type": "markdown",
   "source": [
    "Similarly, the model M1RF has a higher performance than M5RF. The p-value is 0.00098, which is less than the significance level of 0.05. Therefore, we reject the null hypothesis and conclude that the performance of M1RF is higher than M5RF. This inferred a significant data leakage in the first model can be observed.\n",
    " The following box plot and histogram can be referred."
   ],
   "id": "b483578d53dc7591"
  },
  {
   "metadata": {
    "ExecuteTime": {
     "end_time": "2025-03-31T16:48:30.697381Z",
     "start_time": "2025-03-31T16:48:30.232410Z"
    }
   },
   "cell_type": "code",
   "source": [
    "plt.style.use('seaborn-white')\n",
    "plt.box(False)\n",
    "sns.boxplot(data=df_2)\n",
    "plt.savefig(os.path.join('plots','boxplot_performance_rf.png'))\n",
    "\n"
   ],
   "id": "628ad5dc4b0b9357",
   "outputs": [
    {
     "name": "stderr",
     "output_type": "stream",
     "text": [
      "C:\\Users\\berha\\AppData\\Local\\Temp\\ipykernel_15232\\4045609836.py:1: MatplotlibDeprecationWarning: The seaborn styles shipped by Matplotlib are deprecated since 3.6, as they no longer correspond to the styles shipped by seaborn. However, they will remain available as 'seaborn-v0_8-<style>'. Alternatively, directly use the seaborn API instead.\n",
      "  plt.style.use('seaborn-white')\n"
     ]
    },
    {
     "data": {
      "text/plain": [
       "<Figure size 640x480 with 1 Axes>"
      ],
      "image/png": "[encoded data removed]"
     },
     "metadata": {},
     "output_type": "display_data"
    }
   ],
   "execution_count": 35
  },
  {
   "metadata": {
    "ExecuteTime": {
     "end_time": "2025-03-31T16:48:37.045307Z",
     "start_time": "2025-03-31T16:48:36.650901Z"
    }
   },
   "cell_type": "code",
   "source": [
    "plt.style.use('seaborn-white')\n",
    "plt.box(False)\n",
    "sns.histplot(df_2['M1RF'],label='M1RF',kde=True)\n",
    "sns.histplot(df_2['M5RF'],label='M5RF',kde=True)\n",
    "plt.xlabel('Accuracy distribution for 10 CV')\n",
    "plt.legend()\n",
    "plt.savefig(os.path.join('plots','distribution_performance_rf.png'))\n"
   ],
   "id": "cc7b92deca1679af",
   "outputs": [
    {
     "name": "stderr",
     "output_type": "stream",
     "text": [
      "C:\\Users\\berha\\AppData\\Local\\Temp\\ipykernel_15232\\3485872520.py:1: MatplotlibDeprecationWarning: The seaborn styles shipped by Matplotlib are deprecated since 3.6, as they no longer correspond to the styles shipped by seaborn. However, they will remain available as 'seaborn-v0_8-<style>'. Alternatively, directly use the seaborn API instead.\n",
      "  plt.style.use('seaborn-white')\n"
     ]
    },
    {
     "data": {
      "text/plain": [
       "<Figure size 640x480 with 1 Axes>"
      ],
      "image/png": "[encoded data removed]"
     },
     "metadata": {},
     "output_type": "display_data"
    }
   ],
   "execution_count": 36
  },
  {
   "metadata": {
    "ExecuteTime": {
     "end_time": "2025-03-31T16:31:43.791719Z",
     "start_time": "2025-03-31T16:31:43.768613Z"
    }
   },
   "cell_type": "code",
   "source": [
    "df_ann_params = pd.read_csv('reports/5_20.0/best_params_ann_5.0_20.0.csv')\n",
    "df_ann_params.rename(columns={'Unnamed: 0': 'Model'}, inplace=True)\n",
    "df_ann_params"
   ],
   "id": "7825a852090ffd8a",
   "outputs": [
    {
     "data": {
      "text/plain": [
       "     Model  n_hidden_layers  n_neurons  learning_rate  batch_size  n_epochs  \\\n",
       "0    M1ANN                2        128          0.010         500        25   \n",
       "1    M2ANN                2        128          0.010         500        25   \n",
       "2    M3ANN                2        256          0.001         500        45   \n",
       "3    M4ANN                3         32          0.001         128        60   \n",
       "4    M5ANN                1        256          0.010         128        60   \n",
       "5    M6ANN                1         64          0.001        1000       100   \n",
       "6    M7ANN                3        256          0.010         500        60   \n",
       "7    M8ANN                3         32          0.001         128        60   \n",
       "8    M9ANN                3        256          0.010         500        60   \n",
       "9   M10ANN                3         32          0.001         128        60   \n",
       "10  M11ANN                1         32          0.001        1000        45   \n",
       "11  M12ANN                1         64          0.001        1000       100   \n",
       "\n",
       "    dropout  \n",
       "0      0.30  \n",
       "1      0.30  \n",
       "2      0.00  \n",
       "3      0.15  \n",
       "4      0.30  \n",
       "5      0.50  \n",
       "6      0.00  \n",
       "7      0.15  \n",
       "8      0.00  \n",
       "9      0.15  \n",
       "10     0.15  \n",
       "11     0.50  "
      ],
      "text/html": [
       "<div>\n",
       "<style scoped>\n",
       "    .dataframe tbody tr th:only-of-type {\n",
       "        vertical-align: middle;\n",
       "    }\n",
       "\n",
       "    .dataframe tbody tr th {\n",
       "        vertical-align: top;\n",
       "    }\n",
       "\n",
       "    .dataframe thead th {\n",
       "        text-align: right;\n",
       "    }\n",
       "</style>\n",
       "<table border=\"1\" class=\"dataframe\">\n",
       "  <thead>\n",
       "    <tr style=\"text-align: right;\">\n",
       "      <th></th>\n",
       "      <th>Model</th>\n",
       "      <th>n_hidden_layers</th>\n",
       "      <th>n_neurons</th>\n",
       "      <th>learning_rate</th>\n",
       "      <th>batch_size</th>\n",
       "      <th>n_epochs</th>\n",
       "      <th>dropout</th>\n",
       "    </tr>\n",
       "  </thead>\n",
       "  <tbody>\n",
       "    <tr>\n",
       "      <th>0</th>\n",
       "      <td>M1ANN</td>\n",
       "      <td>2</td>\n",
       "      <td>128</td>\n",
       "      <td>0.010</td>\n",
       "      <td>500</td>\n",
       "      <td>25</td>\n",
       "      <td>0.30</td>\n",
       "    </tr>\n",
       "    <tr>\n",
       "      <th>1</th>\n",
       "      <td>M2ANN</td>\n",
       "      <td>2</td>\n",
       "      <td>128</td>\n",
       "      <td>0.010</td>\n",
       "      <td>500</td>\n",
       "      <td>25</td>\n",
       "      <td>0.30</td>\n",
       "    </tr>\n",
       "    <tr>\n",
       "      <th>2</th>\n",
       "      <td>M3ANN</td>\n",
       "      <td>2</td>\n",
       "      <td>256</td>\n",
       "      <td>0.001</td>\n",
       "      <td>500</td>\n",
       "      <td>45</td>\n",
       "      <td>0.00</td>\n",
       "    </tr>\n",
       "    <tr>\n",
       "      <th>3</th>\n",
       "      <td>M4ANN</td>\n",
       "      <td>3</td>\n",
       "      <td>32</td>\n",
       "      <td>0.001</td>\n",
       "      <td>128</td>\n",
       "      <td>60</td>\n",
       "      <td>0.15</td>\n",
       "    </tr>\n",
       "    <tr>\n",
       "      <th>4</th>\n",
       "      <td>M5ANN</td>\n",
       "      <td>1</td>\n",
       "      <td>256</td>\n",
       "      <td>0.010</td>\n",
       "      <td>128</td>\n",
       "      <td>60</td>\n",
       "      <td>0.30</td>\n",
       "    </tr>\n",
       "    <tr>\n",
       "      <th>5</th>\n",
       "      <td>M6ANN</td>\n",
       "      <td>1</td>\n",
       "      <td>64</td>\n",
       "      <td>0.001</td>\n",
       "      <td>1000</td>\n",
       "      <td>100</td>\n",
       "      <td>0.50</td>\n",
       "    </tr>\n",
       "    <tr>\n",
       "      <th>6</th>\n",
       "      <td>M7ANN</td>\n",
       "      <td>3</td>\n",
       "      <td>256</td>\n",
       "      <td>0.010</td>\n",
       "      <td>500</td>\n",
       "      <td>60</td>\n",
       "      <td>0.00</td>\n",
       "    </tr>\n",
       "    <tr>\n",
       "      <th>7</th>\n",
       "      <td>M8ANN</td>\n",
       "      <td>3</td>\n",
       "      <td>32</td>\n",
       "      <td>0.001</td>\n",
       "      <td>128</td>\n",
       "      <td>60</td>\n",
       "      <td>0.15</td>\n",
       "    </tr>\n",
       "    <tr>\n",
       "      <th>8</th>\n",
       "      <td>M9ANN</td>\n",
       "      <td>3</td>\n",
       "      <td>256</td>\n",
       "      <td>0.010</td>\n",
       "      <td>500</td>\n",
       "      <td>60</td>\n",
       "      <td>0.00</td>\n",
       "    </tr>\n",
       "    <tr>\n",
       "      <th>9</th>\n",
       "      <td>M10ANN</td>\n",
       "      <td>3</td>\n",
       "      <td>32</td>\n",
       "      <td>0.001</td>\n",
       "      <td>128</td>\n",
       "      <td>60</td>\n",
       "      <td>0.15</td>\n",
       "    </tr>\n",
       "    <tr>\n",
       "      <th>10</th>\n",
       "      <td>M11ANN</td>\n",
       "      <td>1</td>\n",
       "      <td>32</td>\n",
       "      <td>0.001</td>\n",
       "      <td>1000</td>\n",
       "      <td>45</td>\n",
       "      <td>0.15</td>\n",
       "    </tr>\n",
       "    <tr>\n",
       "      <th>11</th>\n",
       "      <td>M12ANN</td>\n",
       "      <td>1</td>\n",
       "      <td>64</td>\n",
       "      <td>0.001</td>\n",
       "      <td>1000</td>\n",
       "      <td>100</td>\n",
       "      <td>0.50</td>\n",
       "    </tr>\n",
       "  </tbody>\n",
       "</table>\n",
       "</div>"
      ]
     },
     "execution_count": 16,
     "metadata": {},
     "output_type": "execute_result"
    }
   ],
   "execution_count": 16
  },
  {
   "metadata": {
    "ExecuteTime": {
     "end_time": "2025-03-31T16:31:43.949Z",
     "start_time": "2025-03-31T16:31:43.903883Z"
    }
   },
   "cell_type": "code",
   "source": [
    "def rq_1_overfitting_nn(df_ann_params):\n",
    "    \n",
    "    np.random.seed(42)\n",
    "    random.seed(42)\n",
    "    tf.random.set_seed(42)\n",
    "    \n",
    "    scaler = StandardScaler()\n",
    "    \n",
    "    M1ANN = []\n",
    "    M3ANN = []\n",
    "    \n",
    "    df_m1ann = df_ann_params[df_ann_params['Model'] == 'M1ANN']\n",
    "    dropout = df_m1ann['dropout'].values[0]\n",
    "    n_hidden_layers = df_m1ann['n_hidden_layers'].values[0]\n",
    "    n_neurons = df_m1ann['n_neurons'].values[0]\n",
    "    learning_rate = df_m1ann['learning_rate'].values[0]\n",
    "    batch_size = df_m1ann['batch_size'].values[0]\n",
    "    n_epochs = df_m1ann['n_epochs'].values[0]\n",
    "    \n",
    "    kf = KFold(n_splits=10, shuffle=True, random_state=42)\n",
    "    \n",
    "    for train_val_index,test_index in kf.split(X):\n",
    "        \n",
    "        x_train_val, x_test = X.iloc[train_val_index], X.iloc[test_index]\n",
    "        y_train_val, y_test = y.iloc[train_val_index], y.iloc[test_index]\n",
    "        \n",
    "        x_train, x_val, y_train, y_val = train_test_split(x_train_val, y_train_val, test_size=0.11, random_state=42)\n",
    "        \n",
    "        x_train = x_train.values\n",
    "        x_val = x_val.values\n",
    "        x_test = x_test.values\n",
    "        x_train = scaler.fit_transform(x_train)\n",
    "        x_val = scaler.transform(x_val)\n",
    "        x_test = scaler.transform(x_test)\n",
    "        \n",
    "        m1ann= Sequential()\n",
    "        m1ann.add(Dense(63, activation='relu'))\n",
    "        m1ann.add(Dropout(dropout,seed=42))\n",
    "        for _ in range(n_hidden_layers):\n",
    "            m1ann.add(Dense(n_neurons, activation='relu'))\n",
    "            m1ann.add(Dropout(dropout,seed=42))\n",
    "        m1ann.add(Dense(8, activation='softmax'))\n",
    "            \n",
    "        m1ann.compile(optimizer=Adam(learning_rate=learning_rate), loss='sparse_categorical_crossentropy', metrics=['accuracy'])\n",
    "        \n",
    "        m1ann.fit(x_train, y_train, batch_size=batch_size, epochs=n_epochs, verbose=0, callbacks=[EarlyStopping(patience=10,monitor ='val_accuracy',mode='max')], validation_data=(x_val, y_val))\n",
    "        y_pred_val = np.argmax(m1ann.predict(x_val), axis=-1)\n",
    "        \n",
    "        y_pred_test = np.argmax(m1ann.predict(x_test), axis=-1)\n",
    "        \n",
    "        M1ANN.append(-(accuracy_score(y_test, y_pred_test) - accuracy_score(y_val, y_pred_val))*100)\n",
    "            \n",
    "    df_m3ann = df_ann_params[df_ann_params['Model'] == 'M3ANN']\n",
    "    dropout = df_m3ann['dropout'].values[0]\n",
    "    n_hidden_layers = df_m3ann['n_hidden_layers'].values[0]\n",
    "    n_neurons = df_m3ann['n_neurons'].values[0]\n",
    "    learning_rate = df_m3ann['learning_rate'].values[0]\n",
    "    batch_size = df_m3ann['batch_size'].values[0]\n",
    "    n_epochs = df_m3ann['n_epochs'].values[0]\n",
    "    \n",
    "    group_fold = GroupKFold(n_splits=10)\n",
    "    \n",
    "    for train_val_index,test_index in group_fold.split(X, y, groups=moco_survey['ResponseId']):\n",
    "        x_train_val, x_test = X.iloc[train_val_index], X.iloc[test_index]\n",
    "        y_train_val, y_test = y.iloc[train_val_index], y.iloc[test_index]\n",
    "        \n",
    "        x_train, x_val, y_train, y_val = train_test_split(x_train_val, y_train_val, test_size=0.11, random_state=42)\n",
    "        scaler_1 = StandardScaler()\n",
    "        x_train = x_train.values\n",
    "        x_val = x_val.values\n",
    "        x_test = x_test.values\n",
    "        \n",
    "        x_train = scaler_1.fit_transform(x_train)\n",
    "        x_val = scaler_1.transform(x_val)\n",
    "        x_test = scaler_1.transform(x_test)\n",
    "        \n",
    "        m3ann= Sequential()\n",
    "        m3ann.add(Dense(63, activation='relu'))\n",
    "        m3ann.add(Dropout(dropout,seed=42))\n",
    "        for _ in range(n_hidden_layers):\n",
    "            m3ann.add(Dense(n_neurons, activation='relu'))\n",
    "            m3ann.add(Dropout(dropout,seed=42))\n",
    "        m3ann.add(Dense(8, activation='softmax'))\n",
    "            \n",
    "        m3ann.compile(optimizer=Adam(learning_rate=learning_rate), loss='sparse_categorical_crossentropy', metrics=['accuracy'])\n",
    "        \n",
    "        m3ann.fit(x_train, y_train, batch_size=batch_size, epochs=n_epochs, verbose=0, callbacks=[EarlyStopping(patience=10,monitor ='val_accuracy',mode='max')], validation_data=(x_val, y_val))\n",
    "        \n",
    "        y_pred_val = np.argmax(m3ann.predict(x_val), axis=-1)\n",
    "        \n",
    "        \n",
    "        y_pred_test = np.argmax(m3ann.predict(x_test), axis=-1)\n",
    "        \n",
    "        M3ANN.append(-(accuracy_score(y_test, y_pred_test) - accuracy_score(y_val, y_pred_val))*100)\n",
    "        \n",
    "    return pd.DataFrame({'M1ANN': M1ANN, 'M3ANN': M3ANN})    \n"
   ],
   "id": "7fc838cb028024c0",
   "outputs": [],
   "execution_count": 17
  },
  {
   "metadata": {
    "ExecuteTime": {
     "end_time": "2025-03-31T16:33:58.126106Z",
     "start_time": "2025-03-31T16:31:44.031338Z"
    }
   },
   "cell_type": "code",
   "source": [
    "df_3= rq_1_overfitting_nn(df_ann_params)\n",
    "df_3  "
   ],
   "id": "d1665d02c9db4fb4",
   "outputs": [
    {
     "name": "stdout",
     "output_type": "stream",
     "text": [
      "51/51 [==============================] - 0s 932us/step\n",
      "51/51 [==============================] - 0s 923us/step\n",
      "51/51 [==============================] - 0s 1ms/step\n",
      "51/51 [==============================] - 0s 1ms/step\n",
      "51/51 [==============================] - 0s 893us/step\n",
      "51/51 [==============================] - 0s 910us/step\n",
      "51/51 [==============================] - 0s 4ms/step\n",
      "51/51 [==============================] - 0s 891us/step\n",
      "51/51 [==============================] - 0s 964us/step\n",
      "51/51 [==============================] - 0s 903us/step\n",
      "51/51 [==============================] - 0s 939us/step\n",
      "51/51 [==============================] - 0s 944us/step\n",
      "51/51 [==============================] - 0s 933us/step\n",
      "51/51 [==============================] - 0s 933us/step\n",
      "51/51 [==============================] - 0s 1ms/step\n",
      "51/51 [==============================] - 0s 1ms/step\n",
      "51/51 [==============================] - 0s 1ms/step\n",
      "51/51 [==============================] - 0s 1ms/step\n",
      "51/51 [==============================] - 0s 1ms/step\n",
      "51/51 [==============================] - 0s 1ms/step\n",
      "51/51 [==============================] - 0s 1ms/step\n",
      "51/51 [==============================] - 0s 1ms/step\n",
      "51/51 [==============================] - 0s 1ms/step\n",
      "51/51 [==============================] - 0s 1ms/step\n",
      "51/51 [==============================] - 0s 1ms/step\n",
      "51/51 [==============================] - 0s 1ms/step\n",
      "51/51 [==============================] - 0s 1ms/step\n",
      "51/51 [==============================] - 0s 2ms/step\n",
      "51/51 [==============================] - 0s 1ms/step\n",
      "51/51 [==============================] - 0s 1ms/step\n",
      "51/51 [==============================] - 0s 1ms/step\n",
      "51/51 [==============================] - 0s 1ms/step\n",
      "51/51 [==============================] - 0s 1ms/step\n",
      "51/51 [==============================] - 0s 1ms/step\n",
      "51/51 [==============================] - 0s 1ms/step\n",
      "51/51 [==============================] - 0s 1ms/step\n",
      "51/51 [==============================] - 0s 1ms/step\n",
      "51/51 [==============================] - 0s 1ms/step\n",
      "51/51 [==============================] - 0s 1ms/step\n",
      "51/51 [==============================] - 0s 1ms/step\n"
     ]
    },
    {
     "data": {
      "text/plain": [
       "      M1ANN      M3ANN\n",
       "0 -1.381713  25.272098\n",
       "1  1.520081  19.440170\n",
       "2 -1.694245  21.043144\n",
       "3  3.266189  22.935584\n",
       "4  0.229149  21.874418\n",
       "5  0.585568  17.131151\n",
       "6  0.023504  16.360297\n",
       "7 -0.592928  17.094491\n",
       "8 -1.059162  17.534445\n",
       "9  0.975766  18.838166"
      ],
      "text/html": [
       "<div>\n",
       "<style scoped>\n",
       "    .dataframe tbody tr th:only-of-type {\n",
       "        vertical-align: middle;\n",
       "    }\n",
       "\n",
       "    .dataframe tbody tr th {\n",
       "        vertical-align: top;\n",
       "    }\n",
       "\n",
       "    .dataframe thead th {\n",
       "        text-align: right;\n",
       "    }\n",
       "</style>\n",
       "<table border=\"1\" class=\"dataframe\">\n",
       "  <thead>\n",
       "    <tr style=\"text-align: right;\">\n",
       "      <th></th>\n",
       "      <th>M1ANN</th>\n",
       "      <th>M3ANN</th>\n",
       "    </tr>\n",
       "  </thead>\n",
       "  <tbody>\n",
       "    <tr>\n",
       "      <th>0</th>\n",
       "      <td>-1.381713</td>\n",
       "      <td>25.272098</td>\n",
       "    </tr>\n",
       "    <tr>\n",
       "      <th>1</th>\n",
       "      <td>1.520081</td>\n",
       "      <td>19.440170</td>\n",
       "    </tr>\n",
       "    <tr>\n",
       "      <th>2</th>\n",
       "      <td>-1.694245</td>\n",
       "      <td>21.043144</td>\n",
       "    </tr>\n",
       "    <tr>\n",
       "      <th>3</th>\n",
       "      <td>3.266189</td>\n",
       "      <td>22.935584</td>\n",
       "    </tr>\n",
       "    <tr>\n",
       "      <th>4</th>\n",
       "      <td>0.229149</td>\n",
       "      <td>21.874418</td>\n",
       "    </tr>\n",
       "    <tr>\n",
       "      <th>5</th>\n",
       "      <td>0.585568</td>\n",
       "      <td>17.131151</td>\n",
       "    </tr>\n",
       "    <tr>\n",
       "      <th>6</th>\n",
       "      <td>0.023504</td>\n",
       "      <td>16.360297</td>\n",
       "    </tr>\n",
       "    <tr>\n",
       "      <th>7</th>\n",
       "      <td>-0.592928</td>\n",
       "      <td>17.094491</td>\n",
       "    </tr>\n",
       "    <tr>\n",
       "      <th>8</th>\n",
       "      <td>-1.059162</td>\n",
       "      <td>17.534445</td>\n",
       "    </tr>\n",
       "    <tr>\n",
       "      <th>9</th>\n",
       "      <td>0.975766</td>\n",
       "      <td>18.838166</td>\n",
       "    </tr>\n",
       "  </tbody>\n",
       "</table>\n",
       "</div>"
      ]
     },
     "execution_count": 18,
     "metadata": {},
     "output_type": "execute_result"
    }
   ],
   "execution_count": 18
  },
  {
   "metadata": {
    "ExecuteTime": {
     "end_time": "2025-03-31T16:33:58.251400Z",
     "start_time": "2025-03-31T16:33:58.222275Z"
    }
   },
   "cell_type": "code",
   "source": "df_3.describe()",
   "id": "2acd1b7eb16c5ba9",
   "outputs": [
    {
     "data": {
      "text/plain": [
       "           M1ANN      M3ANN\n",
       "count  10.000000  10.000000\n",
       "mean    0.187221  19.752396\n",
       "std     1.499228   2.945111\n",
       "min    -1.694245  16.360297\n",
       "25%    -0.942604  17.231974\n",
       "50%     0.126327  19.139168\n",
       "75%     0.878217  21.666599\n",
       "max     3.266189  25.272098"
      ],
      "text/html": [
       "<div>\n",
       "<style scoped>\n",
       "    .dataframe tbody tr th:only-of-type {\n",
       "        vertical-align: middle;\n",
       "    }\n",
       "\n",
       "    .dataframe tbody tr th {\n",
       "        vertical-align: top;\n",
       "    }\n",
       "\n",
       "    .dataframe thead th {\n",
       "        text-align: right;\n",
       "    }\n",
       "</style>\n",
       "<table border=\"1\" class=\"dataframe\">\n",
       "  <thead>\n",
       "    <tr style=\"text-align: right;\">\n",
       "      <th></th>\n",
       "      <th>M1ANN</th>\n",
       "      <th>M3ANN</th>\n",
       "    </tr>\n",
       "  </thead>\n",
       "  <tbody>\n",
       "    <tr>\n",
       "      <th>count</th>\n",
       "      <td>10.000000</td>\n",
       "      <td>10.000000</td>\n",
       "    </tr>\n",
       "    <tr>\n",
       "      <th>mean</th>\n",
       "      <td>0.187221</td>\n",
       "      <td>19.752396</td>\n",
       "    </tr>\n",
       "    <tr>\n",
       "      <th>std</th>\n",
       "      <td>1.499228</td>\n",
       "      <td>2.945111</td>\n",
       "    </tr>\n",
       "    <tr>\n",
       "      <th>min</th>\n",
       "      <td>-1.694245</td>\n",
       "      <td>16.360297</td>\n",
       "    </tr>\n",
       "    <tr>\n",
       "      <th>25%</th>\n",
       "      <td>-0.942604</td>\n",
       "      <td>17.231974</td>\n",
       "    </tr>\n",
       "    <tr>\n",
       "      <th>50%</th>\n",
       "      <td>0.126327</td>\n",
       "      <td>19.139168</td>\n",
       "    </tr>\n",
       "    <tr>\n",
       "      <th>75%</th>\n",
       "      <td>0.878217</td>\n",
       "      <td>21.666599</td>\n",
       "    </tr>\n",
       "    <tr>\n",
       "      <th>max</th>\n",
       "      <td>3.266189</td>\n",
       "      <td>25.272098</td>\n",
       "    </tr>\n",
       "  </tbody>\n",
       "</table>\n",
       "</div>"
      ]
     },
     "execution_count": 19,
     "metadata": {},
     "output_type": "execute_result"
    }
   ],
   "execution_count": 19
  },
  {
   "metadata": {},
   "cell_type": "markdown",
   "source": [
    "This is to test if the gap between the validation and test accuracy is statistically significant\n",
    "for NN models M1ANN and M3ANN. The null hypothesis is that the gap between the validation and test accuracy is the same for both models. The alternative hypothesis is that the gap between the validation and test accuracy is higher for the M3ANN model than the M1ANN model. The test used is the Wilcoxon signed-rank test for paired samples. The test is one-sided, as the alternative hypothesis is that the gap between the validation and test accuracy is higher for the M3ANN model than the M1ANN model. The significance level is 0.05."
   ],
   "id": "cd0c4cac3f3ecdf"
  },
  {
   "metadata": {
    "ExecuteTime": {
     "end_time": "2025-03-31T16:33:58.471075Z",
     "start_time": "2025-03-31T16:33:58.454234Z"
    }
   },
   "cell_type": "code",
   "source": [
    "p_value = wilcoxon(df_3['M3ANN'],df_3['M1ANN'],alternative='greater').pvalue\n",
    "print(f'p_value: {p_value}')"
   ],
   "id": "cf0fb6efcc95e2d2",
   "outputs": [
    {
     "name": "stdout",
     "output_type": "stream",
     "text": [
      "p_value: 0.0009765625\n"
     ]
    }
   ],
   "execution_count": 20
  },
  {
   "metadata": {},
   "cell_type": "markdown",
   "source": "Visualizing the gap between the validation and test accuracy for M1ANN and M3ANN models using a box plot and histogram.",
   "id": "ec909c3616d7a4a8"
  },
  {
   "metadata": {
    "ExecuteTime": {
     "end_time": "2025-03-31T16:48:53.198451Z",
     "start_time": "2025-03-31T16:48:53.049530Z"
    }
   },
   "cell_type": "code",
   "source": [
    "plt.style.use('seaborn-white')\n",
    "plt.box(False)\n",
    "sns.boxplot(data=df_3)\n",
    "plt.savefig(os.path.join('plots','boxplot_gap_ann.png'))"
   ],
   "id": "4e83e94398545a0c",
   "outputs": [
    {
     "name": "stderr",
     "output_type": "stream",
     "text": [
      "C:\\Users\\berha\\AppData\\Local\\Temp\\ipykernel_15232\\260051620.py:1: MatplotlibDeprecationWarning: The seaborn styles shipped by Matplotlib are deprecated since 3.6, as they no longer correspond to the styles shipped by seaborn. However, they will remain available as 'seaborn-v0_8-<style>'. Alternatively, directly use the seaborn API instead.\n",
      "  plt.style.use('seaborn-white')\n"
     ]
    },
    {
     "data": {
      "text/plain": [
       "<Figure size 640x480 with 1 Axes>"
      ],
      "image/png": "[encoded data removed]"
     },
     "metadata": {},
     "output_type": "display_data"
    }
   ],
   "execution_count": 37
  },
  {
   "metadata": {
    "ExecuteTime": {
     "end_time": "2025-03-31T16:49:01.892930Z",
     "start_time": "2025-03-31T16:49:01.618876Z"
    }
   },
   "cell_type": "code",
   "source": [
    "plt.style.use('seaborn-white')\n",
    "plt.box(False)\n",
    "sns.histplot(df_3['M1ANN'],label='M1ANN',kde=True)\n",
    "sns.histplot(df_3['M3ANN'],label='M3ANN',kde=True)\n",
    "plt.xlabel('Accuracy Gap distribution for 10 CV')\n",
    "plt.legend()\n",
    "plt.savefig(os.path.join('plots','distribution_gap_ann.png'))"
   ],
   "id": "fa1d4725a25d5721",
   "outputs": [
    {
     "name": "stderr",
     "output_type": "stream",
     "text": [
      "C:\\Users\\berha\\AppData\\Local\\Temp\\ipykernel_15232\\402281826.py:1: MatplotlibDeprecationWarning: The seaborn styles shipped by Matplotlib are deprecated since 3.6, as they no longer correspond to the styles shipped by seaborn. However, they will remain available as 'seaborn-v0_8-<style>'. Alternatively, directly use the seaborn API instead.\n",
      "  plt.style.use('seaborn-white')\n"
     ]
    },
    {
     "data": {
      "text/plain": [
       "<Figure size 640x480 with 1 Axes>"
      ],
      "image/png": "[encoded data removed]"
     },
     "metadata": {},
     "output_type": "display_data"
    }
   ],
   "execution_count": 38
  },
  {
   "metadata": {
    "ExecuteTime": {
     "end_time": "2025-03-31T16:33:59.885310Z",
     "start_time": "2025-03-31T16:33:59.844063Z"
    }
   },
   "cell_type": "code",
   "source": [
    "def rq_1_performance_ann(df):\n",
    "    np.random.seed(42)\n",
    "    random.seed(42)\n",
    "    tf.random.set_seed(42)\n",
    "    \n",
    "    scaler = StandardScaler()\n",
    "    \n",
    "    M1ANN = []\n",
    "    M5ANN = []\n",
    "    \n",
    "    df_m1ann = df_ann_params[df_ann_params['Model'] == 'M1ANN']\n",
    "    dropout = df_m1ann['dropout'].values[0]\n",
    "    n_hidden_layers = df_m1ann['n_hidden_layers'].values[0]\n",
    "    n_neurons = df_m1ann['n_neurons'].values[0]\n",
    "    learning_rate = df_m1ann['learning_rate'].values[0]\n",
    "    batch_size = df_m1ann['batch_size'].values[0]\n",
    "    n_epochs = df_m1ann['n_epochs'].values[0]\n",
    "    \n",
    "    kf = KFold(n_splits=10, shuffle=True, random_state=42)\n",
    "    \n",
    "    for train_val_index,test_index in kf.split(X):\n",
    "        \n",
    "        x_train_val, x_test = X.iloc[train_val_index], X.iloc[test_index]\n",
    "        y_train_val, y_test = y.iloc[train_val_index], y.iloc[test_index]\n",
    "        \n",
    "        x_train, x_val, y_train, y_val = train_test_split(x_train_val, y_train_val, test_size=0.11, random_state=42)\n",
    "        \n",
    "        x_train = x_train.values\n",
    "        x_val = x_val.values\n",
    "        x_train = scaler.fit_transform(x_train)\n",
    "        x_val = scaler.transform(x_val)\n",
    "        \n",
    "        m1ann= Sequential()\n",
    "        m1ann.add(Dense(63, activation='relu'))\n",
    "        m1ann.add(Dropout(dropout,seed=42))\n",
    "        for _ in range(n_hidden_layers):\n",
    "            m1ann.add(Dense(n_neurons, activation='relu'))\n",
    "            m1ann.add(Dropout(dropout,seed=42))\n",
    "        m1ann.add(Dense(8, activation='softmax'))\n",
    "            \n",
    "        m1ann.compile(optimizer=Adam(learning_rate=learning_rate), loss='sparse_categorical_crossentropy', metrics=['accuracy'])\n",
    "        \n",
    "        m1ann.fit(x_train, y_train, batch_size=batch_size, epochs=n_epochs, verbose=0, callbacks=[EarlyStopping(patience=10,monitor ='val_accuracy',mode='max')], validation_data=(x_val, y_val))\n",
    "        y_pred_val = np.argmax(m1ann.predict(x_val), axis=-1)\n",
    "        \n",
    "        M1ANN.append(accuracy_score(y_val, y_pred_val)*100)\n",
    "        \n",
    "    df_m5ann = df_ann_params[df_ann_params['Model'] == 'M5ANN']\n",
    "    dropout = df_m5ann['dropout'].values[0]\n",
    "    n_hidden_layers = df_m5ann['n_hidden_layers'].values[0]\n",
    "    n_neurons = df_m5ann['n_neurons'].values[0]\n",
    "    learning_rate = df_m5ann['learning_rate'].values[0]\n",
    "    batch_size = df_m5ann['batch_size'].values[0]\n",
    "    n_epochs = df_m5ann['n_epochs'].values[0]\n",
    "    \n",
    "    group_fold = GroupKFold(n_splits=10)\n",
    "    \n",
    "    for train_val_index,test_index in group_fold.split(X, y, groups=moco_survey['ResponseId']):\n",
    "        x_train_val, x_test = X.iloc[train_val_index], X.iloc[test_index]\n",
    "        y_train_val, y_test = y.iloc[train_val_index], y.iloc[test_index]\n",
    "        \n",
    "        avg_acc = []\n",
    "        \n",
    "        group_fold_2 = GroupKFold(n_splits=9) # to make the test and validation set the same size\n",
    "        \n",
    "        for train_index,val_index in group_fold_2.split(x_train_val, y_train_val, groups=moco_survey['ResponseId'].iloc[train_val_index]):\n",
    "            x_train, x_val = x_train_val.iloc[train_index], x_train_val.iloc[val_index]\n",
    "            y_train, y_val = y_train_val.iloc[train_index], y_train_val.iloc[val_index]\n",
    "            \n",
    "            x_train = x_train.values\n",
    "            x_val = x_val.values\n",
    "            x_train = scaler.fit_transform(x_train)\n",
    "            x_val = scaler.transform(x_val)\n",
    "            \n",
    "            m5ann= Sequential()\n",
    "            m5ann.add(Dense(63, activation='relu'))\n",
    "            m5ann.add(Dropout(dropout,seed=42))\n",
    "            for _ in range(n_hidden_layers):\n",
    "                m5ann.add(Dense(n_neurons, activation='relu'))\n",
    "                m5ann.add(Dropout(dropout,seed=42))\n",
    "            m5ann.add(Dense(8, activation='softmax'))\n",
    "                \n",
    "            m5ann.compile(optimizer=Adam(learning_rate=learning_rate), loss='sparse_categorical_crossentropy', metrics=['accuracy'])\n",
    "            \n",
    "            m5ann.fit(x_train, y_train, batch_size=batch_size, epochs=n_epochs, verbose=0, callbacks=[EarlyStopping(patience=10,monitor ='val_accuracy',mode='max')], validation_data=(x_val, y_val))\n",
    "            \n",
    "            y_pred_val = np.argmax(m5ann.predict(x_val), axis=-1)\n",
    "            \n",
    "            avg_acc.append(accuracy_score(y_val, y_pred_val)*100)\n",
    "            \n",
    "        M5ANN.append(np.mean(avg_acc))\n",
    "        \n",
    "    return pd.DataFrame({'M1ANN': M1ANN, 'M5ANN': M5ANN})       \n",
    "    \n",
    "    "
   ],
   "id": "cca0dfa697d703ff",
   "outputs": [],
   "execution_count": 23
  },
  {
   "metadata": {
    "ExecuteTime": {
     "end_time": "2025-03-31T16:43:57.345590Z",
     "start_time": "2025-03-31T16:33:59.952786Z"
    }
   },
   "cell_type": "code",
   "source": [
    "df_4= rq_1_performance_ann(df_ann_params)\n",
    "df_4"
   ],
   "id": "ca4abf3fef04ebea",
   "outputs": [
    {
     "name": "stdout",
     "output_type": "stream",
     "text": [
      "51/51 [==============================] - 0s 1ms/step\n",
      "51/51 [==============================] - 0s 1ms/step\n",
      "51/51 [==============================] - 0s 1ms/step\n",
      "51/51 [==============================] - 0s 1ms/step\n",
      "51/51 [==============================] - 0s 1ms/step\n",
      "51/51 [==============================] - 0s 1ms/step\n",
      "51/51 [==============================] - 0s 1ms/step\n",
      "51/51 [==============================] - 0s 1ms/step\n",
      "51/51 [==============================] - 0s 1ms/step\n",
      "51/51 [==============================] - 0s 1ms/step\n",
      "51/51 [==============================] - 0s 1ms/step\n",
      "51/51 [==============================] - 0s 981us/step\n",
      "51/51 [==============================] - 0s 1ms/step\n",
      "51/51 [==============================] - 0s 1ms/step\n",
      "51/51 [==============================] - 0s 1ms/step\n",
      "51/51 [==============================] - 0s 1ms/step\n",
      "51/51 [==============================] - 0s 1ms/step\n",
      "51/51 [==============================] - 0s 1ms/step\n",
      "51/51 [==============================] - 0s 998us/step\n",
      "51/51 [==============================] - 0s 983us/step\n",
      "51/51 [==============================] - 0s 989us/step\n",
      "51/51 [==============================] - 0s 993us/step\n",
      "51/51 [==============================] - 0s 1ms/step\n",
      "51/51 [==============================] - 0s 933us/step\n",
      "51/51 [==============================] - 0s 978us/step\n",
      "51/51 [==============================] - 0s 912us/step\n",
      "51/51 [==============================] - 0s 1ms/step\n",
      "51/51 [==============================] - 0s 901us/step\n",
      "51/51 [==============================] - 0s 1ms/step\n",
      "51/51 [==============================] - 0s 946us/step\n",
      "51/51 [==============================] - 0s 964us/step\n",
      "51/51 [==============================] - 0s 962us/step\n",
      "51/51 [==============================] - 0s 945us/step\n",
      "51/51 [==============================] - 0s 1ms/step\n",
      "51/51 [==============================] - 0s 1ms/step\n",
      "51/51 [==============================] - 0s 6ms/step\n",
      "51/51 [==============================] - 0s 1ms/step\n",
      "51/51 [==============================] - 0s 1ms/step\n",
      "51/51 [==============================] - 0s 1ms/step\n",
      "51/51 [==============================] - 0s 973us/step\n",
      "51/51 [==============================] - 0s 994us/step\n",
      "51/51 [==============================] - 0s 1ms/step\n",
      "51/51 [==============================] - 0s 1ms/step\n",
      "51/51 [==============================] - 0s 1ms/step\n",
      "51/51 [==============================] - 0s 1ms/step\n",
      "51/51 [==============================] - 0s 939us/step\n",
      "51/51 [==============================] - 0s 1ms/step\n",
      "51/51 [==============================] - 0s 953us/step\n",
      "51/51 [==============================] - 0s 1ms/step\n",
      "51/51 [==============================] - 0s 1ms/step\n",
      "51/51 [==============================] - 0s 1ms/step\n",
      "51/51 [==============================] - 0s 985us/step\n",
      "51/51 [==============================] - 0s 1ms/step\n",
      "51/51 [==============================] - 0s 1ms/step\n",
      "51/51 [==============================] - 0s 1ms/step\n",
      "51/51 [==============================] - 0s 1ms/step\n",
      "51/51 [==============================] - 0s 1ms/step\n",
      "51/51 [==============================] - 0s 1ms/step\n",
      "51/51 [==============================] - 0s 1ms/step\n",
      "51/51 [==============================] - 0s 999us/step\n",
      "51/51 [==============================] - 0s 1ms/step\n",
      "51/51 [==============================] - 0s 1ms/step\n",
      "51/51 [==============================] - 0s 965us/step\n",
      "51/51 [==============================] - 0s 1ms/step\n",
      "51/51 [==============================] - 0s 1ms/step\n",
      "51/51 [==============================] - 0s 991us/step\n",
      "51/51 [==============================] - 0s 1ms/step\n",
      "51/51 [==============================] - 0s 1ms/step\n",
      "51/51 [==============================] - 0s 953us/step\n",
      "51/51 [==============================] - 0s 1ms/step\n",
      "51/51 [==============================] - 0s 1ms/step\n",
      "51/51 [==============================] - 0s 1ms/step\n",
      "51/51 [==============================] - 0s 1ms/step\n",
      "51/51 [==============================] - 0s 988us/step\n",
      "51/51 [==============================] - 0s 1ms/step\n",
      "51/51 [==============================] - 0s 887us/step\n",
      "51/51 [==============================] - 0s 1ms/step\n",
      "51/51 [==============================] - 0s 1ms/step\n",
      "51/51 [==============================] - 0s 977us/step\n",
      "51/51 [==============================] - 0s 894us/step\n",
      "51/51 [==============================] - 0s 1ms/step\n",
      "51/51 [==============================] - 0s 1ms/step\n",
      "51/51 [==============================] - 0s 1ms/step\n",
      "51/51 [==============================] - 0s 1ms/step\n",
      "51/51 [==============================] - 0s 1ms/step\n",
      "51/51 [==============================] - 0s 985us/step\n",
      "51/51 [==============================] - 0s 1ms/step\n",
      "51/51 [==============================] - 0s 965us/step\n",
      "51/51 [==============================] - 0s 1ms/step\n",
      "51/51 [==============================] - 0s 1ms/step\n",
      "51/51 [==============================] - 0s 992us/step\n",
      "51/51 [==============================] - 0s 1ms/step\n",
      "51/51 [==============================] - 0s 1ms/step\n",
      "51/51 [==============================] - 0s 2ms/step\n",
      "51/51 [==============================] - 0s 1ms/step\n",
      "51/51 [==============================] - 0s 964us/step\n",
      "51/51 [==============================] - 0s 1ms/step\n",
      "51/51 [==============================] - 0s 944us/step\n",
      "51/51 [==============================] - 0s 976us/step\n",
      "51/51 [==============================] - 0s 1ms/step\n"
     ]
    },
    {
     "data": {
      "text/plain": [
       "       M1ANN      M5ANN\n",
       "0  66.437929  57.416109\n",
       "1  66.313163  56.814436\n",
       "2  66.063631  57.501280\n",
       "3  67.997505  56.870074\n",
       "4  66.936993  56.349835\n",
       "5  65.502183  56.377321\n",
       "6  64.878353  57.374803\n",
       "7  65.003119  56.671632\n",
       "8  65.751716  57.211115\n",
       "9  65.252651  56.358025"
      ],
      "text/html": [
       "<div>\n",
       "<style scoped>\n",
       "    .dataframe tbody tr th:only-of-type {\n",
       "        vertical-align: middle;\n",
       "    }\n",
       "\n",
       "    .dataframe tbody tr th {\n",
       "        vertical-align: top;\n",
       "    }\n",
       "\n",
       "    .dataframe thead th {\n",
       "        text-align: right;\n",
       "    }\n",
       "</style>\n",
       "<table border=\"1\" class=\"dataframe\">\n",
       "  <thead>\n",
       "    <tr style=\"text-align: right;\">\n",
       "      <th></th>\n",
       "      <th>M1ANN</th>\n",
       "      <th>M5ANN</th>\n",
       "    </tr>\n",
       "  </thead>\n",
       "  <tbody>\n",
       "    <tr>\n",
       "      <th>0</th>\n",
       "      <td>66.437929</td>\n",
       "      <td>57.416109</td>\n",
       "    </tr>\n",
       "    <tr>\n",
       "      <th>1</th>\n",
       "      <td>66.313163</td>\n",
       "      <td>56.814436</td>\n",
       "    </tr>\n",
       "    <tr>\n",
       "      <th>2</th>\n",
       "      <td>66.063631</td>\n",
       "      <td>57.501280</td>\n",
       "    </tr>\n",
       "    <tr>\n",
       "      <th>3</th>\n",
       "      <td>67.997505</td>\n",
       "      <td>56.870074</td>\n",
       "    </tr>\n",
       "    <tr>\n",
       "      <th>4</th>\n",
       "      <td>66.936993</td>\n",
       "      <td>56.349835</td>\n",
       "    </tr>\n",
       "    <tr>\n",
       "      <th>5</th>\n",
       "      <td>65.502183</td>\n",
       "      <td>56.377321</td>\n",
       "    </tr>\n",
       "    <tr>\n",
       "      <th>6</th>\n",
       "      <td>64.878353</td>\n",
       "      <td>57.374803</td>\n",
       "    </tr>\n",
       "    <tr>\n",
       "      <th>7</th>\n",
       "      <td>65.003119</td>\n",
       "      <td>56.671632</td>\n",
       "    </tr>\n",
       "    <tr>\n",
       "      <th>8</th>\n",
       "      <td>65.751716</td>\n",
       "      <td>57.211115</td>\n",
       "    </tr>\n",
       "    <tr>\n",
       "      <th>9</th>\n",
       "      <td>65.252651</td>\n",
       "      <td>56.358025</td>\n",
       "    </tr>\n",
       "  </tbody>\n",
       "</table>\n",
       "</div>"
      ]
     },
     "execution_count": 24,
     "metadata": {},
     "output_type": "execute_result"
    }
   ],
   "execution_count": 24
  },
  {
   "metadata": {
    "ExecuteTime": {
     "end_time": "2025-03-31T16:43:57.531831Z",
     "start_time": "2025-03-31T16:43:57.503489Z"
    }
   },
   "cell_type": "code",
   "source": "df_4.describe()",
   "id": "55460ab0d26450f0",
   "outputs": [
    {
     "data": {
      "text/plain": [
       "           M1ANN      M5ANN\n",
       "count  10.000000  10.000000\n",
       "mean   66.013724  56.894463\n",
       "std     0.959158   0.457021\n",
       "min    64.878353  56.349835\n",
       "25%    65.315034  56.450899\n",
       "50%    65.907673  56.842255\n",
       "75%    66.406737  57.333881\n",
       "max    67.997505  57.501280"
      ],
      "text/html": [
       "<div>\n",
       "<style scoped>\n",
       "    .dataframe tbody tr th:only-of-type {\n",
       "        vertical-align: middle;\n",
       "    }\n",
       "\n",
       "    .dataframe tbody tr th {\n",
       "        vertical-align: top;\n",
       "    }\n",
       "\n",
       "    .dataframe thead th {\n",
       "        text-align: right;\n",
       "    }\n",
       "</style>\n",
       "<table border=\"1\" class=\"dataframe\">\n",
       "  <thead>\n",
       "    <tr style=\"text-align: right;\">\n",
       "      <th></th>\n",
       "      <th>M1ANN</th>\n",
       "      <th>M5ANN</th>\n",
       "    </tr>\n",
       "  </thead>\n",
       "  <tbody>\n",
       "    <tr>\n",
       "      <th>count</th>\n",
       "      <td>10.000000</td>\n",
       "      <td>10.000000</td>\n",
       "    </tr>\n",
       "    <tr>\n",
       "      <th>mean</th>\n",
       "      <td>66.013724</td>\n",
       "      <td>56.894463</td>\n",
       "    </tr>\n",
       "    <tr>\n",
       "      <th>std</th>\n",
       "      <td>0.959158</td>\n",
       "      <td>0.457021</td>\n",
       "    </tr>\n",
       "    <tr>\n",
       "      <th>min</th>\n",
       "      <td>64.878353</td>\n",
       "      <td>56.349835</td>\n",
       "    </tr>\n",
       "    <tr>\n",
       "      <th>25%</th>\n",
       "      <td>65.315034</td>\n",
       "      <td>56.450899</td>\n",
       "    </tr>\n",
       "    <tr>\n",
       "      <th>50%</th>\n",
       "      <td>65.907673</td>\n",
       "      <td>56.842255</td>\n",
       "    </tr>\n",
       "    <tr>\n",
       "      <th>75%</th>\n",
       "      <td>66.406737</td>\n",
       "      <td>57.333881</td>\n",
       "    </tr>\n",
       "    <tr>\n",
       "      <th>max</th>\n",
       "      <td>67.997505</td>\n",
       "      <td>57.501280</td>\n",
       "    </tr>\n",
       "  </tbody>\n",
       "</table>\n",
       "</div>"
      ]
     },
     "execution_count": 25,
     "metadata": {},
     "output_type": "execute_result"
    }
   ],
   "execution_count": 25
  },
  {
   "metadata": {
    "ExecuteTime": {
     "end_time": "2025-03-31T16:43:57.701837Z",
     "start_time": "2025-03-31T16:43:57.686720Z"
    }
   },
   "cell_type": "code",
   "source": [
    "p_value = wilcoxon(df_4['M1ANN'],df_4['M5ANN'],alternative='greater').pvalue\n",
    "print(f'p_value: {p_value}')\n"
   ],
   "id": "a4a47ec958eeb737",
   "outputs": [
    {
     "name": "stdout",
     "output_type": "stream",
     "text": [
      "p_value: 0.0009765625\n"
     ]
    }
   ],
   "execution_count": 26
  },
  {
   "metadata": {
    "ExecuteTime": {
     "end_time": "2025-03-31T16:49:15.433903Z",
     "start_time": "2025-03-31T16:49:15.268529Z"
    }
   },
   "cell_type": "code",
   "source": [
    "plt.style.use('seaborn-white')\n",
    "plt.box(False)\n",
    "sns.boxplot(data=df_4)\n",
    "plt.savefig(os.path.join('plots','boxplot_performance_ann.png'))\n"
   ],
   "id": "15a533861f22fd5a",
   "outputs": [
    {
     "name": "stderr",
     "output_type": "stream",
     "text": [
      "C:\\Users\\berha\\AppData\\Local\\Temp\\ipykernel_15232\\1047287746.py:1: MatplotlibDeprecationWarning: The seaborn styles shipped by Matplotlib are deprecated since 3.6, as they no longer correspond to the styles shipped by seaborn. However, they will remain available as 'seaborn-v0_8-<style>'. Alternatively, directly use the seaborn API instead.\n",
      "  plt.style.use('seaborn-white')\n"
     ]
    },
    {
     "data": {
      "text/plain": [
       "<Figure size 640x480 with 1 Axes>"
      ],
      "image/png": "[encoded data removed]"
     },
     "metadata": {},
     "output_type": "display_data"
    }
   ],
   "execution_count": 39
  },
  {
   "metadata": {
    "ExecuteTime": {
     "end_time": "2025-03-31T16:46:48.466837Z",
     "start_time": "2025-03-31T16:46:48.166470Z"
    }
   },
   "cell_type": "code",
   "source": [
    "plt.style.use('seaborn-white')\n",
    "plt.box(False)\n",
    "sns.histplot(df_4['M1ANN'],label='M1ANN',kde=True)\n",
    "sns.histplot(df_4['M5ANN'],label='M5ANN',kde=True)\n",
    "plt.xlabel('Accuracy distribution for 10 CV')\n",
    "plt.legend()\n",
    "plt.savefig(os.path.join('plots','distribution_performance_ann.png'))"
   ],
   "id": "28a9ebe9e9c37784",
   "outputs": [
    {
     "name": "stderr",
     "output_type": "stream",
     "text": [
      "C:\\Users\\berha\\AppData\\Local\\Temp\\ipykernel_15232\\14975195.py:1: MatplotlibDeprecationWarning: The seaborn styles shipped by Matplotlib are deprecated since 3.6, as they no longer correspond to the styles shipped by seaborn. However, they will remain available as 'seaborn-v0_8-<style>'. Alternatively, directly use the seaborn API instead.\n",
      "  plt.style.use('seaborn-white')\n"
     ]
    },
    {
     "data": {
      "text/plain": [
       "<Figure size 640x480 with 1 Axes>"
      ],
      "image/png": "[encoded data removed]"
     },
     "metadata": {},
     "output_type": "display_data"
    }
   ],
   "execution_count": 32
  },
  {
   "metadata": {
    "ExecuteTime": {
     "end_time": "2025-03-31T16:49:48.746089Z",
     "start_time": "2025-03-31T16:49:48.551945Z"
    }
   },
   "cell_type": "code",
   "source": [
    "plt.style.use('seaborn-white')\n",
    "plt.box(False)\n",
    "df_5 = pd.concat([df_2,df_4],axis=1)\n",
    "sns.boxplot(data=df_5)\n",
    "plt.savefig(os.path.join('plots','boxplot_performance_rf_ann.png'))\n"
   ],
   "id": "34cc8057bca6f25a",
   "outputs": [
    {
     "name": "stderr",
     "output_type": "stream",
     "text": [
      "C:\\Users\\berha\\AppData\\Local\\Temp\\ipykernel_15232\\3508466269.py:1: MatplotlibDeprecationWarning: The seaborn styles shipped by Matplotlib are deprecated since 3.6, as they no longer correspond to the styles shipped by seaborn. However, they will remain available as 'seaborn-v0_8-<style>'. Alternatively, directly use the seaborn API instead.\n",
      "  plt.style.use('seaborn-white')\n"
     ]
    },
    {
     "data": {
      "text/plain": [
       "<Figure size 640x480 with 1 Axes>"
      ],
      "image/png": "[encoded data removed]"
     },
     "metadata": {},
     "output_type": "display_data"
    }
   ],
   "execution_count": 40
  },
  {
   "metadata": {
    "ExecuteTime": {
     "end_time": "2025-03-31T16:45:46.343614Z",
     "start_time": "2025-03-31T16:45:46.068064Z"
    }
   },
   "cell_type": "code",
   "source": [
    "plt.style.use('seaborn-white')\n",
    "plt.box(False)\n",
    "df_5 = pd.concat([df_2,df_4],axis=1)\n",
    "sns.boxplot(data=df_5)\n",
    "plt.savefig(os.path.join('plots','boxplot_performance_rf_ann_white.png'))"
   ],
   "id": "9168fdce988c232a",
   "outputs": [
    {
     "name": "stderr",
     "output_type": "stream",
     "text": [
      "C:\\Users\\berha\\AppData\\Local\\Temp\\ipykernel_15232\\1929838014.py:2: MatplotlibDeprecationWarning: The seaborn styles shipped by Matplotlib are deprecated since 3.6, as they no longer correspond to the styles shipped by seaborn. However, they will remain available as 'seaborn-v0_8-<style>'. Alternatively, directly use the seaborn API instead.\n",
      "  plt.style.use('seaborn-white')\n"
     ]
    },
    {
     "data": {
      "text/plain": [
       "<Figure size 640x480 with 1 Axes>"
      ],
      "image/png": "[encoded data removed]"
     },
     "metadata": {},
     "output_type": "display_data"
    }
   ],
   "execution_count": 31
  }
 ],
 "metadata": {
  "kernelspec": {
   "display_name": "Python 3",
   "language": "python",
   "name": "python3"
  },
  "language_info": {
   "codemirror_mode": {
    "name": "ipython",
    "version": 2
   },
   "file_extension": ".py",
   "mimetype": "text/x-python",
   "name": "python",
   "nbconvert_exporter": "python",
   "pygments_lexer": "ipython2",
   "version": "2.7.6"
  }
 },
 "nbformat": 4,
 "nbformat_minor": 5
}
