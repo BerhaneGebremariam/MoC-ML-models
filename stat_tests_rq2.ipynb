{
 "cells": [
  {
   "cell_type": "code",
   "id": "initial_id",
   "metadata": {
    "collapsed": true,
    "ExecuteTime": {
     "end_time": "2025-03-31T13:57:06.386126Z",
     "start_time": "2025-03-31T13:57:06.374123Z"
    }
   },
   "source": [
    "from sklearn.ensemble import RandomForestClassifier\n",
    "from sklearn.model_selection import train_test_split\n",
    "from sklearn.model_selection import KFold, GroupKFold\n",
    "import numpy as np\n",
    "from scipy.stats import wilcoxon\n",
    "import pandas as pd\n",
    "import typing as tp\n",
    "from explanatory_analysis import SpDataCleaner\n",
    "import matplotlib.pyplot as plt\n",
    "import seaborn as sns\n",
    "import random\n",
    "import tensorflow as tf\n",
    "\n",
    "from tensorflow.keras.models import Sequential\n",
    "from tensorflow.keras.layers import Dense, Dropout\n",
    "from tensorflow.keras.callbacks import EarlyStopping\n",
    "from tensorflow.keras.optimizers import Adam\n",
    "from sklearn.preprocessing import StandardScaler"
   ],
   "outputs": [],
   "execution_count": 7
  },
  {
   "metadata": {
    "ExecuteTime": {
     "end_time": "2025-03-31T13:57:06.464311Z",
     "start_time": "2025-03-31T13:57:06.439653Z"
    }
   },
   "cell_type": "code",
   "source": [
    "df_rf_params = pd.read_csv('reports/5_20.0/best_params_rf_5.0_20.0.csv')\n",
    "\n",
    "df_rf_params.rename(columns={'Unnamed: 0': 'Model'}, inplace=True)"
   ],
   "id": "76d1695aea850229",
   "outputs": [
    {
     "data": {
      "text/plain": [
       "Index(['Model', 'n_estimators', 'min_samples_split', 'min_samples_leaf',\n",
       "       'max_depth', 'criterion', 'bootstrap'],\n",
       "      dtype='object')"
      ]
     },
     "execution_count": 8,
     "metadata": {},
     "output_type": "execute_result"
    }
   ],
   "execution_count": 8
  },
  {
   "metadata": {
    "ExecuteTime": {
     "end_time": "2025-03-31T13:57:06.782934Z",
     "start_time": "2025-03-31T13:57:06.497544Z"
    }
   },
   "cell_type": "code",
   "source": [
    "spdc = SpDataCleaner()\n",
    "spdc.to_dummies()\n",
    "moco_survey = spdc.df\n",
    "X = moco_survey.drop(['choice','ResponseId'], axis=1)\n",
    "y = moco_survey['choice']\n"
   ],
   "id": "a3ee24c188c2d901",
   "outputs": [],
   "execution_count": 9
  },
  {
   "metadata": {
    "ExecuteTime": {
     "end_time": "2025-03-31T13:57:06.853786Z",
     "start_time": "2025-03-31T13:57:06.826031Z"
    }
   },
   "cell_type": "code",
   "source": [
    "def mode_share_rf(data: pd.DataFrame, models: tp.List[str]) -> pd.DataFrame:\n",
    "    \n",
    "    modes = ['No Moco\\nPt','No Moco\\nAuto','No Moco\\nBike','No Moco\\nWalk','Moco Pt','Moco Auto','Moco Bike','Moco Walk']\n",
    "   \n",
    "    df = pd.DataFrame()\n",
    "    df_prob = pd.DataFrame(columns=['Pro. Mode Share'])\n",
    "    for model in models:\n",
    "        df_mrf = data[data['Model'] == model]\n",
    "        max_depth = df_mrf['max_depth'].values[0]\n",
    "        if str(max_depth) == 'nan':\n",
    "            max_depth = None\n",
    "        else:\n",
    "            max_depth = int(max_depth)\n",
    "        \n",
    "        rf = RandomForestClassifier(n_estimators=df_mrf['n_estimators'].values[0], max_depth=max_depth,\n",
    "                                    min_samples_split=df_mrf['min_samples_split'].values[0], \n",
    "                                    min_samples_leaf=df_mrf['min_samples_leaf'].values[0], \n",
    "                                    criterion=df_mrf['criterion'].values[0], \n",
    "                                    bootstrap=df_mrf['bootstrap'].values[0], \n",
    "                                    random_state=42)\n",
    "\n",
    "        kf = KFold(n_splits=10, shuffle=True, random_state=42)\n",
    "        for row, (train_val_index, test_index) in enumerate(kf.split(X)):\n",
    "            X_train_val, X_test = X.iloc[train_val_index], X.iloc[test_index]\n",
    "            y_train_val, y_test = y.iloc[train_val_index], y.iloc[test_index]\n",
    "                \n",
    "            x_train, x_val, y_train, y_val = train_test_split(X_train_val, y_train_val, test_size=0.11, random_state=42)\n",
    "            \n",
    "            rf.fit(x_train, y_train)\n",
    "            \n",
    "            if model == 'M1RF':\n",
    "                y_pred = rf.predict(X_test)\n",
    "                df_mode_pred = pd.DataFrame(y_pred, columns=['choice'])\n",
    "                df_mode_pred['choice'] = df_mode_pred['choice'].map({0: 'No Moco\\nPt', 1: 'No Moco\\nAuto', 2: 'No Moco\\nBike', 3: 'No Moco\\nWalk', 4: 'Moco Pt', 5: 'Moco Auto', 6: 'Moco Bike', 7: 'Moco Walk'})\n",
    "                \n",
    "                df_val_counts = df_mode_pred['choice'].value_counts().to_frame()\n",
    "                df_val_counts = df_val_counts.reindex(modes)\n",
    "                df_val_counts.rename(columns={'count': 'Discrete Mode Share'}, inplace=True)\n",
    "                df_val_counts['Fold'] = row + 1\n",
    "                \n",
    "                y_test_counts = y_test.map({0: 'No Moco\\nPt', 1: 'No Moco\\nAuto', 2: 'No Moco\\nBike', 3: 'No Moco\\nWalk', 4: 'Moco Pt', 5: 'Moco Auto', 6: 'Moco Bike', 7: 'Moco Walk'}).value_counts().to_frame()\n",
    "                y_test_counts.rename(columns={'count': 'Actual Mode Share'}, inplace=True)\n",
    "                \n",
    "                df_val_counts['Actual Mode Share'] = y_test_counts['Actual Mode Share']\n",
    "                df = pd.concat([df, df_val_counts], axis=0)\n",
    "                \n",
    "            else:\n",
    "                y_pred = rf.predict_proba(X_test)\n",
    "                df_mode_pred = pd.DataFrame(y_pred, columns=['No Moco\\nPt','No Moco\\nAuto','No Moco\\nBike','No Moco\\nWalk','Moco Pt','Moco Auto','Moco Bike','Moco Walk'])\n",
    "                \n",
    "                df_mode_pred.loc['total'] = df_mode_pred.sum()\n",
    "                df_mode_pred = df_mode_pred.loc['total'].values\n",
    "                \n",
    "                df_mode_pred = pd.DataFrame(df_mode_pred, columns=['Pro. Mode Share'])\n",
    "                df_mode_pred.index = modes\n",
    "                \n",
    "                df_prob = pd.concat([df_prob, df_mode_pred], axis=0)\n",
    "\n",
    "    df = pd.concat([df, df_prob], axis=1)\n",
    "    return df        "
   ],
   "id": "24a308bb38d78461",
   "outputs": [],
   "execution_count": 10
  },
  {
   "metadata": {
    "ExecuteTime": {
     "end_time": "2025-03-31T14:05:53.062456Z",
     "start_time": "2025-03-31T13:57:06.888386Z"
    }
   },
   "cell_type": "code",
   "source": "df_1 =mode_share_rf(df_rf_params, ['M1RF', 'M2RF'])",
   "id": "73e8d9f18428fffd",
   "outputs": [
    {
     "name": "stdout",
     "output_type": "stream",
     "text": [
      "df_prob columns: Index(['Pro. Mode Share'], dtype='object')\n",
      "len_df: 80\n",
      "len_df_prob: 80\n"
     ]
    }
   ],
   "execution_count": 11
  },
  {
   "metadata": {
    "ExecuteTime": {
     "end_time": "2025-03-31T14:05:53.185840Z",
     "start_time": "2025-03-31T14:05:53.143856Z"
    }
   },
   "cell_type": "code",
   "source": [
    "df_1['SE_Discrete Mode Share'] = (df_1['Discrete Mode Share'] - df_1['Actual Mode Share'])**2\n",
    "df_1['SE_Pro. Mode Share'] = (df_1['Pro. Mode Share'] - df_1['Actual Mode Share'])**2\n",
    "\n",
    "df_rms1 = df_1.groupby('Fold')[['SE_Pro. Mode Share','SE_Discrete Mode Share']].mean()\n",
    "df_rms1 = df_rms1**0.5\n",
    "cols = ['RMSE_M2RF','RMSE_M1RF']\n",
    "df_rms1.columns = cols\n",
    "df_rms1.describe()"
   ],
   "id": "17e4d64e0a793444",
   "outputs": [
    {
     "data": {
      "text/plain": [
       "       RMSE_M2RF  RMSE_M1RF\n",
       "count  10.000000  10.000000\n",
       "mean    8.979187  17.462573\n",
       "std     1.765031   2.299408\n",
       "min     6.010517  13.619838\n",
       "25%     7.829661  15.892384\n",
       "50%     9.002757  17.766795\n",
       "75%    10.295273  19.203752\n",
       "max    11.444573  20.346990"
      ],
      "text/html": [
       "<div>\n",
       "<style scoped>\n",
       "    .dataframe tbody tr th:only-of-type {\n",
       "        vertical-align: middle;\n",
       "    }\n",
       "\n",
       "    .dataframe tbody tr th {\n",
       "        vertical-align: top;\n",
       "    }\n",
       "\n",
       "    .dataframe thead th {\n",
       "        text-align: right;\n",
       "    }\n",
       "</style>\n",
       "<table border=\"1\" class=\"dataframe\">\n",
       "  <thead>\n",
       "    <tr style=\"text-align: right;\">\n",
       "      <th></th>\n",
       "      <th>RMSE_M2RF</th>\n",
       "      <th>RMSE_M1RF</th>\n",
       "    </tr>\n",
       "  </thead>\n",
       "  <tbody>\n",
       "    <tr>\n",
       "      <th>count</th>\n",
       "      <td>10.000000</td>\n",
       "      <td>10.000000</td>\n",
       "    </tr>\n",
       "    <tr>\n",
       "      <th>mean</th>\n",
       "      <td>8.979187</td>\n",
       "      <td>17.462573</td>\n",
       "    </tr>\n",
       "    <tr>\n",
       "      <th>std</th>\n",
       "      <td>1.765031</td>\n",
       "      <td>2.299408</td>\n",
       "    </tr>\n",
       "    <tr>\n",
       "      <th>min</th>\n",
       "      <td>6.010517</td>\n",
       "      <td>13.619838</td>\n",
       "    </tr>\n",
       "    <tr>\n",
       "      <th>25%</th>\n",
       "      <td>7.829661</td>\n",
       "      <td>15.892384</td>\n",
       "    </tr>\n",
       "    <tr>\n",
       "      <th>50%</th>\n",
       "      <td>9.002757</td>\n",
       "      <td>17.766795</td>\n",
       "    </tr>\n",
       "    <tr>\n",
       "      <th>75%</th>\n",
       "      <td>10.295273</td>\n",
       "      <td>19.203752</td>\n",
       "    </tr>\n",
       "    <tr>\n",
       "      <th>max</th>\n",
       "      <td>11.444573</td>\n",
       "      <td>20.346990</td>\n",
       "    </tr>\n",
       "  </tbody>\n",
       "</table>\n",
       "</div>"
      ]
     },
     "execution_count": 12,
     "metadata": {},
     "output_type": "execute_result"
    }
   ],
   "execution_count": 12
  },
  {
   "metadata": {
    "ExecuteTime": {
     "end_time": "2025-03-31T14:05:53.811045Z",
     "start_time": "2025-03-31T14:05:53.296112Z"
    }
   },
   "cell_type": "code",
   "source": [
    "sns.boxplot(data=df_rms1)\n",
    "plt.title('RMSE for Discrete and Probabilistic Mode Share')\n",
    "plt.savefig('plots/RQ2_mode/rmse_rf_m1rf_m2rf.png')"
   ],
   "id": "10809a4309e40db4",
   "outputs": [
    {
     "data": {
      "text/plain": [
       "<Figure size 640x480 with 1 Axes>"
      ],
      "image/png": "[encoded data removed]"
     },
     "metadata": {},
     "output_type": "display_data"
    }
   ],
   "execution_count": 13
  },
  {
   "metadata": {
    "ExecuteTime": {
     "end_time": "2025-03-31T14:05:54.485622Z",
     "start_time": "2025-03-31T14:05:53.859352Z"
    }
   },
   "cell_type": "code",
   "source": [
    "sns.histplot(df_rms1['RMSE_M2RF'], kde=True)\n",
    "sns.histplot(df_rms1['RMSE_M1RF'], kde=True)\n",
    "plt.legend(['M2RF','M1RF'])\n",
    "plt.xlabel('RMSE')\n",
    "plt.title('RMSE distribution for Discrete and Probabilistic Mode Share')\n",
    "plt.savefig('plots/RQ2_mode/rmse_rf_m1rf_m2rf_hist.png')"
   ],
   "id": "c740d8168d3c6356",
   "outputs": [
    {
     "data": {
      "text/plain": [
       "<Figure size 640x480 with 1 Axes>"
      ],
      "image/png": "[encoded data removed]"
     },
     "metadata": {},
     "output_type": "display_data"
    }
   ],
   "execution_count": 14
  },
  {
   "metadata": {
    "ExecuteTime": {
     "end_time": "2025-03-31T14:05:54.532849Z",
     "start_time": "2025-03-31T14:05:54.519350Z"
    }
   },
   "cell_type": "code",
   "source": [
    "p_values = wilcoxon(df_rms1['RMSE_M2RF'], df_rms1['RMSE_M1RF'],alternative='less')\n",
    "p_values"
   ],
   "id": "88838e8d116d0509",
   "outputs": [
    {
     "data": {
      "text/plain": [
       "WilcoxonResult(statistic=0.0, pvalue=0.0009765625)"
      ]
     },
     "execution_count": 15,
     "metadata": {},
     "output_type": "execute_result"
    }
   ],
   "execution_count": 15
  },
  {
   "metadata": {
    "ExecuteTime": {
     "end_time": "2025-03-31T14:05:54.595481Z",
     "start_time": "2025-03-31T14:05:54.566902Z"
    }
   },
   "cell_type": "code",
   "source": [
    "df_moco_walk_1 = df_1[df_1.index == 'Moco Walk']\n",
    "df_moco_walk_1 = df_moco_walk_1.copy() \n",
    "df_moco_walk_1"
   ],
   "id": "68ae9f97f36f2649",
   "outputs": [
    {
     "data": {
      "text/plain": [
       "           Discrete Mode Share  Fold  Actual Mode Share  Pro. Mode Share  \\\n",
       "Moco Walk                   18     1                 30           30.977   \n",
       "Moco Walk                   29     2                 41           45.469   \n",
       "Moco Walk                   21     3                 37           38.627   \n",
       "Moco Walk                   29     4                 47           42.085   \n",
       "Moco Walk                   30     5                 33           43.061   \n",
       "Moco Walk                   29     6                 37           41.214   \n",
       "Moco Walk                   28     7                 44           41.180   \n",
       "Moco Walk                   31     8                 37           38.194   \n",
       "Moco Walk                   24     9                 32           36.344   \n",
       "Moco Walk                   21    10                 44           33.981   \n",
       "\n",
       "           SE_Discrete Mode Share  SE_Pro. Mode Share  \n",
       "Moco Walk                     144            0.954529  \n",
       "Moco Walk                     144           19.971961  \n",
       "Moco Walk                     256            2.647129  \n",
       "Moco Walk                     324           24.157225  \n",
       "Moco Walk                       9          101.223721  \n",
       "Moco Walk                      64           17.757796  \n",
       "Moco Walk                     256            7.952400  \n",
       "Moco Walk                      36            1.425636  \n",
       "Moco Walk                      64           18.870336  \n",
       "Moco Walk                     529          100.380361  "
      ],
      "text/html": [
       "<div>\n",
       "<style scoped>\n",
       "    .dataframe tbody tr th:only-of-type {\n",
       "        vertical-align: middle;\n",
       "    }\n",
       "\n",
       "    .dataframe tbody tr th {\n",
       "        vertical-align: top;\n",
       "    }\n",
       "\n",
       "    .dataframe thead th {\n",
       "        text-align: right;\n",
       "    }\n",
       "</style>\n",
       "<table border=\"1\" class=\"dataframe\">\n",
       "  <thead>\n",
       "    <tr style=\"text-align: right;\">\n",
       "      <th></th>\n",
       "      <th>Discrete Mode Share</th>\n",
       "      <th>Fold</th>\n",
       "      <th>Actual Mode Share</th>\n",
       "      <th>Pro. Mode Share</th>\n",
       "      <th>SE_Discrete Mode Share</th>\n",
       "      <th>SE_Pro. Mode Share</th>\n",
       "    </tr>\n",
       "  </thead>\n",
       "  <tbody>\n",
       "    <tr>\n",
       "      <th>Moco Walk</th>\n",
       "      <td>18</td>\n",
       "      <td>1</td>\n",
       "      <td>30</td>\n",
       "      <td>30.977</td>\n",
       "      <td>144</td>\n",
       "      <td>0.954529</td>\n",
       "    </tr>\n",
       "    <tr>\n",
       "      <th>Moco Walk</th>\n",
       "      <td>29</td>\n",
       "      <td>2</td>\n",
       "      <td>41</td>\n",
       "      <td>45.469</td>\n",
       "      <td>144</td>\n",
       "      <td>19.971961</td>\n",
       "    </tr>\n",
       "    <tr>\n",
       "      <th>Moco Walk</th>\n",
       "      <td>21</td>\n",
       "      <td>3</td>\n",
       "      <td>37</td>\n",
       "      <td>38.627</td>\n",
       "      <td>256</td>\n",
       "      <td>2.647129</td>\n",
       "    </tr>\n",
       "    <tr>\n",
       "      <th>Moco Walk</th>\n",
       "      <td>29</td>\n",
       "      <td>4</td>\n",
       "      <td>47</td>\n",
       "      <td>42.085</td>\n",
       "      <td>324</td>\n",
       "      <td>24.157225</td>\n",
       "    </tr>\n",
       "    <tr>\n",
       "      <th>Moco Walk</th>\n",
       "      <td>30</td>\n",
       "      <td>5</td>\n",
       "      <td>33</td>\n",
       "      <td>43.061</td>\n",
       "      <td>9</td>\n",
       "      <td>101.223721</td>\n",
       "    </tr>\n",
       "    <tr>\n",
       "      <th>Moco Walk</th>\n",
       "      <td>29</td>\n",
       "      <td>6</td>\n",
       "      <td>37</td>\n",
       "      <td>41.214</td>\n",
       "      <td>64</td>\n",
       "      <td>17.757796</td>\n",
       "    </tr>\n",
       "    <tr>\n",
       "      <th>Moco Walk</th>\n",
       "      <td>28</td>\n",
       "      <td>7</td>\n",
       "      <td>44</td>\n",
       "      <td>41.180</td>\n",
       "      <td>256</td>\n",
       "      <td>7.952400</td>\n",
       "    </tr>\n",
       "    <tr>\n",
       "      <th>Moco Walk</th>\n",
       "      <td>31</td>\n",
       "      <td>8</td>\n",
       "      <td>37</td>\n",
       "      <td>38.194</td>\n",
       "      <td>36</td>\n",
       "      <td>1.425636</td>\n",
       "    </tr>\n",
       "    <tr>\n",
       "      <th>Moco Walk</th>\n",
       "      <td>24</td>\n",
       "      <td>9</td>\n",
       "      <td>32</td>\n",
       "      <td>36.344</td>\n",
       "      <td>64</td>\n",
       "      <td>18.870336</td>\n",
       "    </tr>\n",
       "    <tr>\n",
       "      <th>Moco Walk</th>\n",
       "      <td>21</td>\n",
       "      <td>10</td>\n",
       "      <td>44</td>\n",
       "      <td>33.981</td>\n",
       "      <td>529</td>\n",
       "      <td>100.380361</td>\n",
       "    </tr>\n",
       "  </tbody>\n",
       "</table>\n",
       "</div>"
      ]
     },
     "execution_count": 16,
     "metadata": {},
     "output_type": "execute_result"
    }
   ],
   "execution_count": 16
  },
  {
   "metadata": {
    "ExecuteTime": {
     "end_time": "2025-03-31T14:05:54.741875Z",
     "start_time": "2025-03-31T14:05:54.707343Z"
    }
   },
   "cell_type": "code",
   "source": [
    "df_moco_walk_1.loc[:,'E_Discrete Mode Share'] = (df_moco_walk_1['Discrete Mode Share'] - df_moco_walk_1['Actual Mode Share'])\n",
    "df_moco_walk_1.loc[:,'E_Pro. Mode Share'] = (df_moco_walk_1['Pro. Mode Share'] - df_moco_walk_1['Actual Mode Share'])\n",
    "df_moco_walk_1 = df_moco_walk_1[['E_Discrete Mode Share','E_Pro. Mode Share']]\n",
    "df_moco_walk_1.columns = ['M1RF','M2RF']\n",
    "df_moco_walk_1.describe()\n"
   ],
   "id": "32149145349de670",
   "outputs": [
    {
     "data": {
      "text/plain": [
       "            M1RF       M2RF\n",
       "count  10.000000  10.000000\n",
       "mean  -12.200000   0.913200\n",
       "std     6.124632   5.647042\n",
       "min   -23.000000 -10.019000\n",
       "25%   -16.000000  -1.870750\n",
       "50%   -12.000000   1.410500\n",
       "75%    -8.000000   4.311500\n",
       "max    -3.000000  10.061000"
      ],
      "text/html": [
       "<div>\n",
       "<style scoped>\n",
       "    .dataframe tbody tr th:only-of-type {\n",
       "        vertical-align: middle;\n",
       "    }\n",
       "\n",
       "    .dataframe tbody tr th {\n",
       "        vertical-align: top;\n",
       "    }\n",
       "\n",
       "    .dataframe thead th {\n",
       "        text-align: right;\n",
       "    }\n",
       "</style>\n",
       "<table border=\"1\" class=\"dataframe\">\n",
       "  <thead>\n",
       "    <tr style=\"text-align: right;\">\n",
       "      <th></th>\n",
       "      <th>M1RF</th>\n",
       "      <th>M2RF</th>\n",
       "    </tr>\n",
       "  </thead>\n",
       "  <tbody>\n",
       "    <tr>\n",
       "      <th>count</th>\n",
       "      <td>10.000000</td>\n",
       "      <td>10.000000</td>\n",
       "    </tr>\n",
       "    <tr>\n",
       "      <th>mean</th>\n",
       "      <td>-12.200000</td>\n",
       "      <td>0.913200</td>\n",
       "    </tr>\n",
       "    <tr>\n",
       "      <th>std</th>\n",
       "      <td>6.124632</td>\n",
       "      <td>5.647042</td>\n",
       "    </tr>\n",
       "    <tr>\n",
       "      <th>min</th>\n",
       "      <td>-23.000000</td>\n",
       "      <td>-10.019000</td>\n",
       "    </tr>\n",
       "    <tr>\n",
       "      <th>25%</th>\n",
       "      <td>-16.000000</td>\n",
       "      <td>-1.870750</td>\n",
       "    </tr>\n",
       "    <tr>\n",
       "      <th>50%</th>\n",
       "      <td>-12.000000</td>\n",
       "      <td>1.410500</td>\n",
       "    </tr>\n",
       "    <tr>\n",
       "      <th>75%</th>\n",
       "      <td>-8.000000</td>\n",
       "      <td>4.311500</td>\n",
       "    </tr>\n",
       "    <tr>\n",
       "      <th>max</th>\n",
       "      <td>-3.000000</td>\n",
       "      <td>10.061000</td>\n",
       "    </tr>\n",
       "  </tbody>\n",
       "</table>\n",
       "</div>"
      ]
     },
     "execution_count": 17,
     "metadata": {},
     "output_type": "execute_result"
    }
   ],
   "execution_count": 17
  },
  {
   "metadata": {
    "ExecuteTime": {
     "end_time": "2025-03-31T14:05:55.486461Z",
     "start_time": "2025-03-31T14:05:55.113738Z"
    }
   },
   "cell_type": "code",
   "source": [
    "sns.boxplot(data=df_moco_walk_1)\n",
    "plt.xlabel('Error')\n",
    "plt.title('Moco Walk Error level for Discrete and Probabilistic Mode Share')\n",
    "plt.savefig('plots/RQ2_mode/error_rf_m1rf_m2rf_moco_walk.png')"
   ],
   "id": "d1abcf86071b81a6",
   "outputs": [
    {
     "data": {
      "text/plain": [
       "<Figure size 640x480 with 1 Axes>"
      ],
      "image/png": "[encoded data removed]"
     },
     "metadata": {},
     "output_type": "display_data"
    }
   ],
   "execution_count": 18
  },
  {
   "metadata": {
    "ExecuteTime": {
     "end_time": "2025-03-31T14:05:56.250412Z",
     "start_time": "2025-03-31T14:05:55.566145Z"
    }
   },
   "cell_type": "code",
   "source": [
    "sns.histplot(df_moco_walk_1['M1RF'], kde=True)\n",
    "sns.histplot(df_moco_walk_1['M2RF'], kde=True)\n",
    "plt.legend(['M1RF','M2RF'])\n",
    "plt.xlabel('Error')\n",
    "plt.title('Moco Walk Error distribution for Discrete and Probabilistic Mode Share')\n",
    "plt.savefig('plots/RQ2_mode/error_rf_m1rf_m2rf_moco_walk_hist.png')"
   ],
   "id": "a513379e56d401d4",
   "outputs": [
    {
     "data": {
      "text/plain": [
       "<Figure size 640x480 with 1 Axes>"
      ],
      "image/png": "[encoded data removed]"
     },
     "metadata": {},
     "output_type": "display_data"
    }
   ],
   "execution_count": 19
  },
  {
   "metadata": {
    "ExecuteTime": {
     "end_time": "2025-03-31T14:05:56.327830Z",
     "start_time": "2025-03-31T14:05:56.315075Z"
    }
   },
   "cell_type": "code",
   "source": [
    "p_values = wilcoxon(df_moco_walk_1['M2RF'], df_moco_walk_1['M1RF'],alternative='greater')\n",
    "p_values"
   ],
   "id": "67cbdb50cf8686f5",
   "outputs": [
    {
     "data": {
      "text/plain": [
       "WilcoxonResult(statistic=55.0, pvalue=0.0009765625)"
      ]
     },
     "execution_count": 20,
     "metadata": {},
     "output_type": "execute_result"
    }
   ],
   "execution_count": 20
  },
  {
   "metadata": {
    "ExecuteTime": {
     "end_time": "2025-03-31T14:05:56.390915Z",
     "start_time": "2025-03-31T14:05:56.371617Z"
    }
   },
   "cell_type": "code",
   "source": [
    "def mode_share_rf_(df_params,models):\n",
    "    \n",
    "    modes = ['No Moco\\nPt','No Moco\\nAuto','No Moco\\nBike','No Moco\\nWalk','Moco Pt','Moco Auto','Moco Bike','Moco Walk']\n",
    "   \n",
    "    df = pd.DataFrame()\n",
    "    df_prob = pd.DataFrame(columns=['Pro. Mode Share'])\n",
    "    for model in models:\n",
    "        df_mrf = df_params[df_params['Model'] == model]\n",
    "        max_depth = df_mrf['max_depth'].values[0]\n",
    "        if str(max_depth) == 'nan':\n",
    "            max_depth = None\n",
    "        else:\n",
    "            max_depth = int(max_depth)\n",
    "        \n",
    "        rf = RandomForestClassifier(n_estimators=df_mrf['n_estimators'].values[0], max_depth=max_depth,\n",
    "                                    min_samples_split=df_mrf['min_samples_split'].values[0], \n",
    "                                    min_samples_leaf=df_mrf['min_samples_leaf'].values[0], \n",
    "                                    criterion=df_mrf['criterion'].values[0], \n",
    "                                    bootstrap=df_mrf['bootstrap'].values[0], \n",
    "                                    random_state=42)\n",
    "\n",
    "        gf_1 = GroupKFold(n_splits=10)\n",
    "        for row, (train_val_index, test_index) in enumerate(gf_1.split(X, groups=moco_survey['ResponseId'])):\n",
    "            X_train_val, X_test = X.iloc[train_val_index], X.iloc[test_index]\n",
    "            y_train_val, y_test = y.iloc[train_val_index], y.iloc[test_index]\n",
    "                \n",
    "            group_fold_2 = GroupKFold(n_splits=9)\n",
    "            for train_index, val_index in group_fold_2.split(X_train_val, groups=moco_survey['ResponseId'].iloc[train_val_index]):\n",
    "                X_train, X_val = X_train_val.iloc[train_index], X_train_val.iloc[val_index]\n",
    "                y_train, y_val = y_train_val.iloc[train_index], y_train_val.iloc[val_index]  \n",
    "                \n",
    "                rf.fit(X_train, y_train)\n",
    "                \n",
    "                if model == 'M5RF':\n",
    "                    y_pred = rf.predict(X_test)\n",
    "                    df_mode_pred = pd.DataFrame(y_pred, columns=['choice'])\n",
    "                    df_mode_pred['choice'] = df_mode_pred['choice'].map({0: 'No Moco\\nPt', 1: 'No Moco\\nAuto', 2: 'No Moco\\nBike', 3: 'No Moco\\nWalk', 4: 'Moco Pt', 5: 'Moco Auto', 6: 'Moco Bike', 7: 'Moco Walk'})\n",
    "                    \n",
    "                    df_val_counts = df_mode_pred['choice'].value_counts().to_frame()\n",
    "                    df_val_counts = df_val_counts.reindex(modes)\n",
    "                    df_val_counts.rename(columns={'count': 'Discrete Mode Share'}, inplace=True)\n",
    "                    df_val_counts['Fold'] = row + 1\n",
    "                    \n",
    "                    y_test_counts = y_test.map({0: 'No Moco\\nPt', 1: 'No Moco\\nAuto', 2: 'No Moco\\nBike', 3: 'No Moco\\nWalk', 4: 'Moco Pt', 5: 'Moco Auto', 6: 'Moco Bike', 7: 'Moco Walk'}).value_counts().to_frame()\n",
    "                    y_test_counts.rename(columns={'count': 'Actual Mode Share'}, inplace=True)\n",
    "                    \n",
    "                    df_val_counts['Actual Mode Share'] = y_test_counts['Actual Mode Share']\n",
    "                    df = pd.concat([df, df_val_counts], axis=0)\n",
    "                    break\n",
    "                    \n",
    "                else:\n",
    "                    y_pred = rf.predict_proba(X_test)\n",
    "                    df_mode_pred = pd.DataFrame(y_pred, columns=['No Moco\\nPt','No Moco\\nAuto','No Moco\\nBike','No Moco\\nWalk','Moco Pt','Moco Auto','Moco Bike','Moco Walk'])\n",
    "                    \n",
    "                    df_mode_pred.loc['total'] = df_mode_pred.sum()\n",
    "                    df_mode_pred = df_mode_pred.loc['total'].values\n",
    "                    \n",
    "                    df_mode_pred = pd.DataFrame(df_mode_pred, columns=['Pro. Mode Share'])\n",
    "                    df_mode_pred.index = modes\n",
    "                    \n",
    "                    df_prob = pd.concat([df_prob, df_mode_pred], axis=0)\n",
    "                    break\n",
    "\n",
    "    df = pd.concat([df, df_prob], axis=1)\n",
    "    return df        \n",
    "    \n",
    "    \n",
    "    "
   ],
   "id": "ab1d5554c50c00ac",
   "outputs": [],
   "execution_count": 21
  },
  {
   "metadata": {
    "ExecuteTime": {
     "end_time": "2025-03-31T14:09:23.990555Z",
     "start_time": "2025-03-31T14:05:56.424168Z"
    }
   },
   "cell_type": "code",
   "source": [
    "df_2 = mode_share_rf_(df_rf_params, ['M5RF', 'M6RF'])\n",
    "df_2.fillna(0, inplace=True)\n",
    "df_2"
   ],
   "id": "4cdc52d86a95e3c9",
   "outputs": [
    {
     "name": "stdout",
     "output_type": "stream",
     "text": [
      "df_prob columns: Index(['Pro. Mode Share'], dtype='object')\n",
      "len_df: 80\n",
      "len_df_prob: 80\n"
     ]
    },
    {
     "data": {
      "text/plain": [
       "               Discrete Mode Share  Fold  Actual Mode Share  Pro. Mode Share\n",
       "No Moco\\nPt                  227.0     1                232       260.197437\n",
       "No Moco\\nAuto                273.0     1                257       221.124137\n",
       "No Moco\\nBike                305.0     1                279       294.478848\n",
       "No Moco\\nWalk                  5.0     1                 42        34.194598\n",
       "Moco Pt                      265.0     1                247       270.167694\n",
       "...                            ...   ...                ...              ...\n",
       "No Moco\\nWalk                  0.0    10                 35        40.702473\n",
       "Moco Pt                      236.0    10                254       256.245201\n",
       "Moco Auto                     89.0    10                164       131.060004\n",
       "Moco Bike                    479.0    10                345       381.302727\n",
       "Moco Walk                      0.0    10                 41        35.080412\n",
       "\n",
       "[80 rows x 4 columns]"
      ],
      "text/html": [
       "<div>\n",
       "<style scoped>\n",
       "    .dataframe tbody tr th:only-of-type {\n",
       "        vertical-align: middle;\n",
       "    }\n",
       "\n",
       "    .dataframe tbody tr th {\n",
       "        vertical-align: top;\n",
       "    }\n",
       "\n",
       "    .dataframe thead th {\n",
       "        text-align: right;\n",
       "    }\n",
       "</style>\n",
       "<table border=\"1\" class=\"dataframe\">\n",
       "  <thead>\n",
       "    <tr style=\"text-align: right;\">\n",
       "      <th></th>\n",
       "      <th>Discrete Mode Share</th>\n",
       "      <th>Fold</th>\n",
       "      <th>Actual Mode Share</th>\n",
       "      <th>Pro. Mode Share</th>\n",
       "    </tr>\n",
       "  </thead>\n",
       "  <tbody>\n",
       "    <tr>\n",
       "      <th>No Moco\\nPt</th>\n",
       "      <td>227.0</td>\n",
       "      <td>1</td>\n",
       "      <td>232</td>\n",
       "      <td>260.197437</td>\n",
       "    </tr>\n",
       "    <tr>\n",
       "      <th>No Moco\\nAuto</th>\n",
       "      <td>273.0</td>\n",
       "      <td>1</td>\n",
       "      <td>257</td>\n",
       "      <td>221.124137</td>\n",
       "    </tr>\n",
       "    <tr>\n",
       "      <th>No Moco\\nBike</th>\n",
       "      <td>305.0</td>\n",
       "      <td>1</td>\n",
       "      <td>279</td>\n",
       "      <td>294.478848</td>\n",
       "    </tr>\n",
       "    <tr>\n",
       "      <th>No Moco\\nWalk</th>\n",
       "      <td>5.0</td>\n",
       "      <td>1</td>\n",
       "      <td>42</td>\n",
       "      <td>34.194598</td>\n",
       "    </tr>\n",
       "    <tr>\n",
       "      <th>Moco Pt</th>\n",
       "      <td>265.0</td>\n",
       "      <td>1</td>\n",
       "      <td>247</td>\n",
       "      <td>270.167694</td>\n",
       "    </tr>\n",
       "    <tr>\n",
       "      <th>...</th>\n",
       "      <td>...</td>\n",
       "      <td>...</td>\n",
       "      <td>...</td>\n",
       "      <td>...</td>\n",
       "    </tr>\n",
       "    <tr>\n",
       "      <th>No Moco\\nWalk</th>\n",
       "      <td>0.0</td>\n",
       "      <td>10</td>\n",
       "      <td>35</td>\n",
       "      <td>40.702473</td>\n",
       "    </tr>\n",
       "    <tr>\n",
       "      <th>Moco Pt</th>\n",
       "      <td>236.0</td>\n",
       "      <td>10</td>\n",
       "      <td>254</td>\n",
       "      <td>256.245201</td>\n",
       "    </tr>\n",
       "    <tr>\n",
       "      <th>Moco Auto</th>\n",
       "      <td>89.0</td>\n",
       "      <td>10</td>\n",
       "      <td>164</td>\n",
       "      <td>131.060004</td>\n",
       "    </tr>\n",
       "    <tr>\n",
       "      <th>Moco Bike</th>\n",
       "      <td>479.0</td>\n",
       "      <td>10</td>\n",
       "      <td>345</td>\n",
       "      <td>381.302727</td>\n",
       "    </tr>\n",
       "    <tr>\n",
       "      <th>Moco Walk</th>\n",
       "      <td>0.0</td>\n",
       "      <td>10</td>\n",
       "      <td>41</td>\n",
       "      <td>35.080412</td>\n",
       "    </tr>\n",
       "  </tbody>\n",
       "</table>\n",
       "<p>80 rows × 4 columns</p>\n",
       "</div>"
      ]
     },
     "execution_count": 22,
     "metadata": {},
     "output_type": "execute_result"
    }
   ],
   "execution_count": 22
  },
  {
   "metadata": {
    "ExecuteTime": {
     "end_time": "2025-03-31T14:09:24.116617Z",
     "start_time": "2025-03-31T14:09:24.088114Z"
    }
   },
   "cell_type": "code",
   "source": [
    "df_2['SE_Discrete Mode Share'] = (df_2['Discrete Mode Share'] - df_2['Actual Mode Share'])**2\n",
    "df_2['SE_Pro. Mode Share'] = (df_2['Pro. Mode Share'] - df_2['Actual Mode Share'])**2\n",
    "\n",
    "df_rms2 = df_2.groupby('Fold')[['SE_Pro. Mode Share','SE_Discrete Mode Share']].mean()\n",
    "df_rms2 = df_rms2**0.5\n",
    "cols = ['RMSE_M6RF','RMSE_M5RF']\n",
    "df_rms2.columns = cols\n",
    "df_rms2.describe()"
   ],
   "id": "ab3e1de88cc13c21",
   "outputs": [
    {
     "data": {
      "text/plain": [
       "       RMSE_M6RF  RMSE_M5RF\n",
       "count  10.000000  10.000000\n",
       "mean   20.963384  48.506470\n",
       "std     6.518964   9.879688\n",
       "min     8.142482  30.740852\n",
       "25%    18.456331  42.442500\n",
       "50%    22.871583  48.549026\n",
       "75%    24.567853  54.843400\n",
       "max    28.548570  62.453983"
      ],
      "text/html": [
       "<div>\n",
       "<style scoped>\n",
       "    .dataframe tbody tr th:only-of-type {\n",
       "        vertical-align: middle;\n",
       "    }\n",
       "\n",
       "    .dataframe tbody tr th {\n",
       "        vertical-align: top;\n",
       "    }\n",
       "\n",
       "    .dataframe thead th {\n",
       "        text-align: right;\n",
       "    }\n",
       "</style>\n",
       "<table border=\"1\" class=\"dataframe\">\n",
       "  <thead>\n",
       "    <tr style=\"text-align: right;\">\n",
       "      <th></th>\n",
       "      <th>RMSE_M6RF</th>\n",
       "      <th>RMSE_M5RF</th>\n",
       "    </tr>\n",
       "  </thead>\n",
       "  <tbody>\n",
       "    <tr>\n",
       "      <th>count</th>\n",
       "      <td>10.000000</td>\n",
       "      <td>10.000000</td>\n",
       "    </tr>\n",
       "    <tr>\n",
       "      <th>mean</th>\n",
       "      <td>20.963384</td>\n",
       "      <td>48.506470</td>\n",
       "    </tr>\n",
       "    <tr>\n",
       "      <th>std</th>\n",
       "      <td>6.518964</td>\n",
       "      <td>9.879688</td>\n",
       "    </tr>\n",
       "    <tr>\n",
       "      <th>min</th>\n",
       "      <td>8.142482</td>\n",
       "      <td>30.740852</td>\n",
       "    </tr>\n",
       "    <tr>\n",
       "      <th>25%</th>\n",
       "      <td>18.456331</td>\n",
       "      <td>42.442500</td>\n",
       "    </tr>\n",
       "    <tr>\n",
       "      <th>50%</th>\n",
       "      <td>22.871583</td>\n",
       "      <td>48.549026</td>\n",
       "    </tr>\n",
       "    <tr>\n",
       "      <th>75%</th>\n",
       "      <td>24.567853</td>\n",
       "      <td>54.843400</td>\n",
       "    </tr>\n",
       "    <tr>\n",
       "      <th>max</th>\n",
       "      <td>28.548570</td>\n",
       "      <td>62.453983</td>\n",
       "    </tr>\n",
       "  </tbody>\n",
       "</table>\n",
       "</div>"
      ]
     },
     "execution_count": 23,
     "metadata": {},
     "output_type": "execute_result"
    }
   ],
   "execution_count": 23
  },
  {
   "metadata": {
    "ExecuteTime": {
     "end_time": "2025-03-31T14:09:24.463182Z",
     "start_time": "2025-03-31T14:09:24.235844Z"
    }
   },
   "cell_type": "code",
   "source": [
    "sns.boxplot(data=df_rms2)\n",
    "plt.title('RMSE for Discrete and Probabilistic Mode Share')\n",
    "plt.savefig('plots/RQ2_mode/rmse_rf_m5rf_m6rf.png')\n"
   ],
   "id": "f434160f4d9ae74f",
   "outputs": [
    {
     "data": {
      "text/plain": [
       "<Figure size 640x480 with 1 Axes>"
      ],
      "image/png": "[encoded data removed]"
     },
     "metadata": {},
     "output_type": "display_data"
    }
   ],
   "execution_count": 24
  },
  {
   "metadata": {
    "ExecuteTime": {
     "end_time": "2025-03-31T14:09:24.525112Z",
     "start_time": "2025-03-31T14:09:24.511492Z"
    }
   },
   "cell_type": "code",
   "source": [
    "p_values = wilcoxon(df_rms2['RMSE_M6RF'], df_rms2['RMSE_M5RF'],alternative='less')\n",
    "p_values"
   ],
   "id": "52e046a1c147d6fd",
   "outputs": [
    {
     "data": {
      "text/plain": [
       "WilcoxonResult(statistic=0.0, pvalue=0.0009765625)"
      ]
     },
     "execution_count": 25,
     "metadata": {},
     "output_type": "execute_result"
    }
   ],
   "execution_count": 25
  },
  {
   "metadata": {
    "ExecuteTime": {
     "end_time": "2025-03-31T14:09:25.026941Z",
     "start_time": "2025-03-31T14:09:24.617212Z"
    }
   },
   "cell_type": "code",
   "source": [
    "sns.histplot(df_rms2['RMSE_M6RF'], kde=True)\n",
    "sns.histplot(df_rms2['RMSE_M5RF'], kde=True)\n",
    "plt.legend(['M6RF','M5RF'])\n",
    "plt.xlabel('RMSE')\n",
    "plt.title('RMSE distribution for Discrete and Probabilistic Mode Share')\n",
    "plt.savefig('plots/RQ2_mode/rmse_rf_m5rf_m6rf_hist.png')"
   ],
   "id": "87643ef4f40b196a",
   "outputs": [
    {
     "data": {
      "text/plain": [
       "<Figure size 640x480 with 1 Axes>"
      ],
      "image/png": "[encoded data removed]"
     },
     "metadata": {},
     "output_type": "display_data"
    }
   ],
   "execution_count": 26
  },
  {
   "metadata": {
    "ExecuteTime": {
     "end_time": "2025-03-31T14:09:25.103991Z",
     "start_time": "2025-03-31T14:09:25.069218Z"
    }
   },
   "cell_type": "code",
   "source": [
    "df_moco_walk_2 = df_2[df_2.index == 'Moco Walk']\n",
    "df_moco_walk_2 = df_moco_walk_2.copy()\n",
    "\n",
    "df_moco_walk_2.loc[:,'E_Discrete Mode Share'] = (df_moco_walk_2['Discrete Mode Share'] - df_moco_walk_2['Actual Mode Share'])\n",
    "df_moco_walk_2.loc[:,'E_Pro. Mode Share'] = (df_moco_walk_2['Pro. Mode Share'] - df_moco_walk_2['Actual Mode Share'])\n",
    "df_moco_walk_2 = df_moco_walk_2[['E_Discrete Mode Share','E_Pro. Mode Share']]\n",
    "df_moco_walk_2.columns = ['M5RF','M6RF']\n",
    "df_moco_walk_2.describe()"
   ],
   "id": "6fb534baa7af1677",
   "outputs": [
    {
     "data": {
      "text/plain": [
       "            M5RF       M6RF\n",
       "count  10.000000  10.000000\n",
       "mean  -37.500000  -1.650585\n",
       "std     7.199537   8.033350\n",
       "min   -47.000000 -17.058840\n",
       "25%   -42.500000  -4.891459\n",
       "50%   -39.000000  -0.006598\n",
       "75%   -31.000000   4.328445\n",
       "max   -26.000000   7.391509"
      ],
      "text/html": [
       "<div>\n",
       "<style scoped>\n",
       "    .dataframe tbody tr th:only-of-type {\n",
       "        vertical-align: middle;\n",
       "    }\n",
       "\n",
       "    .dataframe tbody tr th {\n",
       "        vertical-align: top;\n",
       "    }\n",
       "\n",
       "    .dataframe thead th {\n",
       "        text-align: right;\n",
       "    }\n",
       "</style>\n",
       "<table border=\"1\" class=\"dataframe\">\n",
       "  <thead>\n",
       "    <tr style=\"text-align: right;\">\n",
       "      <th></th>\n",
       "      <th>M5RF</th>\n",
       "      <th>M6RF</th>\n",
       "    </tr>\n",
       "  </thead>\n",
       "  <tbody>\n",
       "    <tr>\n",
       "      <th>count</th>\n",
       "      <td>10.000000</td>\n",
       "      <td>10.000000</td>\n",
       "    </tr>\n",
       "    <tr>\n",
       "      <th>mean</th>\n",
       "      <td>-37.500000</td>\n",
       "      <td>-1.650585</td>\n",
       "    </tr>\n",
       "    <tr>\n",
       "      <th>std</th>\n",
       "      <td>7.199537</td>\n",
       "      <td>8.033350</td>\n",
       "    </tr>\n",
       "    <tr>\n",
       "      <th>min</th>\n",
       "      <td>-47.000000</td>\n",
       "      <td>-17.058840</td>\n",
       "    </tr>\n",
       "    <tr>\n",
       "      <th>25%</th>\n",
       "      <td>-42.500000</td>\n",
       "      <td>-4.891459</td>\n",
       "    </tr>\n",
       "    <tr>\n",
       "      <th>50%</th>\n",
       "      <td>-39.000000</td>\n",
       "      <td>-0.006598</td>\n",
       "    </tr>\n",
       "    <tr>\n",
       "      <th>75%</th>\n",
       "      <td>-31.000000</td>\n",
       "      <td>4.328445</td>\n",
       "    </tr>\n",
       "    <tr>\n",
       "      <th>max</th>\n",
       "      <td>-26.000000</td>\n",
       "      <td>7.391509</td>\n",
       "    </tr>\n",
       "  </tbody>\n",
       "</table>\n",
       "</div>"
      ]
     },
     "execution_count": 27,
     "metadata": {},
     "output_type": "execute_result"
    }
   ],
   "execution_count": 27
  },
  {
   "metadata": {
    "ExecuteTime": {
     "end_time": "2025-03-31T14:09:25.445580Z",
     "start_time": "2025-03-31T14:09:25.198102Z"
    }
   },
   "cell_type": "code",
   "source": [
    "sns.boxplot(data=df_moco_walk_2)\n",
    "plt.title('Moco Walk Error level for Discrete and Probabilistic Mode Share')\n",
    "plt.savefig('plots/RQ2_mode/error_rf_m5rf_m6rf_moco_walk.png')"
   ],
   "id": "a6aa9c606771da79",
   "outputs": [
    {
     "data": {
      "text/plain": [
       "<Figure size 640x480 with 1 Axes>"
      ],
      "image/png": "[encoded data removed]"
     },
     "metadata": {},
     "output_type": "display_data"
    }
   ],
   "execution_count": 28
  },
  {
   "metadata": {
    "ExecuteTime": {
     "end_time": "2025-03-31T14:09:26.023968Z",
     "start_time": "2025-03-31T14:09:25.493332Z"
    }
   },
   "cell_type": "code",
   "source": [
    "sns.histplot(df_moco_walk_2['M5RF'], kde=True)\n",
    "sns.histplot(df_moco_walk_2['M6RF'], kde=True)\n",
    "plt.legend(['M5RF','M6RF'])\n",
    "plt.xlabel('Error')\n",
    "plt.title('Moco Walk Error distribution for Discrete and Probabilistic Mode Share')\n",
    "plt.savefig('plots/RQ2_mode/error_rf_m5rf_m6rf_moco_walk_hist.png')"
   ],
   "id": "a091823dd09a3b19",
   "outputs": [
    {
     "data": {
      "text/plain": [
       "<Figure size 640x480 with 1 Axes>"
      ],
      "image/png": "[encoded data removed]"
     },
     "metadata": {},
     "output_type": "display_data"
    }
   ],
   "execution_count": 29
  },
  {
   "metadata": {
    "ExecuteTime": {
     "end_time": "2025-03-31T14:09:26.071880Z",
     "start_time": "2025-03-31T14:09:26.059267Z"
    }
   },
   "cell_type": "code",
   "source": [
    "p_values = wilcoxon(df_moco_walk_2['M6RF'], df_moco_walk_2['M5RF'],alternative='greater')\n",
    "p_values"
   ],
   "id": "dafd47b52f5708bc",
   "outputs": [
    {
     "data": {
      "text/plain": [
       "WilcoxonResult(statistic=55.0, pvalue=0.0009765625)"
      ]
     },
     "execution_count": 30,
     "metadata": {},
     "output_type": "execute_result"
    }
   ],
   "execution_count": 30
  },
  {
   "metadata": {
    "ExecuteTime": {
     "end_time": "2025-03-31T14:09:26.135502Z",
     "start_time": "2025-03-31T14:09:26.105322Z"
    }
   },
   "cell_type": "code",
   "source": [
    "df_ann_params = pd.read_csv('reports/5_20.0/best_params_ann_5.0_20.0.csv')\n",
    "df_ann_params.rename(columns={'Unnamed: 0': 'Model'}, inplace=True)\n",
    "df_ann_params"
   ],
   "id": "32ba4caf0d992177",
   "outputs": [
    {
     "data": {
      "text/plain": [
       "     Model  n_hidden_layers  n_neurons  learning_rate  batch_size  n_epochs  \\\n",
       "0    M1ANN                2        128          0.010         500        25   \n",
       "1    M2ANN                2        128          0.010         500        25   \n",
       "2    M3ANN                2        256          0.001         500        45   \n",
       "3    M4ANN                3         32          0.001         128        60   \n",
       "4    M5ANN                1        256          0.010         128        60   \n",
       "5    M6ANN                1         64          0.001        1000       100   \n",
       "6    M7ANN                3        256          0.010         500        60   \n",
       "7    M8ANN                3         32          0.001         128        60   \n",
       "8    M9ANN                3        256          0.010         500        60   \n",
       "9   M10ANN                3         32          0.001         128        60   \n",
       "10  M11ANN                1         32          0.001        1000        45   \n",
       "11  M12ANN                1         64          0.001        1000       100   \n",
       "\n",
       "    dropout  \n",
       "0      0.30  \n",
       "1      0.30  \n",
       "2      0.00  \n",
       "3      0.15  \n",
       "4      0.30  \n",
       "5      0.50  \n",
       "6      0.00  \n",
       "7      0.15  \n",
       "8      0.00  \n",
       "9      0.15  \n",
       "10     0.15  \n",
       "11     0.50  "
      ],
      "text/html": [
       "<div>\n",
       "<style scoped>\n",
       "    .dataframe tbody tr th:only-of-type {\n",
       "        vertical-align: middle;\n",
       "    }\n",
       "\n",
       "    .dataframe tbody tr th {\n",
       "        vertical-align: top;\n",
       "    }\n",
       "\n",
       "    .dataframe thead th {\n",
       "        text-align: right;\n",
       "    }\n",
       "</style>\n",
       "<table border=\"1\" class=\"dataframe\">\n",
       "  <thead>\n",
       "    <tr style=\"text-align: right;\">\n",
       "      <th></th>\n",
       "      <th>Model</th>\n",
       "      <th>n_hidden_layers</th>\n",
       "      <th>n_neurons</th>\n",
       "      <th>learning_rate</th>\n",
       "      <th>batch_size</th>\n",
       "      <th>n_epochs</th>\n",
       "      <th>dropout</th>\n",
       "    </tr>\n",
       "  </thead>\n",
       "  <tbody>\n",
       "    <tr>\n",
       "      <th>0</th>\n",
       "      <td>M1ANN</td>\n",
       "      <td>2</td>\n",
       "      <td>128</td>\n",
       "      <td>0.010</td>\n",
       "      <td>500</td>\n",
       "      <td>25</td>\n",
       "      <td>0.30</td>\n",
       "    </tr>\n",
       "    <tr>\n",
       "      <th>1</th>\n",
       "      <td>M2ANN</td>\n",
       "      <td>2</td>\n",
       "      <td>128</td>\n",
       "      <td>0.010</td>\n",
       "      <td>500</td>\n",
       "      <td>25</td>\n",
       "      <td>0.30</td>\n",
       "    </tr>\n",
       "    <tr>\n",
       "      <th>2</th>\n",
       "      <td>M3ANN</td>\n",
       "      <td>2</td>\n",
       "      <td>256</td>\n",
       "      <td>0.001</td>\n",
       "      <td>500</td>\n",
       "      <td>45</td>\n",
       "      <td>0.00</td>\n",
       "    </tr>\n",
       "    <tr>\n",
       "      <th>3</th>\n",
       "      <td>M4ANN</td>\n",
       "      <td>3</td>\n",
       "      <td>32</td>\n",
       "      <td>0.001</td>\n",
       "      <td>128</td>\n",
       "      <td>60</td>\n",
       "      <td>0.15</td>\n",
       "    </tr>\n",
       "    <tr>\n",
       "      <th>4</th>\n",
       "      <td>M5ANN</td>\n",
       "      <td>1</td>\n",
       "      <td>256</td>\n",
       "      <td>0.010</td>\n",
       "      <td>128</td>\n",
       "      <td>60</td>\n",
       "      <td>0.30</td>\n",
       "    </tr>\n",
       "    <tr>\n",
       "      <th>5</th>\n",
       "      <td>M6ANN</td>\n",
       "      <td>1</td>\n",
       "      <td>64</td>\n",
       "      <td>0.001</td>\n",
       "      <td>1000</td>\n",
       "      <td>100</td>\n",
       "      <td>0.50</td>\n",
       "    </tr>\n",
       "    <tr>\n",
       "      <th>6</th>\n",
       "      <td>M7ANN</td>\n",
       "      <td>3</td>\n",
       "      <td>256</td>\n",
       "      <td>0.010</td>\n",
       "      <td>500</td>\n",
       "      <td>60</td>\n",
       "      <td>0.00</td>\n",
       "    </tr>\n",
       "    <tr>\n",
       "      <th>7</th>\n",
       "      <td>M8ANN</td>\n",
       "      <td>3</td>\n",
       "      <td>32</td>\n",
       "      <td>0.001</td>\n",
       "      <td>128</td>\n",
       "      <td>60</td>\n",
       "      <td>0.15</td>\n",
       "    </tr>\n",
       "    <tr>\n",
       "      <th>8</th>\n",
       "      <td>M9ANN</td>\n",
       "      <td>3</td>\n",
       "      <td>256</td>\n",
       "      <td>0.010</td>\n",
       "      <td>500</td>\n",
       "      <td>60</td>\n",
       "      <td>0.00</td>\n",
       "    </tr>\n",
       "    <tr>\n",
       "      <th>9</th>\n",
       "      <td>M10ANN</td>\n",
       "      <td>3</td>\n",
       "      <td>32</td>\n",
       "      <td>0.001</td>\n",
       "      <td>128</td>\n",
       "      <td>60</td>\n",
       "      <td>0.15</td>\n",
       "    </tr>\n",
       "    <tr>\n",
       "      <th>10</th>\n",
       "      <td>M11ANN</td>\n",
       "      <td>1</td>\n",
       "      <td>32</td>\n",
       "      <td>0.001</td>\n",
       "      <td>1000</td>\n",
       "      <td>45</td>\n",
       "      <td>0.15</td>\n",
       "    </tr>\n",
       "    <tr>\n",
       "      <th>11</th>\n",
       "      <td>M12ANN</td>\n",
       "      <td>1</td>\n",
       "      <td>64</td>\n",
       "      <td>0.001</td>\n",
       "      <td>1000</td>\n",
       "      <td>100</td>\n",
       "      <td>0.50</td>\n",
       "    </tr>\n",
       "  </tbody>\n",
       "</table>\n",
       "</div>"
      ]
     },
     "execution_count": 31,
     "metadata": {},
     "output_type": "execute_result"
    }
   ],
   "execution_count": 31
  },
  {
   "metadata": {
    "ExecuteTime": {
     "end_time": "2025-03-31T14:09:26.290657Z",
     "start_time": "2025-03-31T14:09:26.246364Z"
    }
   },
   "cell_type": "code",
   "source": [
    "def mode_share_ann(data:pd.DataFrame, models: tp.List[str]):\n",
    "    modes = ['No Moco\\nPt','No Moco\\nAuto','No Moco\\nBike','No Moco\\nWalk','Moco Pt','Moco Auto','Moco Bike','Moco Walk']\n",
    "   \n",
    "    tf.random.set_seed(42)\n",
    "    np.random.seed(42)\n",
    "    random.seed(42)\n",
    "   \n",
    "   \n",
    "    df = pd.DataFrame()\n",
    "    df_prob = pd.DataFrame(columns=['Pro. Mode Share'])\n",
    "    for model in models:\n",
    "        \n",
    "        df_ann = data[data['Model'] == model]\n",
    "        \n",
    "        n_hidden_layers = df_ann['n_hidden_layers'].values[0]\n",
    "        n_neurons = df_ann['n_neurons'].values[0]\n",
    "        learning_rate = df_ann['learning_rate'].values[0]\n",
    "        batch_size = df_ann['batch_size'].values[0]\n",
    "        epochs = df_ann['n_epochs'].values[0]\n",
    "        dropout = df_ann['dropout'].values[0]\n",
    "        \n",
    "        \n",
    "        if model == 'M1ANN':\n",
    "            kfold = KFold(n_splits=10, shuffle=True, random_state=42)\n",
    "            for row, (train_val_index, test_index) in enumerate(kfold.split(X)):\n",
    "                X_train_val, X_test = X.iloc[train_val_index], X.iloc[test_index]\n",
    "                y_train_val, y_test = y.iloc[train_val_index], y.iloc[test_index]\n",
    "                X_train, X_val, y_train, y_val = train_test_split(X_train_val, y_train_val, test_size=0.11, random_state=42)\n",
    "                \n",
    "                scaler = StandardScaler()\n",
    "                X_train = X_train.values\n",
    "                X_train = scaler.fit_transform(X_train)\n",
    "                X_val = X_val.values\n",
    "                X_val = scaler.transform(X_val)\n",
    "                X_test = X_test.values\n",
    "                X_test = scaler.transform(X_test)\n",
    "                ann = Sequential()\n",
    "                ann.add(Dense(63, activation='relu'))\n",
    "                ann.add(Dropout(dropout,seed=42))\n",
    "                for _ in range(n_hidden_layers):\n",
    "                    ann.add(Dense(n_neurons, activation='relu'))\n",
    "                    ann.add(Dropout(dropout,seed=42))\n",
    "                ann.add(Dense(8, activation='softmax'))\n",
    "                \n",
    "                ann.compile(optimizer=Adam(learning_rate=learning_rate), loss='sparse_categorical_crossentropy', metrics=['accuracy'])\n",
    "                ann.fit(X_train, y_train, batch_size=batch_size, epochs=epochs, verbose=0, callbacks=[EarlyStopping(patience=10,monitor ='accuracy',mode='max')],validation_data=(X_val, y_val))\n",
    "                \n",
    "                y_pred = np.argmax(ann.predict(X_test), axis=-1)\n",
    "                \n",
    "                df_mode_pred = pd.DataFrame(y_pred, columns=['choice'])\n",
    "                df_mode_pred['choice'] = df_mode_pred['choice'].map({0: 'No Moco\\nPt', 1: 'No Moco\\nAuto', 2: 'No Moco\\nBike', 3: 'No Moco\\nWalk', 4: 'Moco Pt', 5: 'Moco Auto', 6: 'Moco Bike', 7: 'Moco Walk'})\n",
    "                \n",
    "                df_val_counts = df_mode_pred['choice'].value_counts().to_frame()\n",
    "                df_val_counts = df_val_counts.reindex(modes)\n",
    "                df_val_counts.rename(columns={'count': 'Discrete Mode Share'}, inplace=True)\n",
    "                df_val_counts['Fold'] = row + 1\n",
    "                \n",
    "                y_test_counts = y_test.map({0: 'No Moco\\nPt', 1: 'No Moco\\nAuto', 2: 'No Moco\\nBike', 3: 'No Moco\\nWalk', 4: 'Moco Pt', 5: 'Moco Auto', 6: 'Moco Bike', 7: 'Moco Walk'}).value_counts().to_frame()\n",
    "                y_test_counts.rename(columns={'count': 'Actual Mode Share'}, inplace=True)\n",
    "                \n",
    "                df_val_counts['Actual Mode Share'] = y_test_counts['Actual Mode Share']\n",
    "                df = pd.concat([df, df_val_counts], axis=0)\n",
    "        \n",
    "        \n",
    "        elif model == 'M2ANN':\n",
    "            kfold = KFold(n_splits=10, shuffle=True, random_state=42)\n",
    "            \n",
    "            for row, (train_val_index, test_index) in enumerate(kfold.split(X)):\n",
    "                X_train_val, X_test = X.iloc[train_val_index], X.iloc[test_index]\n",
    "                y_train_val, y_test = y.iloc[train_val_index], y.iloc[test_index]\n",
    "                X_train, X_val, y_train, y_val = train_test_split(X_train_val, y_train_val, test_size=0.11, random_state=42)\n",
    "                \n",
    "                scaler = StandardScaler()\n",
    "                X_train = X_train.values\n",
    "                X_train = scaler.fit_transform(X_train)\n",
    "                X_val = X_val.values\n",
    "                X_val = scaler.transform(X_val)\n",
    "                X_test = X_test.values\n",
    "                X_test = scaler.transform(X_test)\n",
    "                ann = Sequential()\n",
    "                ann.add(Dense(63, activation='relu'))\n",
    "                ann.add(Dropout(dropout,seed=42))\n",
    "                for _ in range(n_hidden_layers):\n",
    "                    ann.add(Dense(n_neurons, activation='relu'))\n",
    "                    ann.add(Dropout(dropout,seed=42))\n",
    "                ann.add(Dense(8, activation='softmax'))\n",
    "                \n",
    "                ann.compile(optimizer=Adam(learning_rate=learning_rate), loss='sparse_categorical_crossentropy', metrics=['accuracy'])\n",
    "                ann.fit(X_train, y_train, batch_size=batch_size, epochs=epochs, verbose=0, callbacks=[EarlyStopping(patience=10,monitor ='loss',mode='min')],validation_data=(X_val, y_val))\n",
    "                \n",
    "                \n",
    "                y_pred = ann.predict(X_test)\n",
    "                df_mode_pred = pd.DataFrame(y_pred, columns=['No Moco\\nPt','No Moco\\nAuto','No Moco\\nBike','No Moco\\nWalk','Moco Pt','Moco Auto','Moco Bike','Moco Walk'])\n",
    "                \n",
    "                df_mode_pred.loc['total'] = df_mode_pred.sum()\n",
    "                df_mode_pred = df_mode_pred.loc['total'].values\n",
    "                \n",
    "                df_mode_pred = pd.DataFrame(df_mode_pred, columns=['Pro. Mode Share'])\n",
    "                df_mode_pred.index = modes\n",
    "                \n",
    "                df_prob = pd.concat([df_prob, df_mode_pred], axis=0)           \n",
    "            \n",
    "    df = pd.concat([df, df_prob], axis=1)\n",
    "    \n",
    "    return df   \n",
    "    "
   ],
   "id": "3aa9168a16c60571",
   "outputs": [],
   "execution_count": 32
  },
  {
   "metadata": {
    "ExecuteTime": {
     "end_time": "2025-03-31T14:10:55.819965Z",
     "start_time": "2025-03-31T14:09:26.355068Z"
    }
   },
   "cell_type": "code",
   "source": [
    "df_3 = mode_share_ann(df_ann_params, ['M1ANN', 'M2ANN'])\n",
    "df_3"
   ],
   "id": "8d63ea78d3de9739",
   "outputs": [
    {
     "name": "stdout",
     "output_type": "stream",
     "text": [
      "51/51 [==============================] - 0s 930us/step\n",
      "51/51 [==============================] - 0s 920us/step\n",
      "51/51 [==============================] - 0s 800us/step\n",
      "51/51 [==============================] - 0s 840us/step\n",
      "51/51 [==============================] - 0s 950us/step\n",
      "51/51 [==============================] - 0s 1ms/step\n",
      "51/51 [==============================] - 0s 1ms/step\n",
      "51/51 [==============================] - 0s 970us/step\n",
      "51/51 [==============================] - 0s 1ms/step\n",
      "51/51 [==============================] - 0s 1ms/step\n",
      "51/51 [==============================] - 0s 1ms/step\n",
      "51/51 [==============================] - 0s 1ms/step\n",
      "51/51 [==============================] - 0s 810us/step\n",
      "51/51 [==============================] - 0s 970us/step\n",
      "51/51 [==============================] - 0s 1ms/step\n",
      "51/51 [==============================] - 0s 1ms/step\n",
      "51/51 [==============================] - 0s 980us/step\n",
      "51/51 [==============================] - 0s 1ms/step\n",
      "51/51 [==============================] - 0s 1ms/step\n",
      "51/51 [==============================] - 0s 1ms/step\n",
      "df_prob columns: Index(['Pro. Mode Share'], dtype='object')\n",
      "len_df_prob: 80\n",
      "len_df: 80\n"
     ]
    },
    {
     "data": {
      "text/plain": [
       "               Discrete Mode Share  Fold  Actual Mode Share  Pro. Mode Share\n",
       "No Moco\\nPt                    280     1                261       302.892181\n",
       "No Moco\\nAuto                  220     1                201       188.570541\n",
       "No Moco\\nBike                  265     1                286       242.943954\n",
       "No Moco\\nWalk                   24     1                 41        54.420731\n",
       "Moco Pt                        284     1                266       269.365936\n",
       "...                            ...   ...                ...              ...\n",
       "No Moco\\nWalk                   20    10                 45        31.999449\n",
       "Moco Pt                        257    10                238       251.174667\n",
       "Moco Auto                      115    10                140       133.341919\n",
       "Moco Bike                      388    10                345       345.958954\n",
       "Moco Walk                        7    10                 44        36.759548\n",
       "\n",
       "[80 rows x 4 columns]"
      ],
      "text/html": [
       "<div>\n",
       "<style scoped>\n",
       "    .dataframe tbody tr th:only-of-type {\n",
       "        vertical-align: middle;\n",
       "    }\n",
       "\n",
       "    .dataframe tbody tr th {\n",
       "        vertical-align: top;\n",
       "    }\n",
       "\n",
       "    .dataframe thead th {\n",
       "        text-align: right;\n",
       "    }\n",
       "</style>\n",
       "<table border=\"1\" class=\"dataframe\">\n",
       "  <thead>\n",
       "    <tr style=\"text-align: right;\">\n",
       "      <th></th>\n",
       "      <th>Discrete Mode Share</th>\n",
       "      <th>Fold</th>\n",
       "      <th>Actual Mode Share</th>\n",
       "      <th>Pro. Mode Share</th>\n",
       "    </tr>\n",
       "  </thead>\n",
       "  <tbody>\n",
       "    <tr>\n",
       "      <th>No Moco\\nPt</th>\n",
       "      <td>280</td>\n",
       "      <td>1</td>\n",
       "      <td>261</td>\n",
       "      <td>302.892181</td>\n",
       "    </tr>\n",
       "    <tr>\n",
       "      <th>No Moco\\nAuto</th>\n",
       "      <td>220</td>\n",
       "      <td>1</td>\n",
       "      <td>201</td>\n",
       "      <td>188.570541</td>\n",
       "    </tr>\n",
       "    <tr>\n",
       "      <th>No Moco\\nBike</th>\n",
       "      <td>265</td>\n",
       "      <td>1</td>\n",
       "      <td>286</td>\n",
       "      <td>242.943954</td>\n",
       "    </tr>\n",
       "    <tr>\n",
       "      <th>No Moco\\nWalk</th>\n",
       "      <td>24</td>\n",
       "      <td>1</td>\n",
       "      <td>41</td>\n",
       "      <td>54.420731</td>\n",
       "    </tr>\n",
       "    <tr>\n",
       "      <th>Moco Pt</th>\n",
       "      <td>284</td>\n",
       "      <td>1</td>\n",
       "      <td>266</td>\n",
       "      <td>269.365936</td>\n",
       "    </tr>\n",
       "    <tr>\n",
       "      <th>...</th>\n",
       "      <td>...</td>\n",
       "      <td>...</td>\n",
       "      <td>...</td>\n",
       "      <td>...</td>\n",
       "    </tr>\n",
       "    <tr>\n",
       "      <th>No Moco\\nWalk</th>\n",
       "      <td>20</td>\n",
       "      <td>10</td>\n",
       "      <td>45</td>\n",
       "      <td>31.999449</td>\n",
       "    </tr>\n",
       "    <tr>\n",
       "      <th>Moco Pt</th>\n",
       "      <td>257</td>\n",
       "      <td>10</td>\n",
       "      <td>238</td>\n",
       "      <td>251.174667</td>\n",
       "    </tr>\n",
       "    <tr>\n",
       "      <th>Moco Auto</th>\n",
       "      <td>115</td>\n",
       "      <td>10</td>\n",
       "      <td>140</td>\n",
       "      <td>133.341919</td>\n",
       "    </tr>\n",
       "    <tr>\n",
       "      <th>Moco Bike</th>\n",
       "      <td>388</td>\n",
       "      <td>10</td>\n",
       "      <td>345</td>\n",
       "      <td>345.958954</td>\n",
       "    </tr>\n",
       "    <tr>\n",
       "      <th>Moco Walk</th>\n",
       "      <td>7</td>\n",
       "      <td>10</td>\n",
       "      <td>44</td>\n",
       "      <td>36.759548</td>\n",
       "    </tr>\n",
       "  </tbody>\n",
       "</table>\n",
       "<p>80 rows × 4 columns</p>\n",
       "</div>"
      ]
     },
     "execution_count": 33,
     "metadata": {},
     "output_type": "execute_result"
    }
   ],
   "execution_count": 33
  },
  {
   "metadata": {
    "ExecuteTime": {
     "end_time": "2025-03-31T14:10:55.958223Z",
     "start_time": "2025-03-31T14:10:55.931136Z"
    }
   },
   "cell_type": "code",
   "source": [
    "df_3['SE_Discrete Mode Share'] = (df_3['Discrete Mode Share'] - df_3['Actual Mode Share'])**2\n",
    "df_3['SE_Pro. Mode Share'] = (df_3['Pro. Mode Share'] - df_3['Actual Mode Share'])**2\n",
    "\n",
    "df_rms3 = df_3.groupby('Fold')[['SE_Pro. Mode Share','SE_Discrete Mode Share']].mean()\n",
    "df_rms3 = df_rms3**0.5\n",
    "cols = ['RMSE_M2ANN','RMSE_M1ANN']\n",
    "df_rms3.columns = cols\n",
    "df_rms3.describe()"
   ],
   "id": "ffadbcda2aedd8b9",
   "outputs": [
    {
     "data": {
      "text/plain": [
       "       RMSE_M2ANN  RMSE_M1ANN\n",
       "count   10.000000   10.000000\n",
       "mean    20.272810   39.613755\n",
       "std      4.475436   15.171260\n",
       "min     14.654810   17.564168\n",
       "25%     16.066357   27.326749\n",
       "50%     21.472096   41.820712\n",
       "75%     22.307935   46.341055\n",
       "max     27.152769   67.057811"
      ],
      "text/html": [
       "<div>\n",
       "<style scoped>\n",
       "    .dataframe tbody tr th:only-of-type {\n",
       "        vertical-align: middle;\n",
       "    }\n",
       "\n",
       "    .dataframe tbody tr th {\n",
       "        vertical-align: top;\n",
       "    }\n",
       "\n",
       "    .dataframe thead th {\n",
       "        text-align: right;\n",
       "    }\n",
       "</style>\n",
       "<table border=\"1\" class=\"dataframe\">\n",
       "  <thead>\n",
       "    <tr style=\"text-align: right;\">\n",
       "      <th></th>\n",
       "      <th>RMSE_M2ANN</th>\n",
       "      <th>RMSE_M1ANN</th>\n",
       "    </tr>\n",
       "  </thead>\n",
       "  <tbody>\n",
       "    <tr>\n",
       "      <th>count</th>\n",
       "      <td>10.000000</td>\n",
       "      <td>10.000000</td>\n",
       "    </tr>\n",
       "    <tr>\n",
       "      <th>mean</th>\n",
       "      <td>20.272810</td>\n",
       "      <td>39.613755</td>\n",
       "    </tr>\n",
       "    <tr>\n",
       "      <th>std</th>\n",
       "      <td>4.475436</td>\n",
       "      <td>15.171260</td>\n",
       "    </tr>\n",
       "    <tr>\n",
       "      <th>min</th>\n",
       "      <td>14.654810</td>\n",
       "      <td>17.564168</td>\n",
       "    </tr>\n",
       "    <tr>\n",
       "      <th>25%</th>\n",
       "      <td>16.066357</td>\n",
       "      <td>27.326749</td>\n",
       "    </tr>\n",
       "    <tr>\n",
       "      <th>50%</th>\n",
       "      <td>21.472096</td>\n",
       "      <td>41.820712</td>\n",
       "    </tr>\n",
       "    <tr>\n",
       "      <th>75%</th>\n",
       "      <td>22.307935</td>\n",
       "      <td>46.341055</td>\n",
       "    </tr>\n",
       "    <tr>\n",
       "      <th>max</th>\n",
       "      <td>27.152769</td>\n",
       "      <td>67.057811</td>\n",
       "    </tr>\n",
       "  </tbody>\n",
       "</table>\n",
       "</div>"
      ]
     },
     "execution_count": 34,
     "metadata": {},
     "output_type": "execute_result"
    }
   ],
   "execution_count": 34
  },
  {
   "metadata": {
    "ExecuteTime": {
     "end_time": "2025-03-31T14:10:56.409297Z",
     "start_time": "2025-03-31T14:10:56.130574Z"
    }
   },
   "cell_type": "code",
   "source": [
    "sns.boxplot(data=df_rms3)\n",
    "plt.title('RMSE for Discrete and Probabilistic Mode Share')\n",
    "plt.savefig('plots/RQ2_mode/rmse_rf_m1ann_m2ann.png')"
   ],
   "id": "84623bd2d9464551",
   "outputs": [
    {
     "data": {
      "text/plain": [
       "<Figure size 640x480 with 1 Axes>"
      ],
      "image/png": "[encoded data removed]"
     },
     "metadata": {},
     "output_type": "display_data"
    }
   ],
   "execution_count": 35
  },
  {
   "metadata": {
    "ExecuteTime": {
     "end_time": "2025-03-31T14:10:57.183441Z",
     "start_time": "2025-03-31T14:10:56.490929Z"
    }
   },
   "cell_type": "code",
   "source": [
    "sns.histplot(df_rms3['RMSE_M2ANN'], kde=True)\n",
    "sns.histplot(df_rms3['RMSE_M1ANN'], kde=True)\n",
    "plt.legend(['M2ANN','M1ANN'])\n",
    "plt.xlabel('RMSE')\n",
    "plt.title('RMSE distribution for Discrete and Probabilistic Mode Share')\n",
    "plt.savefig('plots/RQ2_mode/rmse_rf_m1ann_m2ann_hist.png')"
   ],
   "id": "f5d6e248f3b092f6",
   "outputs": [
    {
     "data": {
      "text/plain": [
       "<Figure size 640x480 with 1 Axes>"
      ],
      "image/png": "[encoded data removed]"
     },
     "metadata": {},
     "output_type": "display_data"
    }
   ],
   "execution_count": 36
  },
  {
   "metadata": {
    "ExecuteTime": {
     "end_time": "2025-03-31T14:10:57.275627Z",
     "start_time": "2025-03-31T14:10:57.262796Z"
    }
   },
   "cell_type": "code",
   "source": [
    "p_values = wilcoxon(df_rms3['RMSE_M2ANN'], df_rms3['RMSE_M1ANN'],alternative='less')\n",
    "p_values"
   ],
   "id": "492a88945b621a57",
   "outputs": [
    {
     "data": {
      "text/plain": [
       "WilcoxonResult(statistic=1.0, pvalue=0.001953125)"
      ]
     },
     "execution_count": 37,
     "metadata": {},
     "output_type": "execute_result"
    }
   ],
   "execution_count": 37
  },
  {
   "metadata": {
    "ExecuteTime": {
     "end_time": "2025-03-31T14:10:57.337377Z",
     "start_time": "2025-03-31T14:10:57.324380Z"
    }
   },
   "cell_type": "code",
   "source": [
    "df_moco_walk_3 = df_3[df_3.index == 'Moco Walk']\n",
    "df_moco_walk_3 = df_moco_walk_3.copy() \n",
    "df_moco_walk_3"
   ],
   "id": "caae7a93125baf68",
   "outputs": [
    {
     "data": {
      "text/plain": [
       "           Discrete Mode Share  Fold  Actual Mode Share  Pro. Mode Share  \\\n",
       "Moco Walk                    9     1                 30        23.531649   \n",
       "Moco Walk                    5     2                 41        18.295740   \n",
       "Moco Walk                   20     3                 37        38.254227   \n",
       "Moco Walk                   10     4                 47        45.136120   \n",
       "Moco Walk                   17     5                 33        39.674480   \n",
       "Moco Walk                    7     6                 37        26.272865   \n",
       "Moco Walk                   16     7                 44        36.652298   \n",
       "Moco Walk                    8     8                 37        46.589367   \n",
       "Moco Walk                   17     9                 32        30.959391   \n",
       "Moco Walk                    7    10                 44        36.759548   \n",
       "\n",
       "           SE_Discrete Mode Share  SE_Pro. Mode Share  \n",
       "Moco Walk                     441           41.839569  \n",
       "Moco Walk                    1296          515.483416  \n",
       "Moco Walk                     289            1.573085  \n",
       "Moco Walk                    1369            3.474049  \n",
       "Moco Walk                     256           44.548689  \n",
       "Moco Walk                     900          115.071419  \n",
       "Moco Walk                     784           53.988725  \n",
       "Moco Walk                     841           91.955958  \n",
       "Moco Walk                     225            1.082868  \n",
       "Moco Walk                    1369           52.424142  "
      ],
      "text/html": [
       "<div>\n",
       "<style scoped>\n",
       "    .dataframe tbody tr th:only-of-type {\n",
       "        vertical-align: middle;\n",
       "    }\n",
       "\n",
       "    .dataframe tbody tr th {\n",
       "        vertical-align: top;\n",
       "    }\n",
       "\n",
       "    .dataframe thead th {\n",
       "        text-align: right;\n",
       "    }\n",
       "</style>\n",
       "<table border=\"1\" class=\"dataframe\">\n",
       "  <thead>\n",
       "    <tr style=\"text-align: right;\">\n",
       "      <th></th>\n",
       "      <th>Discrete Mode Share</th>\n",
       "      <th>Fold</th>\n",
       "      <th>Actual Mode Share</th>\n",
       "      <th>Pro. Mode Share</th>\n",
       "      <th>SE_Discrete Mode Share</th>\n",
       "      <th>SE_Pro. Mode Share</th>\n",
       "    </tr>\n",
       "  </thead>\n",
       "  <tbody>\n",
       "    <tr>\n",
       "      <th>Moco Walk</th>\n",
       "      <td>9</td>\n",
       "      <td>1</td>\n",
       "      <td>30</td>\n",
       "      <td>23.531649</td>\n",
       "      <td>441</td>\n",
       "      <td>41.839569</td>\n",
       "    </tr>\n",
       "    <tr>\n",
       "      <th>Moco Walk</th>\n",
       "      <td>5</td>\n",
       "      <td>2</td>\n",
       "      <td>41</td>\n",
       "      <td>18.295740</td>\n",
       "      <td>1296</td>\n",
       "      <td>515.483416</td>\n",
       "    </tr>\n",
       "    <tr>\n",
       "      <th>Moco Walk</th>\n",
       "      <td>20</td>\n",
       "      <td>3</td>\n",
       "      <td>37</td>\n",
       "      <td>38.254227</td>\n",
       "      <td>289</td>\n",
       "      <td>1.573085</td>\n",
       "    </tr>\n",
       "    <tr>\n",
       "      <th>Moco Walk</th>\n",
       "      <td>10</td>\n",
       "      <td>4</td>\n",
       "      <td>47</td>\n",
       "      <td>45.136120</td>\n",
       "      <td>1369</td>\n",
       "      <td>3.474049</td>\n",
       "    </tr>\n",
       "    <tr>\n",
       "      <th>Moco Walk</th>\n",
       "      <td>17</td>\n",
       "      <td>5</td>\n",
       "      <td>33</td>\n",
       "      <td>39.674480</td>\n",
       "      <td>256</td>\n",
       "      <td>44.548689</td>\n",
       "    </tr>\n",
       "    <tr>\n",
       "      <th>Moco Walk</th>\n",
       "      <td>7</td>\n",
       "      <td>6</td>\n",
       "      <td>37</td>\n",
       "      <td>26.272865</td>\n",
       "      <td>900</td>\n",
       "      <td>115.071419</td>\n",
       "    </tr>\n",
       "    <tr>\n",
       "      <th>Moco Walk</th>\n",
       "      <td>16</td>\n",
       "      <td>7</td>\n",
       "      <td>44</td>\n",
       "      <td>36.652298</td>\n",
       "      <td>784</td>\n",
       "      <td>53.988725</td>\n",
       "    </tr>\n",
       "    <tr>\n",
       "      <th>Moco Walk</th>\n",
       "      <td>8</td>\n",
       "      <td>8</td>\n",
       "      <td>37</td>\n",
       "      <td>46.589367</td>\n",
       "      <td>841</td>\n",
       "      <td>91.955958</td>\n",
       "    </tr>\n",
       "    <tr>\n",
       "      <th>Moco Walk</th>\n",
       "      <td>17</td>\n",
       "      <td>9</td>\n",
       "      <td>32</td>\n",
       "      <td>30.959391</td>\n",
       "      <td>225</td>\n",
       "      <td>1.082868</td>\n",
       "    </tr>\n",
       "    <tr>\n",
       "      <th>Moco Walk</th>\n",
       "      <td>7</td>\n",
       "      <td>10</td>\n",
       "      <td>44</td>\n",
       "      <td>36.759548</td>\n",
       "      <td>1369</td>\n",
       "      <td>52.424142</td>\n",
       "    </tr>\n",
       "  </tbody>\n",
       "</table>\n",
       "</div>"
      ]
     },
     "execution_count": 38,
     "metadata": {},
     "output_type": "execute_result"
    }
   ],
   "execution_count": 38
  },
  {
   "metadata": {
    "ExecuteTime": {
     "end_time": "2025-03-31T14:10:57.495160Z",
     "start_time": "2025-03-31T14:10:57.452603Z"
    }
   },
   "cell_type": "code",
   "source": [
    "df_moco_walk_3.loc[:,'E_Discrete Mode Share'] = (df_moco_walk_3['Discrete Mode Share'] - df_moco_walk_3['Actual Mode Share'])\n",
    "df_moco_walk_3.loc[:,'E_Pro. Mode Share'] = (df_moco_walk_3['Pro. Mode Share'] - df_moco_walk_3['Actual Mode Share'])\n",
    "df_moco_walk_3 = df_moco_walk_3[['E_Discrete Mode Share','E_Pro. Mode Share']]\n",
    "df_moco_walk_3.columns = ['M1ANN','M2ANN']\n",
    "df_moco_walk_3.describe()"
   ],
   "id": "a9ec86d3aaffbf46",
   "outputs": [
    {
     "data": {
      "text/plain": [
       "           M1ANN      M2ANN\n",
       "count  10.000000  10.000000\n",
       "mean  -26.600000  -3.987432\n",
       "std     8.783824   9.204140\n",
       "min   -37.000000 -22.704260\n",
       "25%   -34.500000  -7.320889\n",
       "50%   -28.500000  -4.166116\n",
       "75%   -18.000000   0.680518\n",
       "max   -15.000000   9.589367"
      ],
      "text/html": [
       "<div>\n",
       "<style scoped>\n",
       "    .dataframe tbody tr th:only-of-type {\n",
       "        vertical-align: middle;\n",
       "    }\n",
       "\n",
       "    .dataframe tbody tr th {\n",
       "        vertical-align: top;\n",
       "    }\n",
       "\n",
       "    .dataframe thead th {\n",
       "        text-align: right;\n",
       "    }\n",
       "</style>\n",
       "<table border=\"1\" class=\"dataframe\">\n",
       "  <thead>\n",
       "    <tr style=\"text-align: right;\">\n",
       "      <th></th>\n",
       "      <th>M1ANN</th>\n",
       "      <th>M2ANN</th>\n",
       "    </tr>\n",
       "  </thead>\n",
       "  <tbody>\n",
       "    <tr>\n",
       "      <th>count</th>\n",
       "      <td>10.000000</td>\n",
       "      <td>10.000000</td>\n",
       "    </tr>\n",
       "    <tr>\n",
       "      <th>mean</th>\n",
       "      <td>-26.600000</td>\n",
       "      <td>-3.987432</td>\n",
       "    </tr>\n",
       "    <tr>\n",
       "      <th>std</th>\n",
       "      <td>8.783824</td>\n",
       "      <td>9.204140</td>\n",
       "    </tr>\n",
       "    <tr>\n",
       "      <th>min</th>\n",
       "      <td>-37.000000</td>\n",
       "      <td>-22.704260</td>\n",
       "    </tr>\n",
       "    <tr>\n",
       "      <th>25%</th>\n",
       "      <td>-34.500000</td>\n",
       "      <td>-7.320889</td>\n",
       "    </tr>\n",
       "    <tr>\n",
       "      <th>50%</th>\n",
       "      <td>-28.500000</td>\n",
       "      <td>-4.166116</td>\n",
       "    </tr>\n",
       "    <tr>\n",
       "      <th>75%</th>\n",
       "      <td>-18.000000</td>\n",
       "      <td>0.680518</td>\n",
       "    </tr>\n",
       "    <tr>\n",
       "      <th>max</th>\n",
       "      <td>-15.000000</td>\n",
       "      <td>9.589367</td>\n",
       "    </tr>\n",
       "  </tbody>\n",
       "</table>\n",
       "</div>"
      ]
     },
     "execution_count": 39,
     "metadata": {},
     "output_type": "execute_result"
    }
   ],
   "execution_count": 39
  },
  {
   "metadata": {
    "ExecuteTime": {
     "end_time": "2025-03-31T14:10:58.138431Z",
     "start_time": "2025-03-31T14:10:57.844179Z"
    }
   },
   "cell_type": "code",
   "source": [
    "sns.boxplot(data=df_moco_walk_3)\n",
    "plt.xlabel('Error')\n",
    "plt.title('Moco Walk Error level for Discrete and Probabilistic Mode Share')\n",
    "plt.savefig('plots/RQ2_mode/error_rf_m1ann_m2ann_moco_walk.png')"
   ],
   "id": "a5b0cd913450b5b",
   "outputs": [
    {
     "data": {
      "text/plain": [
       "<Figure size 640x480 with 1 Axes>"
      ],
      "image/png": "[encoded data removed]"
     },
     "metadata": {},
     "output_type": "display_data"
    }
   ],
   "execution_count": 40
  },
  {
   "metadata": {
    "ExecuteTime": {
     "end_time": "2025-03-31T14:10:58.605731Z",
     "start_time": "2025-03-31T14:10:58.203570Z"
    }
   },
   "cell_type": "code",
   "source": [
    "sns.histplot(df_moco_walk_3['M1ANN'], kde=True)\n",
    "sns.histplot(df_moco_walk_3['M2ANN'], kde=True)\n",
    "plt.legend(['M1ANN','M2ANN'])\n",
    "plt.xlabel('Error')\n",
    "plt.title('Moco Walk Error distribution for Discrete and Probabilistic Mode Share')\n",
    "plt.savefig('plots/RQ2_mode/error_rf_m1ann_m2ann_moco_walk_hist.png')\n"
   ],
   "id": "8fd12b8496cde6da",
   "outputs": [
    {
     "data": {
      "text/plain": [
       "<Figure size 640x480 with 1 Axes>"
      ],
      "image/png": "[encoded data removed]"
     },
     "metadata": {},
     "output_type": "display_data"
    }
   ],
   "execution_count": 41
  },
  {
   "metadata": {
    "ExecuteTime": {
     "end_time": "2025-03-31T14:10:58.668532Z",
     "start_time": "2025-03-31T14:10:58.656088Z"
    }
   },
   "cell_type": "code",
   "source": [
    "p_values = wilcoxon(df_moco_walk_3[\"M2ANN\"], df_moco_walk_3[\"M1ANN\"],alternative='greater')\n",
    "p_values"
   ],
   "id": "eb3300199d812b36",
   "outputs": [
    {
     "data": {
      "text/plain": [
       "WilcoxonResult(statistic=55.0, pvalue=0.0009765625)"
      ]
     },
     "execution_count": 42,
     "metadata": {},
     "output_type": "execute_result"
    }
   ],
   "execution_count": 42
  },
  {
   "metadata": {
    "ExecuteTime": {
     "end_time": "2025-03-31T14:10:58.715064Z",
     "start_time": "2025-03-31T14:10:58.688071Z"
    }
   },
   "cell_type": "code",
   "source": [
    "def mode_share_ann_(data:pd.DataFrame, models: tp.List[str]):\n",
    "    modes = ['No Moco\\nPt','No Moco\\nAuto','No Moco\\nBike','No Moco\\nWalk','Moco Pt','Moco Auto','Moco Bike','Moco Walk']\n",
    "   \n",
    "    tf.random.set_seed(42)\n",
    "    np.random.seed(42)\n",
    "    random.seed(42)\n",
    "   \n",
    "   \n",
    "    df = pd.DataFrame()\n",
    "    df_prob = pd.DataFrame(columns=['Pro. Mode Share'])\n",
    "    for model in models:\n",
    "        \n",
    "        df_ann = data[data['Model'] == model]\n",
    "        \n",
    "        n_hidden_layers = df_ann['n_hidden_layers'].values[0]\n",
    "        n_neurons = df_ann['n_neurons'].values[0]\n",
    "        learning_rate = df_ann['learning_rate'].values[0]\n",
    "        batch_size = df_ann['batch_size'].values[0]\n",
    "        epochs = df_ann['n_epochs'].values[0]\n",
    "        dropout = df_ann['dropout'].values[0]\n",
    "        \n",
    "        \n",
    "        if model == 'M5ANN':\n",
    "            \n",
    "            gf_1 = GroupKFold(n_splits=10)\n",
    "            \n",
    "            for row, (train_val_index, test_index) in enumerate(gf_1.split(X, groups=moco_survey['ResponseId'])):\n",
    "                \n",
    "                X_train_val, X_test = X.iloc[train_val_index], X.iloc[test_index]\n",
    "                y_train_val, y_test = y.iloc[train_val_index], y.iloc[test_index]\n",
    "                \n",
    "                group_fold_2 = GroupKFold(n_splits=9)\n",
    "                \n",
    "                for train_index, val_index in group_fold_2.split(X_train_val, groups=moco_survey['ResponseId'].iloc[train_val_index]):\n",
    "                    \n",
    "                    X_train, X_val = X_train_val.iloc[train_index], X_train_val.iloc[val_index]\n",
    "                    y_train, y_val = y_train_val.iloc[train_index], y_train_val.iloc[val_index]\n",
    "                    \n",
    "                    scaler = StandardScaler()\n",
    "                    X_train = X_train.values\n",
    "                    X_train = scaler.fit_transform(X_train)\n",
    "                    X_val = X_val.values\n",
    "                    X_val = scaler.transform(X_val)\n",
    "                    X_test = X_test.values\n",
    "                    X_test = scaler.transform(X_test)\n",
    "                    ann = Sequential()\n",
    "                    ann.add(Dense(63, activation='relu'))\n",
    "                    ann.add(Dropout(dropout,seed=42))\n",
    "                    for _ in range(n_hidden_layers):\n",
    "                        ann.add(Dense(n_neurons, activation='relu'))\n",
    "                        ann.add(Dropout(dropout,seed=42))\n",
    "                    ann.add(Dense(8, activation='softmax'))\n",
    "                    \n",
    "                    ann.compile(optimizer=Adam(learning_rate=learning_rate), loss='sparse_categorical_crossentropy', metrics=['accuracy'])\n",
    "                    ann.fit(X_train, y_train, batch_size=batch_size, epochs=epochs, verbose=0, callbacks=[EarlyStopping(patience=10,monitor ='accuracy',mode='max')],validation_data=(X_val, y_val))\n",
    "                    \n",
    "                    y_pred = np.argmax(ann.predict(X_test), axis=-1)\n",
    "                    \n",
    "                    df_mode_pred = pd.DataFrame(y_pred, columns=['choice'])\n",
    "                    df_mode_pred['choice'] = df_mode_pred['choice'].map({0: 'No Moco\\nPt', 1: 'No Moco\\nAuto', 2: 'No Moco\\nBike', 3: 'No Moco\\nWalk', 4: 'Moco Pt', 5: 'Moco Auto', 6: 'Moco Bike', 7: 'Moco Walk'})\n",
    "                    \n",
    "                    df_val_counts = df_mode_pred['choice'].value_counts().to_frame()\n",
    "                    df_val_counts = df_val_counts.reindex(modes)\n",
    "                    df_val_counts.rename(columns={'count': 'Discrete Mode Share'}, inplace=True)\n",
    "                    df_val_counts['Fold'] = row + 1\n",
    "                    \n",
    "                    y_test_counts = y_test.map({0: 'No Moco\\nPt', 1: 'No Moco\\nAuto', 2: 'No Moco\\nBike', 3: 'No Moco\\nWalk', 4: 'Moco Pt', 5: 'Moco Auto', 6: 'Moco Bike', 7: 'Moco Walk'}).value_counts().to_frame()\n",
    "                    y_test_counts.rename(columns={'count': 'Actual Mode Share'}, inplace=True)\n",
    "                    \n",
    "                    df_val_counts['Actual Mode Share'] = y_test_counts['Actual Mode Share']\n",
    "                    df = pd.concat([df, df_val_counts], axis=0)\n",
    "                    \n",
    "                    break\n",
    "                    \n",
    "        elif model == 'M6ANN':\n",
    "            \n",
    "            gf_1 = GroupKFold(n_splits=10)\n",
    "            \n",
    "            for row, (train_val_index, test_index) in enumerate(gf_1.split(X, groups=moco_survey['ResponseId'])):\n",
    "                \n",
    "                X_train_val, X_test = X.iloc[train_val_index], X.iloc[test_index]\n",
    "                y_train_val, y_test = y.iloc[train_val_index], y.iloc[test_index]\n",
    "                \n",
    "                group_fold_2 = GroupKFold(n_splits=9)\n",
    "                \n",
    "                for train_index, val_index in group_fold_2.split(X_train_val, groups=moco_survey['ResponseId'].iloc[train_val_index]):\n",
    "                    \n",
    "                    X_train, X_val = X_train_val.iloc[train_index], X_train_val.iloc[val_index]\n",
    "                    y_train, y_val = y_train_val.iloc[train_index], y_train_val.iloc[val_index]\n",
    "                    \n",
    "                    scaler = StandardScaler()\n",
    "                    X_train = X_train.values\n",
    "                    X_train = scaler.fit_transform(X_train)\n",
    "                    X_val = X_val.values\n",
    "                    X_val = scaler.transform(X_val)\n",
    "                    X_test = X_test.values\n",
    "                    X_test = scaler.transform(X_test)\n",
    "                    ann = Sequential()\n",
    "                    ann.add(Dense(63, activation='relu'))\n",
    "                    ann.add(Dropout(dropout,seed=42))\n",
    "                    for _ in range(n_hidden_layers):\n",
    "                        ann.add(Dense(n_neurons, activation='relu'))\n",
    "                        ann.add(Dropout(dropout,seed=42))\n",
    "                    ann.add(Dense(8, activation='softmax'))\n",
    "                    \n",
    "                    ann.compile(optimizer=Adam(learning_rate=learning_rate), loss='sparse_categorical_crossentropy', metrics=['accuracy'])\n",
    "                    ann.fit(X_train, y_train, batch_size=batch_size, epochs=epochs, verbose=0, callbacks=[EarlyStopping(patience=10,monitor ='loss',mode='min')],validation_data=(X_val, y_val))\n",
    "                    \n",
    "                    y_pred = ann.predict(X_test)\n",
    "                    df_mode_pred = pd.DataFrame(y_pred, columns=['No Moco\\nPt','No Moco\\nAuto','No Moco\\nBike','No Moco\\nWalk','Moco Pt','Moco Auto','Moco Bike','Moco Walk'])\n",
    "                    \n",
    "                    df_mode_pred.loc['total'] = df_mode_pred.sum()\n",
    "                    df_mode_pred = df_mode_pred.loc['total'].values\n",
    "                    \n",
    "                    df_mode_pred = pd.DataFrame(df_mode_pred, columns=['Pro. Mode Share'])\n",
    "                    df_mode_pred.index = modes\n",
    "                    \n",
    "                    df_prob = pd.concat([df_prob, df_mode_pred], axis=0)\n",
    "                    break\n",
    "    \n",
    "    df = pd.concat([df, df_prob], axis=1)\n",
    "\n",
    "    return df"
   ],
   "id": "94f289dad55efbf2",
   "outputs": [],
   "execution_count": 43
  },
  {
   "metadata": {
    "ExecuteTime": {
     "end_time": "2025-03-31T14:15:05.048403Z",
     "start_time": "2025-03-31T14:10:58.763557Z"
    }
   },
   "cell_type": "code",
   "source": [
    "df_4 = mode_share_ann_(df_ann_params, ['M5ANN', 'M6ANN'])\n",
    "df_4.fillna(0, inplace=True)\n",
    "df_4"
   ],
   "id": "27e6774f4c76fcff",
   "outputs": [
    {
     "name": "stdout",
     "output_type": "stream",
     "text": [
      "51/51 [==============================] - 0s 1ms/step\n",
      "51/51 [==============================] - 0s 912us/step\n",
      "51/51 [==============================] - 0s 910us/step\n",
      "51/51 [==============================] - 0s 940us/step\n",
      "51/51 [==============================] - 0s 940us/step\n",
      "51/51 [==============================] - 0s 980us/step\n",
      "51/51 [==============================] - 0s 970us/step\n",
      "51/51 [==============================] - 0s 970us/step\n",
      "51/51 [==============================] - 0s 953us/step\n",
      "51/51 [==============================] - 0s 970us/step\n",
      "51/51 [==============================] - 0s 910us/step\n",
      "51/51 [==============================] - 0s 882us/step\n",
      "51/51 [==============================] - 0s 870us/step\n",
      "51/51 [==============================] - 0s 910us/step\n",
      "51/51 [==============================] - 0s 896us/step\n",
      "51/51 [==============================] - 0s 892us/step\n",
      "51/51 [==============================] - 0s 1ms/step\n",
      "51/51 [==============================] - 0s 880us/step\n",
      "51/51 [==============================] - 0s 881us/step\n",
      "51/51 [==============================] - 0s 880us/step\n",
      "df_prob columns: Index(['Pro. Mode Share'], dtype='object')\n",
      "len_df_prob: 80\n",
      "len_df: 80\n"
     ]
    },
    {
     "data": {
      "text/plain": [
       "               Discrete Mode Share  Fold  Actual Mode Share  Pro. Mode Share\n",
       "No Moco\\nPt                  288.0     1                232       262.752930\n",
       "No Moco\\nAuto                242.0     1                257       213.683456\n",
       "No Moco\\nBike                280.0     1                279       304.709808\n",
       "No Moco\\nWalk                  0.0     1                 42        29.017761\n",
       "Moco Pt                      392.0     1                247       274.754730\n",
       "...                            ...   ...                ...              ...\n",
       "No Moco\\nWalk                 14.0    10                 35        35.470924\n",
       "Moco Pt                      228.0    10                254       260.860565\n",
       "Moco Auto                     91.0    10                164       130.408676\n",
       "Moco Bike                    476.0    10                345       383.686981\n",
       "Moco Walk                      8.0    10                 41        29.088148\n",
       "\n",
       "[80 rows x 4 columns]"
      ],
      "text/html": [
       "<div>\n",
       "<style scoped>\n",
       "    .dataframe tbody tr th:only-of-type {\n",
       "        vertical-align: middle;\n",
       "    }\n",
       "\n",
       "    .dataframe tbody tr th {\n",
       "        vertical-align: top;\n",
       "    }\n",
       "\n",
       "    .dataframe thead th {\n",
       "        text-align: right;\n",
       "    }\n",
       "</style>\n",
       "<table border=\"1\" class=\"dataframe\">\n",
       "  <thead>\n",
       "    <tr style=\"text-align: right;\">\n",
       "      <th></th>\n",
       "      <th>Discrete Mode Share</th>\n",
       "      <th>Fold</th>\n",
       "      <th>Actual Mode Share</th>\n",
       "      <th>Pro. Mode Share</th>\n",
       "    </tr>\n",
       "  </thead>\n",
       "  <tbody>\n",
       "    <tr>\n",
       "      <th>No Moco\\nPt</th>\n",
       "      <td>288.0</td>\n",
       "      <td>1</td>\n",
       "      <td>232</td>\n",
       "      <td>262.752930</td>\n",
       "    </tr>\n",
       "    <tr>\n",
       "      <th>No Moco\\nAuto</th>\n",
       "      <td>242.0</td>\n",
       "      <td>1</td>\n",
       "      <td>257</td>\n",
       "      <td>213.683456</td>\n",
       "    </tr>\n",
       "    <tr>\n",
       "      <th>No Moco\\nBike</th>\n",
       "      <td>280.0</td>\n",
       "      <td>1</td>\n",
       "      <td>279</td>\n",
       "      <td>304.709808</td>\n",
       "    </tr>\n",
       "    <tr>\n",
       "      <th>No Moco\\nWalk</th>\n",
       "      <td>0.0</td>\n",
       "      <td>1</td>\n",
       "      <td>42</td>\n",
       "      <td>29.017761</td>\n",
       "    </tr>\n",
       "    <tr>\n",
       "      <th>Moco Pt</th>\n",
       "      <td>392.0</td>\n",
       "      <td>1</td>\n",
       "      <td>247</td>\n",
       "      <td>274.754730</td>\n",
       "    </tr>\n",
       "    <tr>\n",
       "      <th>...</th>\n",
       "      <td>...</td>\n",
       "      <td>...</td>\n",
       "      <td>...</td>\n",
       "      <td>...</td>\n",
       "    </tr>\n",
       "    <tr>\n",
       "      <th>No Moco\\nWalk</th>\n",
       "      <td>14.0</td>\n",
       "      <td>10</td>\n",
       "      <td>35</td>\n",
       "      <td>35.470924</td>\n",
       "    </tr>\n",
       "    <tr>\n",
       "      <th>Moco Pt</th>\n",
       "      <td>228.0</td>\n",
       "      <td>10</td>\n",
       "      <td>254</td>\n",
       "      <td>260.860565</td>\n",
       "    </tr>\n",
       "    <tr>\n",
       "      <th>Moco Auto</th>\n",
       "      <td>91.0</td>\n",
       "      <td>10</td>\n",
       "      <td>164</td>\n",
       "      <td>130.408676</td>\n",
       "    </tr>\n",
       "    <tr>\n",
       "      <th>Moco Bike</th>\n",
       "      <td>476.0</td>\n",
       "      <td>10</td>\n",
       "      <td>345</td>\n",
       "      <td>383.686981</td>\n",
       "    </tr>\n",
       "    <tr>\n",
       "      <th>Moco Walk</th>\n",
       "      <td>8.0</td>\n",
       "      <td>10</td>\n",
       "      <td>41</td>\n",
       "      <td>29.088148</td>\n",
       "    </tr>\n",
       "  </tbody>\n",
       "</table>\n",
       "<p>80 rows × 4 columns</p>\n",
       "</div>"
      ]
     },
     "execution_count": 44,
     "metadata": {},
     "output_type": "execute_result"
    }
   ],
   "execution_count": 44
  },
  {
   "metadata": {
    "ExecuteTime": {
     "end_time": "2025-03-31T14:15:05.206302Z",
     "start_time": "2025-03-31T14:15:05.178Z"
    }
   },
   "cell_type": "code",
   "source": [
    "df_4['SE_Discrete Mode Share'] = (df_4['Discrete Mode Share'] - df_4['Actual Mode Share'])**2\n",
    "df_4['SE_Pro. Mode Share'] = (df_4['Pro. Mode Share'] - df_4['Actual Mode Share'])**2\n",
    "\n",
    "df_rms4 = df_4.groupby('Fold')[['SE_Pro. Mode Share','SE_Discrete Mode Share']].mean()\n",
    "df_rms4 = df_rms4**0.5\n",
    "cols = ['RMSE_M6ANN','RMSE_M5ANN']\n",
    "df_rms4.columns = cols\n",
    "df_rms4.describe()\n"
   ],
   "id": "771e5a5dc166f346",
   "outputs": [
    {
     "data": {
      "text/plain": [
       "       RMSE_M6ANN  RMSE_M5ANN\n",
       "count   10.000000   10.000000\n",
       "mean    25.277026   56.893720\n",
       "std      8.063947    9.896951\n",
       "min      8.580130   41.871828\n",
       "25%     21.444405   49.969318\n",
       "50%     26.530028   57.586539\n",
       "75%     27.914790   61.445948\n",
       "max     39.487001   72.809683"
      ],
      "text/html": [
       "<div>\n",
       "<style scoped>\n",
       "    .dataframe tbody tr th:only-of-type {\n",
       "        vertical-align: middle;\n",
       "    }\n",
       "\n",
       "    .dataframe tbody tr th {\n",
       "        vertical-align: top;\n",
       "    }\n",
       "\n",
       "    .dataframe thead th {\n",
       "        text-align: right;\n",
       "    }\n",
       "</style>\n",
       "<table border=\"1\" class=\"dataframe\">\n",
       "  <thead>\n",
       "    <tr style=\"text-align: right;\">\n",
       "      <th></th>\n",
       "      <th>RMSE_M6ANN</th>\n",
       "      <th>RMSE_M5ANN</th>\n",
       "    </tr>\n",
       "  </thead>\n",
       "  <tbody>\n",
       "    <tr>\n",
       "      <th>count</th>\n",
       "      <td>10.000000</td>\n",
       "      <td>10.000000</td>\n",
       "    </tr>\n",
       "    <tr>\n",
       "      <th>mean</th>\n",
       "      <td>25.277026</td>\n",
       "      <td>56.893720</td>\n",
       "    </tr>\n",
       "    <tr>\n",
       "      <th>std</th>\n",
       "      <td>8.063947</td>\n",
       "      <td>9.896951</td>\n",
       "    </tr>\n",
       "    <tr>\n",
       "      <th>min</th>\n",
       "      <td>8.580130</td>\n",
       "      <td>41.871828</td>\n",
       "    </tr>\n",
       "    <tr>\n",
       "      <th>25%</th>\n",
       "      <td>21.444405</td>\n",
       "      <td>49.969318</td>\n",
       "    </tr>\n",
       "    <tr>\n",
       "      <th>50%</th>\n",
       "      <td>26.530028</td>\n",
       "      <td>57.586539</td>\n",
       "    </tr>\n",
       "    <tr>\n",
       "      <th>75%</th>\n",
       "      <td>27.914790</td>\n",
       "      <td>61.445948</td>\n",
       "    </tr>\n",
       "    <tr>\n",
       "      <th>max</th>\n",
       "      <td>39.487001</td>\n",
       "      <td>72.809683</td>\n",
       "    </tr>\n",
       "  </tbody>\n",
       "</table>\n",
       "</div>"
      ]
     },
     "execution_count": 45,
     "metadata": {},
     "output_type": "execute_result"
    }
   ],
   "execution_count": 45
  },
  {
   "metadata": {
    "ExecuteTime": {
     "end_time": "2025-03-31T14:15:05.658130Z",
     "start_time": "2025-03-31T14:15:05.333679Z"
    }
   },
   "cell_type": "code",
   "source": [
    "sns.boxplot(data=df_rms4)\n",
    "plt.title('RMSE for Discrete and Probabilistic Mode Share')\n",
    "plt.savefig('plots/RQ2_mode/rmse_rf_m5ann_m6ann.png')\n"
   ],
   "id": "fa669c479064249",
   "outputs": [
    {
     "data": {
      "text/plain": [
       "<Figure size 640x480 with 1 Axes>"
      ],
      "image/png": "[encoded data removed]"
     },
     "metadata": {},
     "output_type": "display_data"
    }
   ],
   "execution_count": 46
  },
  {
   "metadata": {
    "ExecuteTime": {
     "end_time": "2025-03-31T14:15:05.735892Z",
     "start_time": "2025-03-31T14:15:05.722605Z"
    }
   },
   "cell_type": "code",
   "source": [
    "p_values = wilcoxon(df_rms4['RMSE_M6ANN'], df_rms4['RMSE_M5ANN'],alternative='less')\n",
    "p_values\n"
   ],
   "id": "3fd273c465513623",
   "outputs": [
    {
     "data": {
      "text/plain": [
       "WilcoxonResult(statistic=0.0, pvalue=0.0009765625)"
      ]
     },
     "execution_count": 47,
     "metadata": {},
     "output_type": "execute_result"
    }
   ],
   "execution_count": 47
  },
  {
   "metadata": {
    "ExecuteTime": {
     "end_time": "2025-03-31T14:15:06.343300Z",
     "start_time": "2025-03-31T14:15:05.845036Z"
    }
   },
   "cell_type": "code",
   "source": [
    "sns.histplot(df_rms4['RMSE_M6ANN'], kde=True)\n",
    "sns.histplot(df_rms4['RMSE_M5ANN'], kde=True)\n",
    "plt.legend(['M6ANN','M5ANN'])\n",
    "plt.xlabel('RMSE')\n",
    "plt.title('RMSE distribution for Discrete and Probabilistic Mode Share')\n",
    "plt.savefig('plots/RQ2_mode/rmse_rf_m5ann_m6ann_hist.png')\n"
   ],
   "id": "149e70aa2c136967",
   "outputs": [
    {
     "data": {
      "text/plain": [
       "<Figure size 640x480 with 1 Axes>"
      ],
      "image/png": "[encoded data removed]"
     },
     "metadata": {},
     "output_type": "display_data"
    }
   ],
   "execution_count": 48
  },
  {
   "metadata": {
    "ExecuteTime": {
     "end_time": "2025-03-31T14:15:06.390529Z",
     "start_time": "2025-03-31T14:15:06.360402Z"
    }
   },
   "cell_type": "code",
   "source": [
    "df_moco_walk_4 = df_4[df_4.index == 'Moco Walk']\n",
    "df_moco_walk_4 = df_moco_walk_4.copy()\n",
    "\n",
    "df_moco_walk_4.loc[:,'E_Discrete Mode Share'] = (df_moco_walk_4['Discrete Mode Share'] - df_moco_walk_4['Actual Mode Share'])\n",
    "df_moco_walk_4.loc[:,'E_Pro. Mode Share'] = (df_moco_walk_4['Pro. Mode Share'] - df_moco_walk_4['Actual Mode Share'])\n",
    "df_moco_walk_4 = df_moco_walk_4[['E_Discrete Mode Share','E_Pro. Mode Share']]\n",
    "df_moco_walk_4.columns = ['M5ANN','M6ANN']\n",
    "df_moco_walk_4.describe()\n",
    "\n",
    "\n"
   ],
   "id": "1ca3f4c5d2351db6",
   "outputs": [
    {
     "data": {
      "text/plain": [
       "           M5ANN      M6ANN\n",
       "count  10.000000  10.000000\n",
       "mean  -34.000000  -9.196740\n",
       "std     6.377042   7.954605\n",
       "min   -47.000000 -23.586599\n",
       "25%   -35.250000 -11.730037\n",
       "50%   -33.000000  -8.202114\n",
       "75%   -31.250000  -4.744250\n",
       "max   -26.000000   0.487019"
      ],
      "text/html": [
       "<div>\n",
       "<style scoped>\n",
       "    .dataframe tbody tr th:only-of-type {\n",
       "        vertical-align: middle;\n",
       "    }\n",
       "\n",
       "    .dataframe tbody tr th {\n",
       "        vertical-align: top;\n",
       "    }\n",
       "\n",
       "    .dataframe thead th {\n",
       "        text-align: right;\n",
       "    }\n",
       "</style>\n",
       "<table border=\"1\" class=\"dataframe\">\n",
       "  <thead>\n",
       "    <tr style=\"text-align: right;\">\n",
       "      <th></th>\n",
       "      <th>M5ANN</th>\n",
       "      <th>M6ANN</th>\n",
       "    </tr>\n",
       "  </thead>\n",
       "  <tbody>\n",
       "    <tr>\n",
       "      <th>count</th>\n",
       "      <td>10.000000</td>\n",
       "      <td>10.000000</td>\n",
       "    </tr>\n",
       "    <tr>\n",
       "      <th>mean</th>\n",
       "      <td>-34.000000</td>\n",
       "      <td>-9.196740</td>\n",
       "    </tr>\n",
       "    <tr>\n",
       "      <th>std</th>\n",
       "      <td>6.377042</td>\n",
       "      <td>7.954605</td>\n",
       "    </tr>\n",
       "    <tr>\n",
       "      <th>min</th>\n",
       "      <td>-47.000000</td>\n",
       "      <td>-23.586599</td>\n",
       "    </tr>\n",
       "    <tr>\n",
       "      <th>25%</th>\n",
       "      <td>-35.250000</td>\n",
       "      <td>-11.730037</td>\n",
       "    </tr>\n",
       "    <tr>\n",
       "      <th>50%</th>\n",
       "      <td>-33.000000</td>\n",
       "      <td>-8.202114</td>\n",
       "    </tr>\n",
       "    <tr>\n",
       "      <th>75%</th>\n",
       "      <td>-31.250000</td>\n",
       "      <td>-4.744250</td>\n",
       "    </tr>\n",
       "    <tr>\n",
       "      <th>max</th>\n",
       "      <td>-26.000000</td>\n",
       "      <td>0.487019</td>\n",
       "    </tr>\n",
       "  </tbody>\n",
       "</table>\n",
       "</div>"
      ]
     },
     "execution_count": 49,
     "metadata": {},
     "output_type": "execute_result"
    }
   ],
   "execution_count": 49
  },
  {
   "metadata": {
    "ExecuteTime": {
     "end_time": "2025-03-31T14:15:06.966082Z",
     "start_time": "2025-03-31T14:15:06.715600Z"
    }
   },
   "cell_type": "code",
   "source": [
    "sns.boxplot(data=df_moco_walk_4)\n",
    "plt.title('Moco Walk Error level for Discrete and Probabilistic Mode Share')\n",
    "plt.xlabel('Error')\n",
    "\n",
    "plt.savefig('plots/RQ2_mode/error_rf_m5ann_m6ann_moco_walk.png')\n"
   ],
   "id": "f2bbfeceeb8da06a",
   "outputs": [
    {
     "data": {
      "text/plain": [
       "<Figure size 640x480 with 1 Axes>"
      ],
      "image/png": "[encoded data removed]"
     },
     "metadata": {},
     "output_type": "display_data"
    }
   ],
   "execution_count": 50
  },
  {
   "metadata": {
    "ExecuteTime": {
     "end_time": "2025-03-31T14:15:07.515585Z",
     "start_time": "2025-03-31T14:15:07.032317Z"
    }
   },
   "cell_type": "code",
   "source": [
    "sns.histplot(df_moco_walk_4['M5ANN'], kde=True)\n",
    "sns.histplot(df_moco_walk_4['M6ANN'], kde=True)\n",
    "plt.legend(['M5ANN','M6ANN'])\n",
    "plt.xlabel('Error')\n",
    "plt.title('Moco Walk Error distribution for Discrete and Probabilistic Mode Share')\n",
    "plt.savefig('plots/RQ2_mode/error_rf_m5ann_m6ann_moco_walk_hist.png')\n",
    "\n"
   ],
   "id": "f4e2d00806ad5c5e",
   "outputs": [
    {
     "data": {
      "text/plain": [
       "<Figure size 640x480 with 1 Axes>"
      ],
      "image/png": "[encoded data removed]"
     },
     "metadata": {},
     "output_type": "display_data"
    }
   ],
   "execution_count": 51
  },
  {
   "metadata": {
    "ExecuteTime": {
     "end_time": "2025-03-31T14:15:07.561999Z",
     "start_time": "2025-03-31T14:15:07.547610Z"
    }
   },
   "cell_type": "code",
   "source": [
    "p_values = wilcoxon(df_moco_walk_4['M6ANN'], df_moco_walk_4['M5ANN'],alternative='greater')\n",
    "p_values\n"
   ],
   "id": "11cfaf235f836cac",
   "outputs": [
    {
     "data": {
      "text/plain": [
       "WilcoxonResult(statistic=55.0, pvalue=0.0009765625)"
      ]
     },
     "execution_count": 52,
     "metadata": {},
     "output_type": "execute_result"
    }
   ],
   "execution_count": 52
  },
  {
   "metadata": {
    "ExecuteTime": {
     "end_time": "2025-03-31T14:15:07.622866Z",
     "start_time": "2025-03-31T14:15:07.609353Z"
    }
   },
   "cell_type": "code",
   "source": [
    "df_5 = pd.concat([df_rms1, df_rms3], axis=1)\n",
    "df_6 = pd.concat([df_rms2, df_rms4], axis=1)\n",
    "df_7 = pd.concat([df_moco_walk_1, df_moco_walk_3], axis=1)\n",
    "df_8 = pd.concat([df_moco_walk_2, df_moco_walk_4], axis=1)\n"
   ],
   "id": "e781550e743d8638",
   "outputs": [],
   "execution_count": 53
  },
  {
   "metadata": {
    "ExecuteTime": {
     "end_time": "2025-03-31T16:55:19.476966Z",
     "start_time": "2025-03-31T16:55:18.802519Z"
    }
   },
   "cell_type": "code",
   "source": [
    "plt.style.use('seaborn-white')\n",
    "plt.box(False)\n",
    "sns.boxplot(data=df_5)\n",
    "plt.savefig('plots/RQ2_mode/rmse_rf_ann_m1_m2.png')"
   ],
   "id": "88b970bf28978227",
   "outputs": [
    {
     "name": "stderr",
     "output_type": "stream",
     "text": [
      "C:\\Users\\berha\\AppData\\Local\\Temp\\ipykernel_15628\\3131270980.py:1: MatplotlibDeprecationWarning: The seaborn styles shipped by Matplotlib are deprecated since 3.6, as they no longer correspond to the styles shipped by seaborn. However, they will remain available as 'seaborn-v0_8-<style>'. Alternatively, directly use the seaborn API instead.\n",
      "  plt.style.use('seaborn-white')\n"
     ]
    },
    {
     "data": {
      "text/plain": [
       "<Figure size 640x480 with 1 Axes>"
      ],
      "image/png": "[encoded data removed]"
     },
     "metadata": {},
     "output_type": "display_data"
    }
   ],
   "execution_count": 61
  },
  {
   "metadata": {
    "ExecuteTime": {
     "end_time": "2025-03-31T16:55:27.140677Z",
     "start_time": "2025-03-31T16:55:26.868718Z"
    }
   },
   "cell_type": "code",
   "source": [
    "plt.style.use('seaborn-white')\n",
    "plt.box(False)\n",
    "sns.boxplot(data=df_6)\n",
    "plt.savefig('plots/RQ2_mode/rmse_rf_ann_m5_m6.png')"
   ],
   "id": "867c9e71899da0e9",
   "outputs": [
    {
     "name": "stderr",
     "output_type": "stream",
     "text": [
      "C:\\Users\\berha\\AppData\\Local\\Temp\\ipykernel_15628\\2197141687.py:1: MatplotlibDeprecationWarning: The seaborn styles shipped by Matplotlib are deprecated since 3.6, as they no longer correspond to the styles shipped by seaborn. However, they will remain available as 'seaborn-v0_8-<style>'. Alternatively, directly use the seaborn API instead.\n",
      "  plt.style.use('seaborn-white')\n"
     ]
    },
    {
     "data": {
      "text/plain": [
       "<Figure size 640x480 with 1 Axes>"
      ],
      "image/png": "[encoded data removed]"
     },
     "metadata": {},
     "output_type": "display_data"
    }
   ],
   "execution_count": 62
  },
  {
   "metadata": {
    "ExecuteTime": {
     "end_time": "2025-03-31T16:55:34.233916Z",
     "start_time": "2025-03-31T16:55:33.942507Z"
    }
   },
   "cell_type": "code",
   "source": [
    "plt.style.use('seaborn-white')\n",
    "plt.box(False)\n",
    "sns.boxplot(data=df_7)\n",
    "plt.xlabel('Error')\n",
    "plt.savefig('plots/RQ2_mode/moco_walk_error_rf_ann_m1_m2.png')\n"
   ],
   "id": "2b9d0d9b5e0c391a",
   "outputs": [
    {
     "name": "stderr",
     "output_type": "stream",
     "text": [
      "C:\\Users\\berha\\AppData\\Local\\Temp\\ipykernel_15628\\1368974616.py:1: MatplotlibDeprecationWarning: The seaborn styles shipped by Matplotlib are deprecated since 3.6, as they no longer correspond to the styles shipped by seaborn. However, they will remain available as 'seaborn-v0_8-<style>'. Alternatively, directly use the seaborn API instead.\n",
      "  plt.style.use('seaborn-white')\n"
     ]
    },
    {
     "data": {
      "text/plain": [
       "<Figure size 640x480 with 1 Axes>"
      ],
      "image/png": "[encoded data removed]"
     },
     "metadata": {},
     "output_type": "display_data"
    }
   ],
   "execution_count": 63
  },
  {
   "metadata": {
    "ExecuteTime": {
     "end_time": "2025-03-31T17:01:09.462888Z",
     "start_time": "2025-03-31T17:01:09.203908Z"
    }
   },
   "cell_type": "code",
   "source": [
    "plt.style.use('seaborn-white')\n",
    "plt.box(False)\n",
    "sns.boxplot(data=df_8)\n",
    "plt.xlabel('Error')\n",
    "plt.savefig('plots/RQ2_mode/moco_walk_error_rf_ann_m5_m6.png')\n"
   ],
   "id": "c7adfafa11e33bca",
   "outputs": [
    {
     "name": "stderr",
     "output_type": "stream",
     "text": [
      "C:\\Users\\berha\\AppData\\Local\\Temp\\ipykernel_15628\\3780904710.py:1: MatplotlibDeprecationWarning: The seaborn styles shipped by Matplotlib are deprecated since 3.6, as they no longer correspond to the styles shipped by seaborn. However, they will remain available as 'seaborn-v0_8-<style>'. Alternatively, directly use the seaborn API instead.\n",
      "  plt.style.use('seaborn-white')\n"
     ]
    },
    {
     "data": {
      "text/plain": [
       "<Figure size 640x480 with 1 Axes>"
      ],
      "image/png": "[encoded data removed]"
     },
     "metadata": {},
     "output_type": "display_data"
    }
   ],
   "execution_count": 67
  },
  {
   "metadata": {
    "ExecuteTime": {
     "end_time": "2025-03-31T14:28:23.438579Z",
     "start_time": "2025-03-31T14:28:23.426430Z"
    }
   },
   "cell_type": "code",
   "source": "",
   "id": "70e9e071186fd5cb",
   "outputs": [],
   "execution_count": null
  }
 ],
 "metadata": {
  "kernelspec": {
   "display_name": "Python 3",
   "language": "python",
   "name": "python3"
  },
  "language_info": {
   "codemirror_mode": {
    "name": "ipython",
    "version": 2
   },
   "file_extension": ".py",
   "mimetype": "text/x-python",
   "name": "python",
   "nbconvert_exporter": "python",
   "pygments_lexer": "ipython2",
   "version": "2.7.6"
  }
 },
 "nbformat": 4,
 "nbformat_minor": 5
}
